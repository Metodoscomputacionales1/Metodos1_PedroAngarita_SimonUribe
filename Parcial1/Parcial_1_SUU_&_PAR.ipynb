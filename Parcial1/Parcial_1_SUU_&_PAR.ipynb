{
  "nbformat": 4,
  "nbformat_minor": 0,
  "metadata": {
    "colab": {
      "provenance": [],
      "authorship_tag": "ABX9TyOhHpLNgUIQ437xJeNw6H+T",
      "include_colab_link": true
    },
    "kernelspec": {
      "name": "python3",
      "display_name": "Python 3"
    },
    "language_info": {
      "name": "python"
    }
  },
  "cells": [
    {
      "cell_type": "markdown",
      "metadata": {
        "id": "view-in-github",
        "colab_type": "text"
      },
      "source": [
        "<a href=\"https://colab.research.google.com/github/Metodoscomputacionales1/Metodos1_PedroAngarita_SimonUribe/blob/main/Parcial1/Parcial_1_SUU_%26_PAR.ipynb\" target=\"_parent\"><img src=\"https://colab.research.google.com/assets/colab-badge.svg\" alt=\"Open In Colab\"/></a>"
      ]
    },
    {
      "cell_type": "code",
      "execution_count": 78,
      "metadata": {
        "colab": {
          "base_uri": "https://localhost:8080/"
        },
        "id": "7h12ixBYFWb7",
        "outputId": "69ad212f-5289-4317-8406-8d4cd521e93b"
      },
      "outputs": [
        {
          "output_type": "stream",
          "name": "stdout",
          "text": [
            "[(-x*exp(-x) + exp(-x))*exp(x), x**2/2 - 2*x + 1, -x**3/6 + 3*x**2/2 - 3*x + 1, x**4/24 - 2*x**3/3 + 3*x**2 - 4*x + 1, -x**5/120 + 5*x**4/24 - 5*x**3/3 + 5*x**2 - 5*x + 1]\n",
            "[1.00000000000000]\n",
            "[0.58578644 3.41421356]\n",
            "[0.41577456 0.41577456 2.29428036]\n",
            "[0.32254769 0.32254769 1.7457611  4.5366203 ]\n",
            "[0.26356032 0.26356032 0.26356032 1.41340306 1.41340306 3.59642577\n",
            " 3.59642577 3.59642577]\n"
          ]
        }
      ],
      "source": [
        "import numpy as np\n",
        "import matplotlib.pyplot as plt\n",
        "import sympy as sym\n",
        "\n",
        "def factorial(n):\n",
        "\n",
        "  if n==0 or n == 1:\n",
        "    return 1\n",
        "\n",
        "  else:\n",
        "\n",
        "    f = 1\n",
        "    it = 1 # Iterador\n",
        "    while it <= n:\n",
        "      f *= it\n",
        "      it += 1\n",
        "\n",
        "    return f\n",
        "\n",
        "def GetNewtonMethod(f,df,xn,itmax=1000,precision=1e-16):\n",
        "\n",
        "  error = 1\n",
        "  it = 0\n",
        "\n",
        "  while error > precision and it < itmax:\n",
        "    try:\n",
        "      xn1 = xn - f(xn)/df(f,xn)\n",
        "      error = np.abs(f(xn)/df(f,xn))\n",
        "    except ZeroDivisionError:\n",
        "      print('Division by zero error')\n",
        "    xn = xn1\n",
        "    it += 1\n",
        "\n",
        "  if it == itmax:\n",
        "    return False\n",
        "  else:\n",
        "    return xn\n",
        "\n",
        "def GetAllRoots(x,f, df, tolerancia = 16):\n",
        "\n",
        "  Roots = np.array([])\n",
        "\n",
        "  for i in x:\n",
        "\n",
        "    root = GetNewtonMethod(f,df,i)\n",
        "\n",
        "    if root != False:\n",
        "\n",
        "      croot =round(root, tolerancia)\n",
        "\n",
        "      if croot not in Roots:\n",
        "        Roots = np.append(Roots,croot)\n",
        "\n",
        "  Roots.sort()\n",
        "\n",
        "  return Roots\n",
        "\n",
        "def funcion (x):\n",
        "  return sym.exp(x)\n",
        "\n",
        "def Derivada(f,x,h=1e-5):\n",
        "  return (f(x+h) - f(x-h))/(2*h)\n",
        "\n",
        "def Lagerre (x,funcion,n):\n",
        "  polinomios=[]\n",
        "  for i in range(1,n):\n",
        "    base=funcion(x)/factorial(i)\n",
        "    f=(x**i)*sym.exp(-x)\n",
        "    polinomio=base*sym.diff(f,x,i)\n",
        "    polinomios.append(polinomio)\n",
        "  return polinomios\n",
        "\n",
        "x=sym.Symbol(\"x\", real=True)\n",
        "polinomios=Lagerre(x,funcion,6)\n",
        "X=np.linspace(-10,10,50)\n",
        "for i in range(len(polinomios)):\n",
        "  f=sym.lambdify(x,polinomios[i], \"sympy\")\n",
        "  print(GetAllRoots(X,f,Derivada))\n",
        "\n",
        "\n",
        "\n",
        "\n",
        "\n"
      ]
    },
    {
      "cell_type": "code",
      "source": [
        "#Conjuntos de soporte\n",
        "X=[0, np.pi/3, np.pi/2]\n",
        "\n",
        "def sen(x):\n",
        "  return np.sin(x)\n",
        "\n",
        "Y=sen(X)\n",
        "\n",
        "x = sym.Symbol('x',real=True)\n",
        "\n",
        "def Lagrange(x,X,i):\n",
        "\n",
        "  L = 1\n",
        "  for j in range(len(X)):\n",
        "    if i != j:\n",
        "      L *= (x-X[j])/(X[i]-X[j])\n",
        "  return L\n",
        "\n",
        "def Interpolate(x,X,Y):\n",
        "\n",
        "  Poly = 0\n",
        "  for i in range(len(X)):\n",
        "\n",
        "    Poly += Y[i]*Lagrange(x,X,i)\n",
        "  return Poly\n",
        "\n",
        "x0=np.linspace(X[0], X[-1], 50)\n",
        "y0=Interpolate(x0,X,Y)\n",
        "plt.plot(x0,y0)\n",
        "plt.scatter(X,Y, color=\"r\")\n",
        "plt.show()\n",
        "\n",
        "#Estimacion:\n",
        "I=Interpolate(x,X,Y)\n",
        "print(\"Estimacion: \")\n",
        "print(I.subs(x, np.pi/8))\n",
        "\n",
        "#Error:\n",
        "E=abs(np.sin(np.pi/8)-I.subs(x, np.pi/8))\n",
        "print(\"Eror: \")\n",
        "print(E)\n",
        "\n",
        "e=(sen(np.pi/8)*(x)*(x-np.pi/3)*(x-np.pi/2))/(24)\n",
        "print(\"Error teorico: \")\n",
        "print(e.subs(x,np.pi/8))\n",
        "print(\"No son muy consistentes\")\n"
      ],
      "metadata": {
        "colab": {
          "base_uri": "https://localhost:8080/",
          "height": 552
        },
        "id": "PascWi7bSNfj",
        "outputId": "1c49630e-e7e1-4e02-bd48-e8f400824889"
      },
      "execution_count": 114,
      "outputs": [
        {
          "output_type": "display_data",
          "data": {
            "text/plain": [
              "<Figure size 640x480 with 1 Axes>"
            ],
            "image/png": "[encoded data removed]"
          },
          "metadata": {}
        },
        {
          "output_type": "stream",
          "name": "stdout",
          "text": [
            "Estimacion: \n",
            "0.418208934443120\n",
            "Eror: \n",
            "0.0355255020780303\n",
            "Error teorico: \n",
            "0.00482812027379507\n",
            "No son muy consistentes\n"
          ]
        }
      ]
    }
  ]
}