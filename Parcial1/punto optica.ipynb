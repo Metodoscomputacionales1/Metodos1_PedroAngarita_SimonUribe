{
  "nbformat": 4,
  "nbformat_minor": 0,
  "metadata": {
    "colab": {
      "provenance": [],
      "authorship_tag": "ABX9TyP1ksv7JAjWylVxlLcOWu0d",
      "include_colab_link": true
    },
    "kernelspec": {
      "name": "python3",
      "display_name": "Python 3"
    },
    "language_info": {
      "name": "python"
    }
  },
  "cells": [
    {
      "cell_type": "markdown",
      "metadata": {
        "id": "view-in-github",
        "colab_type": "text"
      },
      "source": [
        "<a href=\"https://colab.research.google.com/github/Metodoscomputacionales1/Metodos1_PedroAngarita_SimonUribe/blob/main/Parcial1/punto%20optica.ipynb\" target=\"_parent\"><img src=\"https://colab.research.google.com/assets/colab-badge.svg\" alt=\"Open In Colab\"/></a>"
      ]
    },
    {
      "cell_type": "code",
      "execution_count": 51,
      "metadata": {
        "id": "WsM6-8U4H4yj"
      },
      "outputs": [],
      "source": [
        "import numpy as np\n",
        "import matplotlib.pyplot as plt\n",
        "import sympy as sym"
      ]
    },
    {
      "cell_type": "code",
      "source": [
        "def CentralDerivative(f,x,h=0.000001):\n",
        "\n",
        "  d = 0.\n",
        "\n",
        "  if h != 0:\n",
        "    d = (f(x+h) - f(x-h))/(2*h)\n",
        "\n",
        "  return d\n",
        ""
      ],
      "metadata": {
        "id": "2OHUWvR7IOgq"
      },
      "execution_count": 52,
      "outputs": []
    },
    {
      "cell_type": "code",
      "source": [
        "\n",
        "def SegundaDerivada(f,x,h=0.000001):\n",
        "  return (f(x+h) - 2*f(x) + f(x-h))/h**2\n",
        "\n"
      ],
      "metadata": {
        "id": "yCaxGTqOH7Gf"
      },
      "execution_count": 53,
      "outputs": []
    },
    {
      "cell_type": "code",
      "source": [
        "def f(x):\n",
        "  return (np.sqrt((np.square(x+3))+4))+(4*(np.sqrt((np.square(x-2)+np.square(-2))))/3)\n",
        ""
      ],
      "metadata": {
        "id": "QJyB-RUTTn4w"
      },
      "execution_count": 54,
      "outputs": []
    },
    {
      "cell_type": "code",
      "source": [
        "x=np.linspace(-10,10,100)\n",
        "plt.plot(x,f(x))"
      ],
      "metadata": {
        "colab": {
          "base_uri": "https://localhost:8080/",
          "height": 448
        },
        "id": "_hXvQXipX4uP",
        "outputId": "8382be7e-84f3-4c83-cab2-a111695eb57a"
      },
      "execution_count": 57,
      "outputs": [
        {
          "output_type": "execute_result",
          "data": {
            "text/plain": [
              "[<matplotlib.lines.Line2D at 0x7eb370e7af50>]"
            ]
          },
          "metadata": {},
          "execution_count": 57
        },
        {
          "output_type": "display_data",
          "data": {
            "text/plain": [
              "<Figure size 640x480 with 1 Axes>"
            ],
            "image/png": "[encoded data removed]"
          },
          "metadata": {}
        }
      ]
    },
    {
      "cell_type": "code",
      "source": [],
      "metadata": {
        "id": "Vgy8O5LJX3b1"
      },
      "execution_count": null,
      "outputs": []
    },
    {
      "cell_type": "code",
      "source": [
        "def funcion_deri(x):\n",
        "  return CentralDerivative(f,x)\n",
        "def doble_deri_funcion(x):\n",
        "  return SegundaDerivada(f,x)\n",
        "\n",
        "def GetNewtonMethod(f,df,xn,itmax=1000,precision=1e-9):\n",
        "\n",
        "  error = 1\n",
        "  it = 0\n",
        "\n",
        "  while error > precision and it < itmax:\n",
        "    try:\n",
        "      xn1 = xn - funcion_deri(xn)/doble_deri_funcion(xn)\n",
        "      error = np.abs(funcion_deri(xn)/doble_deri_funcion(xn))\n",
        "\n",
        "    except ZeroDivisionError:\n",
        "      print('Division by zero error')\n",
        "    xn = xn1\n",
        "    it += 1\n",
        "\n",
        "  if it == itmax:\n",
        "    return False\n",
        "  else:\n",
        "    return xn\n"
      ],
      "metadata": {
        "id": "scAKFCUoVHUk"
      },
      "execution_count": 55,
      "outputs": []
    },
    {
      "cell_type": "code",
      "source": [
        "a=GetNewtonMethod(funcion_deri,doble_deri_funcion,1,)\n",
        "\n",
        "a"
      ],
      "metadata": {
        "colab": {
          "base_uri": "https://localhost:8080/"
        },
        "id": "68p2PBdvWwuf",
        "outputId": "cc4283d5-edb9-41da-9d28-cd812694266a"
      },
      "execution_count": 58,
      "outputs": [
        {
          "output_type": "execute_result",
          "data": {
            "text/plain": [
              "0.3227387118886886"
            ]
          },
          "metadata": {},
          "execution_count": 58
        }
      ]
    },
    {
      "cell_type": "code",
      "source": [
        "#angulo de insicencia\n",
        "np.tan((3+a)/2)"
      ],
      "metadata": {
        "colab": {
          "base_uri": "https://localhost:8080/"
        },
        "id": "BpBihAkyYTKO",
        "outputId": "ff5b4f01-d618-45c1-93d7-7892a0ceea79"
      },
      "execution_count": 59,
      "outputs": [
        {
          "output_type": "execute_result",
          "data": {
            "text/plain": [
              "-11.010606816446435"
            ]
          },
          "metadata": {},
          "execution_count": 59
        }
      ]
    },
    {
      "cell_type": "code",
      "source": [
        "#angulo de salida\n",
        "np.tan((2-a)/2)"
      ],
      "metadata": {
        "colab": {
          "base_uri": "https://localhost:8080/"
        },
        "id": "ROeGFQ8XYv-O",
        "outputId": "3835ad1a-3ae2-41f7-f939-666931b7505f"
      },
      "execution_count": 60,
      "outputs": [
        {
          "output_type": "execute_result",
          "data": {
            "text/plain": [
              "1.1125633301601936"
            ]
          },
          "metadata": {},
          "execution_count": 60
        }
      ]
    },
    {
      "cell_type": "code",
      "source": [
        "(np.sin(1.1125633301601936))/np.sin(-11.010606816446435)"
      ],
      "metadata": {
        "colab": {
          "base_uri": "https://localhost:8080/"
        },
        "id": "RX7DWbJBY6Lj",
        "outputId": "32a1eaac-5d48-4a30-9941-a8910ebd7e50"
      },
      "execution_count": 61,
      "outputs": [
        {
          "output_type": "execute_result",
          "data": {
            "text/plain": [
              "0.8969368976563552"
            ]
          },
          "metadata": {},
          "execution_count": 61
        }
      ]
    },
    {
      "cell_type": "code",
      "source": [
        "3/4"
      ],
      "metadata": {
        "colab": {
          "base_uri": "https://localhost:8080/"
        },
        "id": "RhfnAVCQZKsB",
        "outputId": "c2ad1a49-264f-4fbe-9e2b-53ec4f96108d"
      },
      "execution_count": 62,
      "outputs": [
        {
          "output_type": "execute_result",
          "data": {
            "text/plain": [
              "0.75"
            ]
          },
          "metadata": {},
          "execution_count": 62
        }
      ]
    },
    {
      "cell_type": "code",
      "source": [
        "#es bastante cercano\n"
      ],
      "metadata": {
        "id": "I2FAk6v7ZNoY"
      },
      "execution_count": null,
      "outputs": []
    }
  ]
}