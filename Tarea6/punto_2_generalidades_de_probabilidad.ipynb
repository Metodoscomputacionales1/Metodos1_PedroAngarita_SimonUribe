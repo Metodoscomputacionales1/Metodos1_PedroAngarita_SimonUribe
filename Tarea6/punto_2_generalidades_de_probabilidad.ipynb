{
  "nbformat": 4,
  "nbformat_minor": 0,
  "metadata": {
    "colab": {
      "provenance": [],
      "authorship_tag": "ABX9TyMXJjSJDVKirzX5Sg0OnZJY",
      "include_colab_link": true
    },
    "kernelspec": {
      "name": "python3",
      "display_name": "Python 3"
    },
    "language_info": {
      "name": "python"
    }
  },
  "cells": [
    {
      "cell_type": "markdown",
      "metadata": {
        "id": "view-in-github",
        "colab_type": "text"
      },
      "source": [
        "<a href=\"https://colab.research.google.com/github/Metodoscomputacionales1/Metodos1_PedroAngarita_SimonUribe/blob/main/Tarea6/punto_2_generalidades_de_probabilidad.ipynb\" target=\"_parent\"><img src=\"https://colab.research.google.com/assets/colab-badge.svg\" alt=\"Open In Colab\"/></a>"
      ]
    },
    {
      "cell_type": "code",
      "execution_count": 1,
      "metadata": {
        "id": "5Q5lxAXkaLx6"
      },
      "outputs": [],
      "source": [
        "import numpy as np"
      ]
    },
    {
      "cell_type": "code",
      "source": [
        "#ejercicio dos"
      ],
      "metadata": {
        "id": "2g2SptJgbkZD"
      },
      "execution_count": null,
      "outputs": []
    },
    {
      "cell_type": "code",
      "source": [
        "#pensemos en el complemento de la probabilidad del complemento, principio multiplicativo\n"
      ],
      "metadata": {
        "id": "RBQzrOG2aQGh"
      },
      "execution_count": 3,
      "outputs": []
    },
    {
      "cell_type": "code",
      "source": [
        "primera_escogencia=48/50\n",
        "segunda_escogencia=47/49\n",
        "tercera_escogencia=46/48\n",
        "cuarta_escogencia=45/47\n",
        "quinta_escogencia=44/46"
      ],
      "metadata": {
        "id": "mxr7uoHQa5tC"
      },
      "execution_count": 12,
      "outputs": []
    },
    {
      "cell_type": "code",
      "source": [
        "1-(primera_escogencia*segunda_escogencia*tercera_escogencia*cuarta_escogencia*quinta_escogencia)"
      ],
      "metadata": {
        "colab": {
          "base_uri": "https://localhost:8080/"
        },
        "id": "0X2awU3nbM16",
        "outputId": "37b84cfa-ce22-4b36-b515-cfd479e33505"
      },
      "execution_count": 10,
      "outputs": [
        {
          "output_type": "execute_result",
          "data": {
            "text/plain": [
              "0.19183673469387763"
            ]
          },
          "metadata": {},
          "execution_count": 10
        }
      ]
    },
    {
      "cell_type": "code",
      "source": [
        "47/245"
      ],
      "metadata": {
        "colab": {
          "base_uri": "https://localhost:8080/"
        },
        "id": "Owk6ZgGYbZqZ",
        "outputId": "c76bc564-7ac5-4880-a53b-30d5834b4b78"
      },
      "execution_count": 11,
      "outputs": [
        {
          "output_type": "execute_result",
          "data": {
            "text/plain": [
              "0.19183673469387755"
            ]
          },
          "metadata": {},
          "execution_count": 11
        }
      ]
    },
    {
      "cell_type": "code",
      "source": [
        "\n"
      ],
      "metadata": {
        "id": "Sto3io2AbnBK"
      },
      "execution_count": 13,
      "outputs": []
    },
    {
      "cell_type": "code",
      "source": [],
      "metadata": {
        "id": "MRV1ARTzbwaI"
      },
      "execution_count": null,
      "outputs": []
    }
  ]
}