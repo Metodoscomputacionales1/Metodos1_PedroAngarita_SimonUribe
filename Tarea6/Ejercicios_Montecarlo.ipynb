{
  "nbformat": 4,
  "nbformat_minor": 0,
  "metadata": {
    "colab": {
      "provenance": [],
      "authorship_tag": "ABX9TyPpdZ3qFEt7q0fV5zsih0FU",
      "include_colab_link": true
    },
    "kernelspec": {
      "name": "python3",
      "display_name": "Python 3"
    },
    "language_info": {
      "name": "python"
    }
  },
  "cells": [
    {
      "cell_type": "markdown",
      "metadata": {
        "id": "view-in-github",
        "colab_type": "text"
      },
      "source": [
        "<a href=\"https://colab.research.google.com/github/Metodoscomputacionales1/Metodos1_PedroAngarita_SimonUribe/blob/main/Tarea6/Ejercicios_Montecarlo.ipynb\" target=\"_parent\"><img src=\"https://colab.research.google.com/assets/colab-badge.svg\" alt=\"Open In Colab\"/></a>"
      ]
    },
    {
      "cell_type": "code",
      "execution_count": 7,
      "metadata": {
        "id": "hd_muSxyU51g"
      },
      "outputs": [],
      "source": [
        "import numpy as np"
      ]
    },
    {
      "cell_type": "code",
      "source": [
        "n=10000\n",
        "x=np.random.uniform(-1,1, size=(n))\n",
        "y=np.random.uniform(-1,1, size=(n))\n",
        "z=np.random.uniform(-1,1, size=(n))\n",
        "xn=[]\n",
        "yn=[]\n",
        "zn=[]\n",
        "N=0\n",
        "for i in range(n):\n",
        "  if x[i]**2+y[i]**2+z[i]**2<=1:\n",
        "      xn.append(x[i])\n",
        "      yn.append(y[i])\n",
        "      zn.append(z[i])\n",
        "      N+=1\n",
        "\n",
        "\n",
        "xn=np.array(xn)\n",
        "yn=np.array(yn)\n",
        "zn=np.array(zn)\n",
        "\n",
        "I1=0\n",
        "I2=0\n",
        "I3=0\n",
        "I4=0\n",
        "\n",
        "for i in range(N):\n",
        "  for j in range(N):\n",
        "    if i==j:\n",
        "      I1+=yn[i]**2+zn[j]**2\n",
        "      I2+=xn[i]**2+zn[j]**2\n",
        "      I3+=xn[i]**2+yn[i]**2\n",
        "    if i!=j:\n",
        "      I4+=zn[i]*zn[j]\n",
        "\n",
        "I1=I1/N\n",
        "I2=I2/N\n",
        "I3=I3/N\n",
        "I4=-I4/N*2\n",
        "\n",
        "integral1=I1\n",
        "integral2=I2\n",
        "integral3=I3\n",
        "integral4=I4\n",
        "print(2/5,integral1, integral2, integral3, integral4)"
      ],
      "metadata": {
        "colab": {
          "base_uri": "https://localhost:8080/"
        },
        "id": "VuGrczkGU-c1",
        "outputId": "39d87ab6-4ef6-4ebd-b872-549b5ea8cb90"
      },
      "execution_count": 17,
      "outputs": [
        {
          "output_type": "stream",
          "name": "stdout",
          "text": [
            "0.4 0.3909928791686707 0.3990245903055377 0.40107310036458077 0.37134197538091657\n"
          ]
        }
      ]
    },
    {
      "cell_type": "code",
      "source": [
        "#Si, efectivamente con un numero significativo de puntos el resultado del momento de inercia en el eje x (Ixx) si es igual 2/5, siempre y cuando se use una cantidad considerable de puntos.\n",
        "#Ademas el hecho de que el momento de inercia sea el mismo en cada cordenada cartesiana muestra la siemetria de la esfera."
      ],
      "metadata": {
        "id": "0VLMxpqwZ4lE"
      },
      "execution_count": 9,
      "outputs": []
    },
    {
      "cell_type": "code",
      "source": [
        "#Incluso mas alla usando la funcion apropiada, se puede ver como en el eje combinado xy tambien esta el mismo momento de inercia por lo que se demuestra la simetria tridemencional esferica"
      ],
      "metadata": {
        "id": "UwGFFKGhaeai"
      },
      "execution_count": 10,
      "outputs": []
    },
    {
      "cell_type": "code",
      "source": [
        "#Ejercicio 9:\n",
        "import sympy as sym\n",
        "x=np.linspace(0,1,100000)\n",
        "def Gama(x,a,b):\n",
        "  c=a+b\n",
        "  base=sym.factorial(c-1)/(sym.factorial(a-1)*sym.factorial(b-1))\n",
        "  return base*(x**(a-1)*((1-x)**b))\n",
        "\n",
        "G=Gama(x,2,4)\n",
        "y=np.linspace(0,float(G.max()),100000)\n",
        "xfinal=[]\n",
        "it=0\n",
        "for i in range(100000):\n",
        "  if G[i]>y[i]:\n",
        "    xfinal.append(x[i])\n",
        "    it+=1\n",
        "xfinal=np.array(xfinal)\n",
        "Gf=Gama(xfinal,2,4).sum()\n",
        "I=Gf/it\n",
        "print(I)"
      ],
      "metadata": {
        "colab": {
          "base_uri": "https://localhost:8080/"
        },
        "id": "n7Myc6hji-uj",
        "outputId": "2c31b9de-5a95-49bf-cd56-405f2a789458"
      },
      "execution_count": 21,
      "outputs": [
        {
          "output_type": "stream",
          "name": "stdout",
          "text": [
            "1.22475784167445\n"
          ]
        }
      ]
    },
    {
      "cell_type": "code",
      "source": [],
      "metadata": {
        "id": "P_fzoJr6jmD8"
      },
      "execution_count": 11,
      "outputs": []
    }
  ]
}