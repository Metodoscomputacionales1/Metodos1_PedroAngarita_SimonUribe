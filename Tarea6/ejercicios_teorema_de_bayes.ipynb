{
  "nbformat": 4,
  "nbformat_minor": 0,
  "metadata": {
    "colab": {
      "provenance": [],
      "authorship_tag": "ABX9TyNdsbS32Czjl7n5SXXWBhsm",
      "include_colab_link": true
    },
    "kernelspec": {
      "name": "python3",
      "display_name": "Python 3"
    },
    "language_info": {
      "name": "python"
    }
  },
  "cells": [
    {
      "cell_type": "markdown",
      "metadata": {
        "id": "view-in-github",
        "colab_type": "text"
      },
      "source": [
        "<a href=\"https://colab.research.google.com/github/Metodoscomputacionales1/Metodos1_PedroAngarita_SimonUribe/blob/main/Tarea6/ejercicios_teorema_de_bayes.ipynb\" target=\"_parent\"><img src=\"https://colab.research.google.com/assets/colab-badge.svg\" alt=\"Open In Colab\"/></a>"
      ]
    },
    {
      "cell_type": "code",
      "execution_count": 146,
      "metadata": {
        "id": "Dhal-hO5nadn"
      },
      "outputs": [],
      "source": [
        "import numpy as np\n",
        "import matplotlib.pyplot as plt"
      ]
    },
    {
      "cell_type": "code",
      "source": [
        "def total(probabilidades_apriori, probabilidades_condicional):\n",
        "  return np.dot(probabilidades_apriori,probabilidades_condicional)"
      ],
      "metadata": {
        "id": "QEghhDVMt74E"
      },
      "execution_count": 31,
      "outputs": []
    },
    {
      "cell_type": "code",
      "source": [
        "a=np.array([0.5,0.3,0.45])\n",
        "b=np.array([0.3,0.2,0.5])"
      ],
      "metadata": {
        "id": "36YR2Hx4v8NP"
      },
      "execution_count": 32,
      "outputs": []
    },
    {
      "cell_type": "code",
      "source": [
        "totaal=total(a,b)\n",
        "totaal"
      ],
      "metadata": {
        "colab": {
          "base_uri": "https://localhost:8080/"
        },
        "id": "VHyzX8AowZ0m",
        "outputId": "b4dd143c-903d-4e40-df3b-451d5422b403"
      },
      "execution_count": 33,
      "outputs": [
        {
          "output_type": "execute_result",
          "data": {
            "text/plain": [
              "0.435"
            ]
          },
          "metadata": {},
          "execution_count": 33
        }
      ]
    },
    {
      "cell_type": "code",
      "source": [
        "def bayes(total,Ai,Ai_tal_que):\n",
        "  return Ai*Ai_tal_que/total"
      ],
      "metadata": {
        "id": "TCA3zDPOvzlO"
      },
      "execution_count": 34,
      "outputs": []
    },
    {
      "cell_type": "code",
      "source": [
        "bayes(totaal,0.3,0.2)"
      ],
      "metadata": {
        "colab": {
          "base_uri": "https://localhost:8080/"
        },
        "id": "LVXU_zJMwdsg",
        "outputId": "24b9cdb3-393d-4fc2-bbb0-e21d04100a23"
      },
      "execution_count": 36,
      "outputs": [
        {
          "output_type": "execute_result",
          "data": {
            "text/plain": [
              "0.13793103448275862"
            ]
          },
          "metadata": {},
          "execution_count": 36
        }
      ]
    },
    {
      "cell_type": "code",
      "source": [
        "#Un medico ha observado que el 40% de sus pacientes fuma. De este 40% el 75% son\n",
        "#hombres. Entre los pacientes que no fuman, el 60% son mujeres. Si se selecciona un\n",
        "#paciente al azar:"
      ],
      "metadata": {
        "id": "IiId5THqudLH"
      },
      "execution_count": 37,
      "outputs": []
    },
    {
      "cell_type": "code",
      "source": [
        "h_sobre_f=0.75\n",
        "m_sobre_f=0.25\n",
        "m_sobre_Nf=0.6\n",
        "H_sobreNf=0.4\n",
        "f=0.4\n",
        "Nf=0.6"
      ],
      "metadata": {
        "id": "G_wKHiwlvx7C"
      },
      "execution_count": 38,
      "outputs": []
    },
    {
      "cell_type": "code",
      "source": [
        "#probabilidad de mujer\n",
        "P_M=total(np.array([m_sobre_Nf,m_sobre_f]),np.array([Nf,f]))\n",
        "P_M"
      ],
      "metadata": {
        "colab": {
          "base_uri": "https://localhost:8080/"
        },
        "id": "oJFQYKzWxNmo",
        "outputId": "bc4b25c4-fcd2-40d4-8f6e-cd53053adbab"
      },
      "execution_count": 40,
      "outputs": [
        {
          "output_type": "execute_result",
          "data": {
            "text/plain": [
              "0.45999999999999996"
            ]
          },
          "metadata": {},
          "execution_count": 40
        }
      ]
    },
    {
      "cell_type": "code",
      "source": [
        "#hombre fumador\n",
        "f*h_sobre_f"
      ],
      "metadata": {
        "colab": {
          "base_uri": "https://localhost:8080/"
        },
        "id": "65u5578NxSkP",
        "outputId": "1308d143-8e06-45c9-b659-b527484012b1"
      },
      "execution_count": 42,
      "outputs": [
        {
          "output_type": "execute_result",
          "data": {
            "text/plain": [
              "0.30000000000000004"
            ]
          },
          "metadata": {},
          "execution_count": 42
        }
      ]
    },
    {
      "cell_type": "code",
      "source": [
        "#mujer fume\n",
        "bayes(P_M,f,m_sobre_f)"
      ],
      "metadata": {
        "colab": {
          "base_uri": "https://localhost:8080/"
        },
        "id": "nSX2Suw8y1Gn",
        "outputId": "be1a79a0-7ca2-48a4-e389-0753c67a85f1"
      },
      "execution_count": 43,
      "outputs": [
        {
          "output_type": "execute_result",
          "data": {
            "text/plain": [
              "0.2173913043478261"
            ]
          },
          "metadata": {},
          "execution_count": 43
        }
      ]
    },
    {
      "cell_type": "code",
      "source": [
        "#Punto 2\n",
        "#distribucion promedio punto entre el numero de suceso y su probabilidad\n",
        "h=np.array([1,2,3,4])\n",
        "PH=np.array([0.4,0.3,0.2,0.1])\n",
        "landas=np.array([1,2,3,4])\n",
        "h@PH"
      ],
      "metadata": {
        "colab": {
          "base_uri": "https://localhost:8080/"
        },
        "id": "7z2wpx9YzLZT",
        "outputId": "7feedee0-e344-4f7a-d5d6-281ecfcc9366"
      },
      "execution_count": 86,
      "outputs": [
        {
          "output_type": "execute_result",
          "data": {
            "text/plain": [
              "2.0"
            ]
          },
          "metadata": {},
          "execution_count": 86
        }
      ]
    },
    {
      "cell_type": "code",
      "source": [
        "from scipy.special import factorial\n",
        "def poison (x,landa):\n",
        "  return np.exp(-landa)*(landa**x)/factorial(x)"
      ],
      "metadata": {
        "id": "PUumQsbA1OKd"
      },
      "execution_count": 87,
      "outputs": []
    },
    {
      "cell_type": "code",
      "source": [
        "#verisimilitud para cada landa sabiendo que se observaron 4 estudiantes\n",
        "j=poison(4,landas)\n",
        "j\n"
      ],
      "metadata": {
        "colab": {
          "base_uri": "https://localhost:8080/"
        },
        "id": "yCfioX-nHP7x",
        "outputId": "d8ef9b5c-1a16-48b7-b18c-9f94c3ddf183"
      },
      "execution_count": 97,
      "outputs": [
        {
          "output_type": "execute_result",
          "data": {
            "text/plain": [
              "array([0.01532831, 0.09022352, 0.16803136, 0.19536681])"
            ]
          },
          "metadata": {},
          "execution_count": 97
        }
      ]
    },
    {
      "cell_type": "code",
      "source": [
        "#\"probabilidad todal\" o producto punto entre la verisimilitud de cada landa con su probabilidad\n",
        "I=total(poison(4,landas),PH)\n",
        "I"
      ],
      "metadata": {
        "colab": {
          "base_uri": "https://localhost:8080/"
        },
        "id": "E8p8KJlRHbRU",
        "outputId": "ec1ef94f-9d39-48ed-9df7-95ee4d60ef9d"
      },
      "execution_count": 101,
      "outputs": [
        {
          "output_type": "execute_result",
          "data": {
            "text/plain": [
              "0.0863413332964712"
            ]
          },
          "metadata": {},
          "execution_count": 101
        }
      ]
    },
    {
      "cell_type": "code",
      "source": [
        "Y=j*PH/I #distribucion posterior para cada landa, el mejor que lo describe es landa=3\n",
        "Y"
      ],
      "metadata": {
        "colab": {
          "base_uri": "https://localhost:8080/"
        },
        "id": "Cm3t_NX_HnqU",
        "outputId": "1ab03464-eff2-4b39-937b-658c2abab206"
      },
      "execution_count": 107,
      "outputs": [
        {
          "output_type": "execute_result",
          "data": {
            "text/plain": [
              "array([0.07101262, 0.31348898, 0.38922576, 0.22627264])"
            ]
          },
          "metadata": {},
          "execution_count": 107
        }
      ]
    },
    {
      "cell_type": "code",
      "source": [
        "np.sum(Y)#efectivamente esta"
      ],
      "metadata": {
        "colab": {
          "base_uri": "https://localhost:8080/"
        },
        "id": "fk43EJcNHrr8",
        "outputId": "feedaef7-ed1b-4b83-91e0-daf7d03f880f"
      },
      "execution_count": 108,
      "outputs": [
        {
          "output_type": "execute_result",
          "data": {
            "text/plain": [
              "1.0"
            ]
          },
          "metadata": {},
          "execution_count": 108
        }
      ]
    },
    {
      "cell_type": "code",
      "source": [
        "#mejor landa esperado\n",
        "total(landas,Y)"
      ],
      "metadata": {
        "colab": {
          "base_uri": "https://localhost:8080/"
        },
        "id": "zwFYmYrEBQK_",
        "outputId": "4dfdc9fd-2a52-4bdc-d906-bcd3e153c551"
      },
      "execution_count": 112,
      "outputs": [
        {
          "output_type": "execute_result",
          "data": {
            "text/plain": [
              "2.7707584253176796"
            ]
          },
          "metadata": {},
          "execution_count": 112
        }
      ]
    },
    {
      "cell_type": "code",
      "source": [
        "#ya que la probabilidad de dos eventos independientes es el producto de sus probabilidades, el likelihood de dos observaciones independientes\n",
        "#es la multiplicacion de sus verisimilitudes"
      ],
      "metadata": {
        "id": "73QuFUPrNBR6"
      },
      "execution_count": 113,
      "outputs": []
    },
    {
      "cell_type": "code",
      "source": [
        "def poisoon2(x,landa):\n",
        "  Z=1\n",
        "  for i in range(len(x)):\n",
        "    Z*=np.exp(-landa)*(landa**x[i])/factorial(x[i])\n",
        "  return Z"
      ],
      "metadata": {
        "id": "cj2NY6PJQKUC"
      },
      "execution_count": 124,
      "outputs": []
    },
    {
      "cell_type": "code",
      "source": [
        "#a el landa inicial porque la prediccion a priori no cambia\n",
        "#Landa=2.0\n",
        "#B\n",
        "#verisimilitud para cada landa sabiendo que se observaron 4 estudiantes y el otro dia se observaron 5\n",
        "VERI=poisoon2([4,5],landas)\n",
        "VERI"
      ],
      "metadata": {
        "colab": {
          "base_uri": "https://localhost:8080/"
        },
        "id": "_GO6C12TQcWI",
        "outputId": "9a9336a6-1e30-4a83-b901-7b871b0a9c93"
      },
      "execution_count": 133,
      "outputs": [
        {
          "output_type": "execute_result",
          "data": {
            "text/plain": [
              "array([4.69914178e-05, 3.25611358e-03, 1.69407219e-02, 3.05345539e-02])"
            ]
          },
          "metadata": {},
          "execution_count": 133
        }
      ]
    },
    {
      "cell_type": "code",
      "source": [],
      "metadata": {
        "id": "_fTpHw47Ttjp"
      },
      "execution_count": null,
      "outputs": []
    },
    {
      "cell_type": "code",
      "source": [
        "#producto punto entre verisimilitudes con likelihood conjunto\n",
        "S=total(VERI,PH)\n",
        "S"
      ],
      "metadata": {
        "colab": {
          "base_uri": "https://localhost:8080/"
        },
        "id": "_KItd5VBR83F",
        "outputId": "19b65cea-90a0-47e4-e93d-e0afa803639c"
      },
      "execution_count": 134,
      "outputs": [
        {
          "output_type": "execute_result",
          "data": {
            "text/plain": [
              "0.007437230409082155"
            ]
          },
          "metadata": {},
          "execution_count": 134
        }
      ]
    },
    {
      "cell_type": "code",
      "source": [
        "#calculo de las posteriores, el mejor que lo describe es landa =3\n",
        "HH=VERI*PH/S\n",
        "HH"
      ],
      "metadata": {
        "colab": {
          "base_uri": "https://localhost:8080/"
        },
        "id": "d_Cp3pwPTQuG",
        "outputId": "9e811e12-734c-48c3-908e-b1839eaa7469"
      },
      "execution_count": 148,
      "outputs": [
        {
          "output_type": "execute_result",
          "data": {
            "text/plain": [
              "array([0.00252736, 0.1313438 , 0.45556534, 0.41056351])"
            ]
          },
          "metadata": {},
          "execution_count": 148
        }
      ]
    },
    {
      "cell_type": "code",
      "source": [
        "#comprobar normalizacion"
      ],
      "metadata": {
        "id": "35h2FLIVTWov"
      },
      "execution_count": 149,
      "outputs": []
    },
    {
      "cell_type": "code",
      "source": [
        "np.sum(HH)"
      ],
      "metadata": {
        "colab": {
          "base_uri": "https://localhost:8080/"
        },
        "id": "JWbKUdRBTxkp",
        "outputId": "b9724fc3-386f-4f19-aba5-50c9138a818d"
      },
      "execution_count": 150,
      "outputs": [
        {
          "output_type": "execute_result",
          "data": {
            "text/plain": [
              "1.0"
            ]
          },
          "metadata": {},
          "execution_count": 150
        }
      ]
    },
    {
      "cell_type": "code",
      "source": [
        "#mejor parametro\n",
        "total(landas,HH)"
      ],
      "metadata": {
        "colab": {
          "base_uri": "https://localhost:8080/"
        },
        "id": "tl0JdmsVTz6l",
        "outputId": "90ebf3ea-dfe2-49f9-f872-bd06c590336b"
      },
      "execution_count": 151,
      "outputs": [
        {
          "output_type": "execute_result",
          "data": {
            "text/plain": [
              "3.274164986959538"
            ]
          },
          "metadata": {},
          "execution_count": 151
        }
      ]
    },
    {
      "cell_type": "code",
      "source": [
        "np.sum(D)"
      ],
      "metadata": {
        "colab": {
          "base_uri": "https://localhost:8080/"
        },
        "id": "-4p3PrHCtyXK",
        "outputId": "fdc6263e-7199-4074-a5e0-bd008248000c"
      },
      "execution_count": 152,
      "outputs": [
        {
          "output_type": "execute_result",
          "data": {
            "text/plain": [
              "1.0"
            ]
          },
          "metadata": {},
          "execution_count": 152
        }
      ]
    },
    {
      "cell_type": "code",
      "source": [
        "#densidad apriori\n",
        "[electron,proton,alpha]=[0.9,0.6,0.2]"
      ],
      "metadata": {
        "id": "6CLP15o7txo1"
      },
      "execution_count": 153,
      "outputs": []
    },
    {
      "cell_type": "code",
      "source": [
        "#4\n",
        "PD_e=0.9\n",
        "PD_p=0.6\n",
        "PD_a=0.2\n",
        "#como el flujo de electrones es dos veces mayor al flujo de protonos y particulas alfa entonces:\n",
        "Pe=0.5\n",
        "Pa=0.25\n",
        "Pp=0.25\n",
        "#probabilidad a prior de deteccion\n",
        "PD=total(np.array([PD_e,PD_p,PD_a]),np.array([Pe,Pp,Pa]))\n",
        "PD\n"
      ],
      "metadata": {
        "colab": {
          "base_uri": "https://localhost:8080/"
        },
        "id": "4oRD9xfJT6Yk",
        "outputId": "9bb980f4-cc47-4dd8-d520-b5de27f10aab"
      },
      "execution_count": 154,
      "outputs": [
        {
          "output_type": "execute_result",
          "data": {
            "text/plain": [
              "0.65"
            ]
          },
          "metadata": {},
          "execution_count": 154
        }
      ]
    },
    {
      "cell_type": "code",
      "source": [
        "#4\n",
        "#probabilidad de detectar cada particula[e,p,a]\n",
        "D=np.array([0.9,0.6,0.2])*np.array([0.5,0.25,0.25])/0.65\n",
        "D"
      ],
      "metadata": {
        "colab": {
          "base_uri": "https://localhost:8080/"
        },
        "id": "QeNIDSEZtOK3",
        "outputId": "6f3b8fbe-1dca-48cd-af52-beeab94a9b77"
      },
      "execution_count": 155,
      "outputs": [
        {
          "output_type": "execute_result",
          "data": {
            "text/plain": [
              "array([0.69230769, 0.23076923, 0.07692308])"
            ]
          },
          "metadata": {},
          "execution_count": 155
        }
      ]
    },
    {
      "cell_type": "code",
      "source": [
        "plt.stem(D)"
      ],
      "metadata": {
        "colab": {
          "base_uri": "https://localhost:8080/",
          "height": 448
        },
        "id": "2meUiGKusACJ",
        "outputId": "b49669ea-11a7-4bb2-9df4-f2cc4ae85b3f"
      },
      "execution_count": 158,
      "outputs": [
        {
          "output_type": "execute_result",
          "data": {
            "text/plain": [
              "<StemContainer object of 3 artists>"
            ]
          },
          "metadata": {},
          "execution_count": 158
        },
        {
          "output_type": "display_data",
          "data": {
            "text/plain": [
              "<Figure size 640x480 with 1 Axes>"
            ],
            "image/png": "[encoded data removed]"
          },
          "metadata": {}
        }
      ]
    },
    {
      "cell_type": "code",
      "source": [],
      "metadata": {
        "id": "XOP-x_XyxvPW"
      },
      "execution_count": 156,
      "outputs": []
    }
  ]
}