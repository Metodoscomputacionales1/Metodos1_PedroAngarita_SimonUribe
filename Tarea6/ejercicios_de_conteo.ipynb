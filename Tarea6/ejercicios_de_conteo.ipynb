{
  "nbformat": 4,
  "nbformat_minor": 0,
  "metadata": {
    "colab": {
      "provenance": [],
      "authorship_tag": "ABX9TyP7auWnq+H1bzBpmGaXA2gW",
      "include_colab_link": true
    },
    "kernelspec": {
      "name": "python3",
      "display_name": "Python 3"
    },
    "language_info": {
      "name": "python"
    }
  },
  "cells": [
    {
      "cell_type": "markdown",
      "metadata": {
        "id": "view-in-github",
        "colab_type": "text"
      },
      "source": [
        "<a href=\"https://colab.research.google.com/github/Metodoscomputacionales1/Metodos1_PedroAngarita_SimonUribe/blob/main/Tarea6/ejercicios_de_conteo.ipynb\" target=\"_parent\"><img src=\"https://colab.research.google.com/assets/colab-badge.svg\" alt=\"Open In Colab\"/></a>"
      ]
    },
    {
      "cell_type": "code",
      "execution_count": 67,
      "metadata": {
        "id": "P5eZJBfP0_JJ"
      },
      "outputs": [],
      "source": [
        "import numpy as np\n",
        "import matplotlib.pyplot as plt\n",
        "import math\n",
        "import sympy as sym"
      ]
    },
    {
      "cell_type": "code",
      "source": [
        "def varia(n,r,c):\n",
        "  if c==True:\n",
        "    return int(n**r)\n",
        "  else:\n",
        "    return int(math.factorial(n)/(math.factorial(n-r)))"
      ],
      "metadata": {
        "id": "GcGsMchO1Ay5"
      },
      "execution_count": 20,
      "outputs": []
    },
    {
      "cell_type": "code",
      "source": [
        "def perm(n,x):\n",
        "  i=1\n",
        "  if x!=None:\n",
        "      for r in range(len(x)):\n",
        "        i*=math.factorial(x[r])\n",
        "\n",
        "\n",
        "  return int(math.factorial (n)/i )\n"
      ],
      "metadata": {
        "id": "beBPd8lh14cU"
      },
      "execution_count": 21,
      "outputs": []
    },
    {
      "cell_type": "code",
      "source": [
        "def combina(n,r,c):\n",
        "  if c==True:\n",
        "    return int(math.factorial(n+r-1)/(math.factorial(n-1)*math.factorial(r)))\n",
        "  else:\n",
        "    return int(math.factorial(n)/(math.factorial(n-r)*math.factorial(r)))"
      ],
      "metadata": {
        "id": "1mcbN8fi76CY"
      },
      "execution_count": 22,
      "outputs": []
    },
    {
      "cell_type": "code",
      "source": [
        "def combinaciones_multiples(n,z):\n",
        "  j=0\n",
        "  for i in range(len(z)):\n",
        "    j+=(combina(n,z[i],False))\n",
        "  return j"
      ],
      "metadata": {
        "id": "innLI0TBCLxV"
      },
      "execution_count": 56,
      "outputs": []
    },
    {
      "cell_type": "code",
      "source": [
        "#Punto 1\n",
        "perm(3,None)"
      ],
      "metadata": {
        "colab": {
          "base_uri": "https://localhost:8080/"
        },
        "id": "nCWBhav_9-t9",
        "outputId": "ae847fa7-2432-44bd-e211-53b043765445"
      },
      "execution_count": 27,
      "outputs": [
        {
          "output_type": "execute_result",
          "data": {
            "text/plain": [
              "6"
            ]
          },
          "metadata": {},
          "execution_count": 27
        }
      ]
    },
    {
      "cell_type": "code",
      "source": [
        "#Punto 2\n",
        "combina(3,2,False)"
      ],
      "metadata": {
        "colab": {
          "base_uri": "https://localhost:8080/"
        },
        "id": "BTfv4Vda-V2k",
        "outputId": "56f1bbb6-2bbb-41e7-c7c0-35d79610d365"
      },
      "execution_count": 24,
      "outputs": [
        {
          "output_type": "execute_result",
          "data": {
            "text/plain": [
              "3"
            ]
          },
          "metadata": {},
          "execution_count": 24
        }
      ]
    },
    {
      "cell_type": "code",
      "source": [
        "#punto 3\n",
        "perm(5,None)"
      ],
      "metadata": {
        "colab": {
          "base_uri": "https://localhost:8080/"
        },
        "id": "cTz4VoFI-1j3",
        "outputId": "91969769-63e1-4e68-969d-daca2b38068f"
      },
      "execution_count": 25,
      "outputs": [
        {
          "output_type": "execute_result",
          "data": {
            "text/plain": [
              "120"
            ]
          },
          "metadata": {},
          "execution_count": 25
        }
      ]
    },
    {
      "cell_type": "code",
      "source": [
        "#punto 4\n",
        "varia(8,3,False)"
      ],
      "metadata": {
        "colab": {
          "base_uri": "https://localhost:8080/"
        },
        "id": "haRoRGm__Qi9",
        "outputId": "829a81c8-0135-48ce-da1f-316775fd59ff"
      },
      "execution_count": 26,
      "outputs": [
        {
          "output_type": "execute_result",
          "data": {
            "text/plain": [
              "336"
            ]
          },
          "metadata": {},
          "execution_count": 26
        }
      ]
    },
    {
      "cell_type": "code",
      "source": [
        "#punto 5\n",
        "combina(10,2,False)"
      ],
      "metadata": {
        "colab": {
          "base_uri": "https://localhost:8080/"
        },
        "id": "fCq_6M1C_gPl",
        "outputId": "954d0053-af88-4391-d7d2-0d69b06eb015"
      },
      "execution_count": 28,
      "outputs": [
        {
          "output_type": "execute_result",
          "data": {
            "text/plain": [
              "45"
            ]
          },
          "metadata": {},
          "execution_count": 28
        }
      ]
    },
    {
      "cell_type": "code",
      "source": [
        "#Punto 6\n",
        "varia(7,5,False)"
      ],
      "metadata": {
        "colab": {
          "base_uri": "https://localhost:8080/"
        },
        "id": "7QftNBET_-3C",
        "outputId": "544be8e3-52f6-49b7-e61b-98079efdee89"
      },
      "execution_count": 48,
      "outputs": [
        {
          "output_type": "execute_result",
          "data": {
            "text/plain": [
              "2520"
            ]
          },
          "metadata": {},
          "execution_count": 48
        }
      ]
    },
    {
      "cell_type": "code",
      "source": [
        "#Punto 7\n",
        "combina(10,2,False)"
      ],
      "metadata": {
        "colab": {
          "base_uri": "https://localhost:8080/"
        },
        "id": "mXxDEKOu__Ei",
        "outputId": "f613bc3d-b4b1-4657-8a1e-250bd27a894e"
      },
      "execution_count": 49,
      "outputs": [
        {
          "output_type": "execute_result",
          "data": {
            "text/plain": [
              "45"
            ]
          },
          "metadata": {},
          "execution_count": 49
        }
      ]
    },
    {
      "cell_type": "code",
      "source": [
        "#Punto 8\n",
        "perm(8,[2,3,2])"
      ],
      "metadata": {
        "colab": {
          "base_uri": "https://localhost:8080/"
        },
        "id": "VlIYp-br__lz",
        "outputId": "dc231721-a73f-4d08-9b13-77e937b41654"
      },
      "execution_count": 50,
      "outputs": [
        {
          "output_type": "execute_result",
          "data": {
            "text/plain": [
              "1680"
            ]
          },
          "metadata": {},
          "execution_count": 50
        }
      ]
    },
    {
      "cell_type": "code",
      "source": [
        "#Punto 9\n",
        "combina(11,6,False)"
      ],
      "metadata": {
        "colab": {
          "base_uri": "https://localhost:8080/"
        },
        "id": "GwJhUyJj__yW",
        "outputId": "18c75a64-aa77-4087-f9ed-06448c05009e"
      },
      "execution_count": 51,
      "outputs": [
        {
          "output_type": "execute_result",
          "data": {
            "text/plain": [
              "462"
            ]
          },
          "metadata": {},
          "execution_count": 51
        }
      ]
    },
    {
      "cell_type": "code",
      "source": [
        "#Punto 10\n",
        "combinaciones_multiples(4,[2,3,4])"
      ],
      "metadata": {
        "colab": {
          "base_uri": "https://localhost:8080/"
        },
        "id": "a_DiKnWb__83",
        "outputId": "8e54018f-0068-43ed-d8f2-8449d3bb0604"
      },
      "execution_count": 57,
      "outputs": [
        {
          "output_type": "execute_result",
          "data": {
            "text/plain": [
              "11"
            ]
          },
          "metadata": {},
          "execution_count": 57
        }
      ]
    },
    {
      "cell_type": "code",
      "source": [
        "#Punto 11\n",
        "varia(10,3,False)"
      ],
      "metadata": {
        "colab": {
          "base_uri": "https://localhost:8080/"
        },
        "id": "P0f17KC0AAFk",
        "outputId": "3ef01027-af98-4737-866b-53d00f0ab33f"
      },
      "execution_count": 58,
      "outputs": [
        {
          "output_type": "execute_result",
          "data": {
            "text/plain": [
              "720"
            ]
          },
          "metadata": {},
          "execution_count": 58
        }
      ]
    },
    {
      "cell_type": "code",
      "source": [
        "#Punto 12\n",
        "varia(8,2,False)"
      ],
      "metadata": {
        "colab": {
          "base_uri": "https://localhost:8080/"
        },
        "id": "PYVhUdsZAANu",
        "outputId": "ce9257c9-47e3-442e-90da-d39d319f1bc7"
      },
      "execution_count": 60,
      "outputs": [
        {
          "output_type": "execute_result",
          "data": {
            "text/plain": [
              "56"
            ]
          },
          "metadata": {},
          "execution_count": 60
        }
      ]
    },
    {
      "cell_type": "code",
      "source": [
        "#Punto 13\n",
        "varia(7,3,False)"
      ],
      "metadata": {
        "colab": {
          "base_uri": "https://localhost:8080/"
        },
        "id": "J00qVfNvAAWZ",
        "outputId": "0ece8641-b63d-45f4-d120-61f4b4e31a13"
      },
      "execution_count": 71,
      "outputs": [
        {
          "output_type": "execute_result",
          "data": {
            "text/plain": [
              "210"
            ]
          },
          "metadata": {},
          "execution_count": 71
        }
      ]
    },
    {
      "cell_type": "code",
      "source": [
        "#Punto 14\n",
        "varia(7,3,True)"
      ],
      "metadata": {
        "colab": {
          "base_uri": "https://localhost:8080/"
        },
        "id": "fKBAgMYkFwtR",
        "outputId": "f30f04ff-9a09-41f3-ea48-9625548289cf"
      },
      "execution_count": 72,
      "outputs": [
        {
          "output_type": "execute_result",
          "data": {
            "text/plain": [
              "343"
            ]
          },
          "metadata": {},
          "execution_count": 72
        }
      ]
    },
    {
      "cell_type": "code",
      "source": [
        "#Punto 15\n",
        "combina(10,3,False)\n"
      ],
      "metadata": {
        "colab": {
          "base_uri": "https://localhost:8080/"
        },
        "id": "QPb-ZaXlAAej",
        "outputId": "4c7c5b48-f593-413b-a132-f2a3d804f29a"
      },
      "execution_count": 63,
      "outputs": [
        {
          "output_type": "execute_result",
          "data": {
            "text/plain": [
              "120"
            ]
          },
          "metadata": {},
          "execution_count": 63
        }
      ]
    },
    {
      "cell_type": "code",
      "source": [
        "#Punto 16\n",
        "varia(10,3,True)*varia(26,3,True)"
      ],
      "metadata": {
        "colab": {
          "base_uri": "https://localhost:8080/"
        },
        "id": "WO7Csz69AAn_",
        "outputId": "03728030-ca07-41b8-b38f-9426ddbd6cf0"
      },
      "execution_count": 66,
      "outputs": [
        {
          "output_type": "execute_result",
          "data": {
            "text/plain": [
              "17576000"
            ]
          },
          "metadata": {},
          "execution_count": 66
        }
      ]
    },
    {
      "cell_type": "code",
      "source": [
        "#se debe fijar a una persona para tener un punto de referencia de inicio en una mesa circular\n",
        "#Punto 17\n",
        "#es una permutacion de n-1 personas sin repeticion\n",
        "#es decir (n-1)!"
      ],
      "metadata": {
        "id": "XVesO2wIAAwD"
      },
      "execution_count": 70,
      "outputs": []
    },
    {
      "cell_type": "code",
      "source": [
        "#Punto 18\n",
        "#si puede ser bolas del mismo sabor\n",
        "combina(7,3,True)\n",
        "\n"
      ],
      "metadata": {
        "colab": {
          "base_uri": "https://localhost:8080/"
        },
        "id": "ZdT6iXFhAA3v",
        "outputId": "091e3911-745c-4d5e-84be-026b96567444"
      },
      "execution_count": 80,
      "outputs": [
        {
          "output_type": "execute_result",
          "data": {
            "text/plain": [
              "84"
            ]
          },
          "metadata": {},
          "execution_count": 80
        }
      ]
    },
    {
      "cell_type": "code",
      "source": [
        "#Punto 19\n",
        "combina(6,3,True)"
      ],
      "metadata": {
        "colab": {
          "base_uri": "https://localhost:8080/"
        },
        "id": "MMtH2H9iAA-S",
        "outputId": "0a009667-1730-4772-e19f-26b80fbea697"
      },
      "execution_count": 81,
      "outputs": [
        {
          "output_type": "execute_result",
          "data": {
            "text/plain": [
              "56"
            ]
          },
          "metadata": {},
          "execution_count": 81
        }
      ]
    },
    {
      "cell_type": "code",
      "source": [
        "combina(6,3,False)"
      ],
      "metadata": {
        "colab": {
          "base_uri": "https://localhost:8080/"
        },
        "id": "b5q9vSQyAHP4",
        "outputId": "af1bd9e1-2719-4084-ac0e-f80934176279"
      },
      "execution_count": 82,
      "outputs": [
        {
          "output_type": "execute_result",
          "data": {
            "text/plain": [
              "20"
            ]
          },
          "metadata": {},
          "execution_count": 82
        }
      ]
    },
    {
      "cell_type": "code",
      "source": [],
      "metadata": {
        "id": "r9uYD3rmlHRs"
      },
      "execution_count": null,
      "outputs": []
    },
    {
      "cell_type": "code",
      "source": [],
      "metadata": {
        "id": "3-Of_tMYOKSw"
      },
      "execution_count": null,
      "outputs": []
    }
  ]
}