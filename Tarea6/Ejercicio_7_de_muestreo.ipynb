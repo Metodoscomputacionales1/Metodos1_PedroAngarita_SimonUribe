{
  "nbformat": 4,
  "nbformat_minor": 0,
  "metadata": {
    "colab": {
      "provenance": [],
      "authorship_tag": "ABX9TyPSg95y2tQI5IZvR2dTE1t1",
      "include_colab_link": true
    },
    "kernelspec": {
      "name": "python3",
      "display_name": "Python 3"
    },
    "language_info": {
      "name": "python"
    }
  },
  "cells": [
    {
      "cell_type": "markdown",
      "metadata": {
        "id": "view-in-github",
        "colab_type": "text"
      },
      "source": [
        "<a href=\"https://colab.research.google.com/github/Metodoscomputacionales1/Metodos1_PedroAngarita_SimonUribe/blob/main/Tarea6/Ejercicio_7_de_muestreo.ipynb\" target=\"_parent\"><img src=\"https://colab.research.google.com/assets/colab-badge.svg\" alt=\"Open In Colab\"/></a>"
      ]
    },
    {
      "cell_type": "code",
      "execution_count": 377,
      "metadata": {
        "colab": {
          "base_uri": "https://localhost:8080/"
        },
        "id": "b30deKjKqVXZ",
        "outputId": "07a8ec84-f86f-40d1-c28f-0072a5176af0"
      },
      "outputs": [
        {
          "output_type": "stream",
          "name": "stdout",
          "text": [
            "Mounted at /content/drive\n"
          ]
        }
      ],
      "source": [
        "import numpy as np\n",
        "import matplotlib.pyplot as plt\n",
        "import scipy.optimize as spo\n",
        "from scipy import integrate\n",
        "from scipy.stats import poisson\n",
        "from scipy.special import factorial\n",
        "from google.colab import drive\n",
        "drive.mount('/content/drive', force_remount=True)\n",
        "import os\n",
        "import pandas as pd"
      ]
    },
    {
      "cell_type": "code",
      "source": [
        "os.chdir(\"/content/drive/MyDrive/Colab Notebooks/Datos/\")\n",
        "!ls"
      ],
      "metadata": {
        "colab": {
          "base_uri": "https://localhost:8080/"
        },
        "id": "LRxgtl_NqkYc",
        "outputId": "70c84106-08a9-4d37-fa88-eb32d2b43d1f"
      },
      "execution_count": 378,
      "outputs": [
        {
          "output_type": "stream",
          "name": "stdout",
          "text": [
            "datos.csv\t    Exponencial.dat  Matematicas.txt\t MinimosCuadratico.txt\n",
            "DatosRegresion.csv  Gaussiano.csv    MediaMovilData.csv  MinimosLineal.txt\n"
          ]
        }
      ]
    },
    {
      "cell_type": "code",
      "source": [
        "file = '/content/drive/MyDrive/Colab Notebooks/Datos/Matematicas.txt'\n",
        "file"
      ],
      "metadata": {
        "colab": {
          "base_uri": "https://localhost:8080/",
          "height": 35
        },
        "id": "TNCyCSt_rEj1",
        "outputId": "fd5880a7-aae0-4f87-a06c-a30273f57907"
      },
      "execution_count": 379,
      "outputs": [
        {
          "output_type": "execute_result",
          "data": {
            "text/plain": [
              "'/content/drive/MyDrive/Colab Notebooks/Datos/Matematicas.txt'"
            ],
            "application/vnd.google.colaboratory.intrinsic+json": {
              "type": "string"
            }
          },
          "metadata": {},
          "execution_count": 379
        }
      ]
    },
    {
      "cell_type": "code",
      "source": [
        "data = pd.read_csv(file,sep=',')\n",
        "X=data[\"x\"]\n",
        "X"
      ],
      "metadata": {
        "colab": {
          "base_uri": "https://localhost:8080/",
          "height": 458
        },
        "id": "U-zzfWXorMyJ",
        "outputId": "ac829395-96ab-450e-e4d0-5a499e5a3c67"
      },
      "execution_count": 380,
      "outputs": [
        {
          "output_type": "execute_result",
          "data": {
            "text/plain": [
              "0     68\n",
              "1     84\n",
              "2     75\n",
              "3     82\n",
              "4     68\n",
              "      ..\n",
              "75    63\n",
              "76    76\n",
              "77    75\n",
              "78    85\n",
              "79    77\n",
              "Name: x, Length: 80, dtype: int64"
            ],
            "text/html": [
              "<div>\n",
              "<style scoped>\n",
              "    .dataframe tbody tr th:only-of-type {\n",
              "        vertical-align: middle;\n",
              "    }\n",
              "\n",
              "    .dataframe tbody tr th {\n",
              "        vertical-align: top;\n",
              "    }\n",
              "\n",
              "    .dataframe thead th {\n",
              "        text-align: right;\n",
              "    }\n",
              "</style>\n",
              "<table border=\"1\" class=\"dataframe\">\n",
              "  <thead>\n",
              "    <tr style=\"text-align: right;\">\n",
              "      <th></th>\n",
              "      <th>x</th>\n",
              "    </tr>\n",
              "  </thead>\n",
              "  <tbody>\n",
              "    <tr>\n",
              "      <th>0</th>\n",
              "      <td>68</td>\n",
              "    </tr>\n",
              "    <tr>\n",
              "      <th>1</th>\n",
              "      <td>84</td>\n",
              "    </tr>\n",
              "    <tr>\n",
              "      <th>2</th>\n",
              "      <td>75</td>\n",
              "    </tr>\n",
              "    <tr>\n",
              "      <th>3</th>\n",
              "      <td>82</td>\n",
              "    </tr>\n",
              "    <tr>\n",
              "      <th>4</th>\n",
              "      <td>68</td>\n",
              "    </tr>\n",
              "    <tr>\n",
              "      <th>...</th>\n",
              "      <td>...</td>\n",
              "    </tr>\n",
              "    <tr>\n",
              "      <th>75</th>\n",
              "      <td>63</td>\n",
              "    </tr>\n",
              "    <tr>\n",
              "      <th>76</th>\n",
              "      <td>76</td>\n",
              "    </tr>\n",
              "    <tr>\n",
              "      <th>77</th>\n",
              "      <td>75</td>\n",
              "    </tr>\n",
              "    <tr>\n",
              "      <th>78</th>\n",
              "      <td>85</td>\n",
              "    </tr>\n",
              "    <tr>\n",
              "      <th>79</th>\n",
              "      <td>77</td>\n",
              "    </tr>\n",
              "  </tbody>\n",
              "</table>\n",
              "<p>80 rows × 1 columns</p>\n",
              "</div><br><label><b>dtype:</b> int64</label>"
            ]
          },
          "metadata": {},
          "execution_count": 380
        }
      ]
    },
    {
      "cell_type": "code",
      "source": [
        "plt.hist(X)"
      ],
      "metadata": {
        "colab": {
          "base_uri": "https://localhost:8080/",
          "height": 482
        },
        "id": "BCCM0KUcrkYG",
        "outputId": "10e62182-95b7-4be3-bf40-48ea98f02eab"
      },
      "execution_count": 381,
      "outputs": [
        {
          "output_type": "execute_result",
          "data": {
            "text/plain": [
              "(array([ 2.,  6., 10.,  6., 12., 21.,  5.,  9.,  2.,  7.]),\n",
              " array([53. , 57.4, 61.8, 66.2, 70.6, 75. , 79.4, 83.8, 88.2, 92.6, 97. ]),\n",
              " <BarContainer object of 10 artists>)"
            ]
          },
          "metadata": {},
          "execution_count": 381
        },
        {
          "output_type": "display_data",
          "data": {
            "text/plain": [
              "<Figure size 640x480 with 1 Axes>"
            ],
            "image/png": "[encoded data removed]"
          },
          "metadata": {}
        }
      ]
    },
    {
      "cell_type": "code",
      "source": [
        "np.mean(X)"
      ],
      "metadata": {
        "colab": {
          "base_uri": "https://localhost:8080/"
        },
        "id": "KoEB_8yVtu0q",
        "outputId": "477d62cd-2329-4bd1-9f32-201562d0bacd"
      },
      "execution_count": 382,
      "outputs": [
        {
          "output_type": "execute_result",
          "data": {
            "text/plain": [
              "75.25"
            ]
          },
          "metadata": {},
          "execution_count": 382
        }
      ]
    },
    {
      "cell_type": "code",
      "source": [
        "np.percentile(X,50)"
      ],
      "metadata": {
        "colab": {
          "base_uri": "https://localhost:8080/"
        },
        "id": "hL-MRwrLt01B",
        "outputId": "e8fd733a-cd15-4fe1-b0f6-66d4c01af22f"
      },
      "execution_count": 383,
      "outputs": [
        {
          "output_type": "execute_result",
          "data": {
            "text/plain": [
              "75.0"
            ]
          },
          "metadata": {},
          "execution_count": 383
        }
      ]
    },
    {
      "cell_type": "code",
      "source": [
        "frec=np.unique(X, return_counts=True)"
      ],
      "metadata": {
        "id": "C5RPID5KuKYD"
      },
      "execution_count": 384,
      "outputs": []
    },
    {
      "cell_type": "code",
      "source": [
        "FrecAcum=np.cumsum(frec[0])\n",
        "FrecAcum"
      ],
      "metadata": {
        "colab": {
          "base_uri": "https://localhost:8080/"
        },
        "id": "4IAH05AIuWzn",
        "outputId": "63578d26-8794-4cc9-9070-227c71ca672b"
      },
      "execution_count": 385,
      "outputs": [
        {
          "output_type": "execute_result",
          "data": {
            "text/plain": [
              "array([  53,  110,  169,  229,  290,  352,  415,  480,  546,  613,  681,\n",
              "        750,  821,  893,  966, 1040, 1115, 1191, 1268, 1346, 1425, 1505,\n",
              "       1586, 1668, 1751, 1835, 1920, 2006, 2093, 2181, 2270, 2360, 2453,\n",
              "       2547, 2642, 2738, 2835])"
            ]
          },
          "metadata": {},
          "execution_count": 385
        }
      ]
    },
    {
      "cell_type": "code",
      "source": [
        "Prob=FrecAcum/np.sum(frec[0])\n",
        "Prob"
      ],
      "metadata": {
        "colab": {
          "base_uri": "https://localhost:8080/"
        },
        "id": "ES9YiYdTuzP8",
        "outputId": "ead2f611-1ab1-4ed0-aaa3-869fd2b869ae"
      },
      "execution_count": 386,
      "outputs": [
        {
          "output_type": "execute_result",
          "data": {
            "text/plain": [
              "array([0.01869489, 0.03880071, 0.05961199, 0.08077601, 0.10229277,\n",
              "       0.12416226, 0.14638448, 0.16931217, 0.19259259, 0.21622575,\n",
              "       0.24021164, 0.26455026, 0.28959436, 0.31499118, 0.34074074,\n",
              "       0.36684303, 0.39329806, 0.42010582, 0.44726631, 0.47477954,\n",
              "       0.5026455 , 0.5308642 , 0.55943563, 0.58835979, 0.61763668,\n",
              "       0.64726631, 0.67724868, 0.70758377, 0.7382716 , 0.76931217,\n",
              "       0.80070547, 0.8324515 , 0.86525573, 0.8984127 , 0.9319224 ,\n",
              "       0.96578483, 1.        ])"
            ]
          },
          "metadata": {},
          "execution_count": 386
        }
      ]
    },
    {
      "cell_type": "code",
      "source": [
        "import random as rand\n",
        "bootmeans=[]\n",
        "for i in range(1000):\n",
        "  Boot=rand.choices(X,k=len(X))\n",
        "  for j in Boot:\n",
        "    bootmean=(np.sum(Boot)/len(Boot))\n",
        "    bootmeans.append(bootmean)\n",
        "plt.hist(bootmeans, bins=len(frec[1]), width=0.2, color=\"skyblue\",ec=\"k\", density=True)\n",
        "np.mean(bootmeans)"
      ],
      "metadata": {
        "colab": {
          "base_uri": "https://localhost:8080/",
          "height": 447
        },
        "id": "cgYhnLGewG44",
        "outputId": "0a05ba16-4af7-4a3b-aee1-73941d39afbb"
      },
      "execution_count": 387,
      "outputs": [
        {
          "output_type": "execute_result",
          "data": {
            "text/plain": [
              "75.25615"
            ]
          },
          "metadata": {},
          "execution_count": 387
        },
        {
          "output_type": "display_data",
          "data": {
            "text/plain": [
              "<Figure size 640x480 with 1 Axes>"
            ],
            "image/png": "[encoded data removed]"
          },
          "metadata": {}
        }
      ]
    },
    {
      "cell_type": "code",
      "source": [
        "def likelihood (p, x):\n",
        "  mean,std =p\n",
        "  return (1/np.sqrt(2*np.pi*std**2))*np.exp(-(x-mean)**2/(2*std**2))"
      ],
      "metadata": {
        "id": "5u0o3ABYsmk0"
      },
      "execution_count": 388,
      "outputs": []
    },
    {
      "cell_type": "code",
      "source": [
        "plt.hist(X, density=True)\n",
        "x=np.linspace(50,100,100)\n",
        "p=[70,10]\n",
        "plt.plot(x, likelihood(p,x))"
      ],
      "metadata": {
        "colab": {
          "base_uri": "https://localhost:8080/",
          "height": 447
        },
        "id": "H-cx_0vDsu80",
        "outputId": "8578a5f2-e0e5-4cda-b314-ee85dd65471e"
      },
      "execution_count": 389,
      "outputs": [
        {
          "output_type": "execute_result",
          "data": {
            "text/plain": [
              "[<matplotlib.lines.Line2D at 0x7849c37c8160>]"
            ]
          },
          "metadata": {},
          "execution_count": 389
        },
        {
          "output_type": "display_data",
          "data": {
            "text/plain": [
              "<Figure size 640x480 with 1 Axes>"
            ],
            "image/png": "[encoded data removed]"
          },
          "metadata": {}
        }
      ]
    },
    {
      "cell_type": "code",
      "source": [
        "import scipy.optimize as opt\n",
        "def Jointlikelihood(p,x):\n",
        "  return -np.sum(np.log(likelihood(p,x)))"
      ],
      "metadata": {
        "id": "QkjBnn3EtfJ_"
      },
      "execution_count": 390,
      "outputs": []
    },
    {
      "cell_type": "code",
      "source": [
        "p0=p\n",
        "p1=opt.minimize(Jointlikelihood,p0,args=(X)).x\n",
        "print(\"Media\")\n",
        "print(p1[0])\n",
        "print(\"Desviacion\")\n",
        "print(p1[1])"
      ],
      "metadata": {
        "colab": {
          "base_uri": "https://localhost:8080/"
        },
        "id": "2qIqFzX2tj9u",
        "outputId": "cafba1c5-3974-43e3-cb3d-1e037e6b0759"
      },
      "execution_count": 391,
      "outputs": [
        {
          "output_type": "stream",
          "name": "stdout",
          "text": [
            "Media\n",
            "75.25000457568761\n",
            "Desviacion\n",
            "10.309585875495115\n"
          ]
        }
      ]
    },
    {
      "cell_type": "code",
      "source": [
        "plt.hist(X, density=True)\n",
        "x=np.linspace(50,100,100)\n",
        "plt.plot(x, likelihood(p1,x))"
      ],
      "metadata": {
        "colab": {
          "base_uri": "https://localhost:8080/",
          "height": 447
        },
        "id": "1fMHdVbZ134Z",
        "outputId": "be4dfdf4-06ca-4d67-d48a-a73c938cc08d"
      },
      "execution_count": 392,
      "outputs": [
        {
          "output_type": "execute_result",
          "data": {
            "text/plain": [
              "[<matplotlib.lines.Line2D at 0x7849c57c7dc0>]"
            ]
          },
          "metadata": {},
          "execution_count": 392
        },
        {
          "output_type": "display_data",
          "data": {
            "text/plain": [
              "<Figure size 640x480 with 1 Axes>"
            ],
            "image/png": "[encoded data removed]"
          },
          "metadata": {}
        }
      ]
    },
    {
      "cell_type": "code",
      "source": [
        "p0=p\n",
        "p2=opt.minimize(Jointlikelihood,p0,args=(bootmeans)).x\n",
        "print(\"Media\")\n",
        "print(p2[0])\n",
        "print(\"Desviacion\")\n",
        "print(p2[1])"
      ],
      "metadata": {
        "colab": {
          "base_uri": "https://localhost:8080/"
        },
        "id": "hoSMs4Wx1-88",
        "outputId": "204ac0b9-1e07-4963-e5ed-f39353b423ea"
      },
      "execution_count": 393,
      "outputs": [
        {
          "output_type": "stream",
          "name": "stdout",
          "text": [
            "Media\n",
            "75.25614997887952\n",
            "Desviacion\n",
            "1.1367945548451743\n"
          ]
        }
      ]
    },
    {
      "cell_type": "code",
      "source": [
        "plt.hist(bootmeans, bins=len(frec[1]), width=0.2, color=\"skyblue\",ec=\"k\", density=True)\n",
        "x=np.linspace(70,80,80000)\n",
        "plt.plot(x, likelihood(p2,x))"
      ],
      "metadata": {
        "colab": {
          "base_uri": "https://localhost:8080/",
          "height": 447
        },
        "id": "CP5kht3-2MDV",
        "outputId": "da0d0e7b-e9d5-4e8f-e01d-0df0869f09d4"
      },
      "execution_count": 394,
      "outputs": [
        {
          "output_type": "execute_result",
          "data": {
            "text/plain": [
              "[<matplotlib.lines.Line2D at 0x7849c348e140>]"
            ]
          },
          "metadata": {},
          "execution_count": 394
        },
        {
          "output_type": "display_data",
          "data": {
            "text/plain": [
              "<Figure size 640x480 with 1 Axes>"
            ],
            "image/png": "[encoded data removed]"
          },
          "metadata": {}
        }
      ]
    },
    {
      "cell_type": "code",
      "source": [
        "bit=np.sort(bootmeans)\n",
        "bit"
      ],
      "metadata": {
        "colab": {
          "base_uri": "https://localhost:8080/"
        },
        "id": "M5bW1XniL940",
        "outputId": "0ac520a5-42a9-4806-8a64-a58f45c0fe81"
      },
      "execution_count": 395,
      "outputs": [
        {
          "output_type": "execute_result",
          "data": {
            "text/plain": [
              "array([70.9625, 70.9625, 70.9625, ..., 78.95  , 78.95  , 78.95  ])"
            ]
          },
          "metadata": {},
          "execution_count": 395
        }
      ]
    },
    {
      "cell_type": "code",
      "source": [
        "def probabi(boot):\n",
        "  Proba=[]\n",
        "  priori=0\n",
        "  acum=0\n",
        "  for i in range(len(boot)):\n",
        "    priori+=(boot[i]/np.sum(boot))\n",
        "    acum+=(boot[i]/len(boot))\n",
        "    Proba.append(priori)\n",
        "  return Proba, acum\n",
        "probabi(bit)[0][-1]"
      ],
      "metadata": {
        "colab": {
          "base_uri": "https://localhost:8080/"
        },
        "id": "icuk5BOVN3ZF",
        "outputId": "bb53d82a-11a3-40e3-df4a-a9d332441029"
      },
      "execution_count": 396,
      "outputs": [
        {
          "output_type": "execute_result",
          "data": {
            "text/plain": [
              "0.9999999999999599"
            ]
          },
          "metadata": {},
          "execution_count": 396
        }
      ]
    },
    {
      "cell_type": "code",
      "source": [
        "plt.plot(bit, probabi(bit)[0], linestyle=\"--\")"
      ],
      "metadata": {
        "colab": {
          "base_uri": "https://localhost:8080/",
          "height": 447
        },
        "id": "XJl1TBOaOYv7",
        "outputId": "0c3f62b3-fba0-4c7d-9c02-456b58ffb94d"
      },
      "execution_count": 397,
      "outputs": [
        {
          "output_type": "execute_result",
          "data": {
            "text/plain": [
              "[<matplotlib.lines.Line2D at 0x7849c3f81ff0>]"
            ]
          },
          "metadata": {},
          "execution_count": 397
        },
        {
          "output_type": "display_data",
          "data": {
            "text/plain": [
              "<Figure size 640x480 with 1 Axes>"
            ],
            "image/png": "[encoded data removed]"
          },
          "metadata": {}
        }
      ]
    },
    {
      "cell_type": "code",
      "source": [
        "mediana=probabi(bit)[1]\n",
        "mediana"
      ],
      "metadata": {
        "colab": {
          "base_uri": "https://localhost:8080/"
        },
        "id": "_-_XGkeeQQby",
        "outputId": "87423294-ab51-41ba-9e96-061b78e32581"
      },
      "execution_count": 398,
      "outputs": [
        {
          "output_type": "execute_result",
          "data": {
            "text/plain": [
              "75.25614999998936"
            ]
          },
          "metadata": {},
          "execution_count": 398
        }
      ]
    },
    {
      "cell_type": "code",
      "source": [
        "print(\"Mediana bootstrap:\")\n",
        "print(mediana)\n",
        "print(\"Mediana Gaussiana\")\n",
        "p2[0]"
      ],
      "metadata": {
        "colab": {
          "base_uri": "https://localhost:8080/"
        },
        "id": "plheBUMiQcj9",
        "outputId": "8c2a46d5-5cb0-416d-9cfa-92d3aec1726b"
      },
      "execution_count": 399,
      "outputs": [
        {
          "output_type": "stream",
          "name": "stdout",
          "text": [
            "Mediana bootstrap:\n",
            "75.25614999998936\n",
            "Mediana Gaussiana\n"
          ]
        },
        {
          "output_type": "execute_result",
          "data": {
            "text/plain": [
              "75.25614997887952"
            ]
          },
          "metadata": {},
          "execution_count": 399
        }
      ]
    },
    {
      "cell_type": "code",
      "source": [
        "#Ambas aproximaciones son muy cercanas entre si tenien ambas una precisoon destacable de 1e-6\n",
        "#sin embargo ambas fallan en el orden de 1e-2 ya que el resultado obtenido por np.mean y la gausiana real sobre los datos fue de 75.25 ademas de obtener un resultado diferente cada vez debido a la tecnica de remuestreo bootsraping\n",
        "#vale aclarar que el resultado ya con 0.25 bien, fue obtenido despues de varias pruebas con resultados diferentes debido a bootsraping"
      ],
      "metadata": {
        "id": "_KxSh0e8RQ3W"
      },
      "execution_count": 400,
      "outputs": []
    }
  ]
}