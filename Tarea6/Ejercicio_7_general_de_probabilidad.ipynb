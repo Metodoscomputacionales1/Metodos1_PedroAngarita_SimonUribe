{
  "nbformat": 4,
  "nbformat_minor": 0,
  "metadata": {
    "colab": {
      "provenance": [],
      "authorship_tag": "ABX9TyOqRDMb6K63IhD5HFz7XY1N",
      "include_colab_link": true
    },
    "kernelspec": {
      "name": "python3",
      "display_name": "Python 3"
    },
    "language_info": {
      "name": "python"
    }
  },
  "cells": [
    {
      "cell_type": "markdown",
      "metadata": {
        "id": "view-in-github",
        "colab_type": "text"
      },
      "source": [
        "<a href=\"https://colab.research.google.com/github/Metodoscomputacionales1/Metodos1_PedroAngarita_SimonUribe/blob/main/Tarea6/Ejercicio_7_general_de_probabilidad.ipynb\" target=\"_parent\"><img src=\"https://colab.research.google.com/assets/colab-badge.svg\" alt=\"Open In Colab\"/></a>"
      ]
    },
    {
      "cell_type": "code",
      "execution_count": 40,
      "metadata": {
        "id": "HTNtvT4eo2aY"
      },
      "outputs": [],
      "source": [
        "import numpy as np"
      ]
    },
    {
      "cell_type": "code",
      "source": [
        "def GetExperimentsPar(N):\n",
        "\n",
        "  par=0\n",
        "  for i in range(N):\n",
        "    d1=np.random.randint(1,7)\n",
        "    d2=np.random.randint(1,7)\n",
        "    d3=np.random.randint(1,7)\n",
        "    d4=np.random.randint(1,7)\n",
        "    d5=np.random.randint(1,7)\n",
        "    if (d1==d2 or d1==d3 or d2==d3 or d1==d4 or d1==d5 or d2==d4 or d2==d5 or d3==d4 or d3==d5 or d4==d5) and not (d1==d2==d3==d4==d5 or d1==d2==d3 or d1==d2==d4 or d1==d2==d5 or d1==d3==d4 or d1==d3==d5 or d1==d4==d5 or d2==d3==d4 or d2==d3==d5 or d2==d4==d5 or d3==d4==d5 or d1==d2==d3==d4 or d1==d2==d3==d5 or d1==d2==d4==d5 or d1==d3==d4==d5 or d2==d3==d4==d5):\n",
        "      if d1==d2 and not (d1==d3 or d1==d4 or d1==d5 or d2==d3 or d2==d4 or d2==d5 or d3==d4 or d3==d5 or d4==d5):\n",
        "        par+=1\n",
        "        #print(d1, d2, d3, d4, d5)\n",
        "      elif d1==d3 and not (d1==d2 or d1==d4 or d1==d5 or d3==d2 or d2==d4 or d2==d5 or d3==d4 or d3==d5 or d4==d5):\n",
        "        par+=1\n",
        "        #print(d1, d2, d3, d4, d5)\n",
        "      elif d1==d4 and not (d1==d2 or d1==d3 or d1==d5 or d2==d3 or d2==d4 or d2==d5 or d3==d4 or d3==d5 or d4==d5):\n",
        "        par+=1\n",
        "        #print(d1, d2, d3, d4, d5)\n",
        "      elif d1==d5 and not (d1==d2 or d1==d3 or d1==d4 or d2==d3 or d2==d4 or d2==d5 or d3==d4 or d3==d5 or d4==d5):\n",
        "        par+=1\n",
        "        #print(d1, d2, d3, d4, d5)\n",
        "      elif d2==d3 and not (d1==d2 or d1==d3 or d1==d4 or d1==d5 or d2==d4 or d2==d5 or d3==d4 or d3==d5 or d4==d5):\n",
        "        par+=1\n",
        "        #print(d1, d2, d3, d4, d5)\n",
        "      elif d2==d4 and not (d1==d2 or d1==d3 or d1==d5 or d4==d1 or d2==d3 or d2==d5 or d3==d4 or d3==d5 or d4==d5):\n",
        "        par+=1\n",
        "        #print(d1, d2, d3, d4, d5)\n",
        "      elif d2==d5 and not (d2==d1 or d1==d3 or d1==d4 or d5==d1 or d2==d3 or d2==d4 or d3==d4 or d3==d5 or d4==d5):\n",
        "        par+=1\n",
        "        #print(d1, d2, d3, d4, d5)\n",
        "      elif d3==d4 and not (d1==d2 or d1==d3 or d1==d5 or d4==d1 or d2==d3 or d2==d4 or d2==d5 or d3==d5 or d4==d5):\n",
        "        par+=1\n",
        "        #print(d1, d2, d3, d4, d5)\n",
        "      elif d3==d5 and not (d1==d2 or d1==d3 or d1==d4 or d1==d5 or d2==d3 or d2==d4 or d2==d5 or d3==d4 or d4==d5):\n",
        "        par+=1\n",
        "        #print(d1, d2, d3, d4, d5)\n",
        "      elif d4==d5 and not (d1==d2 or d1==d3 or d1==d4 or d5==d1 or d2==d3 or d2==d4 or d2==d5 or d3==d4 or d3==d5):\n",
        "        par+=1\n",
        "        #print(d1, d2, d3, d4, d5)\n",
        "\n",
        "  return par\n",
        "\n",
        "N=100000\n",
        "\n",
        "UNares=GetExperimentsPar(N)\n",
        "UNares/N"
      ],
      "metadata": {
        "colab": {
          "base_uri": "https://localhost:8080/"
        },
        "id": "TYvfhHzrOFMf",
        "outputId": "6fe129d6-4142-428d-f211-a2e0e5c2970a"
      },
      "execution_count": 41,
      "outputs": [
        {
          "output_type": "execute_result",
          "data": {
            "text/plain": [
              "0.46339"
            ]
          },
          "metadata": {},
          "execution_count": 41
        }
      ]
    },
    {
      "cell_type": "code",
      "source": [
        "def GetExperiments2Par(N):\n",
        "\n",
        "  par=0\n",
        "  it=0\n",
        "  for i in range(N):\n",
        "    d1=np.random.randint(1,7)\n",
        "    d2=np.random.randint(1,7)\n",
        "    d3=np.random.randint(1,7)\n",
        "    d4=np.random.randint(1,7)\n",
        "    d5=np.random.randint(1,7)\n",
        "    if (d1==d2 or d1==d3 or d2==d3 or d1==d4 or d1==d5 or d2==d4 or d2==d5 or d3==d4 or d3==d5 or d4==d5) and not (d1==d2==d3==d4==d5 or d1==d2==d3 or d1==d2==d4 or d1==d2==d5 or d1==d3==d4 or d1==d3==d5 or d1==d4==d5 or d2==d3==d4 or d2==d3==d5 or d2==d4==d5 or d3==d4==d5 or d1==d2==d3==d4 or d1==d2==d3==d5 or d1==d2==d4==d5 or d1==d3==d4==d5 or d2==d3==d4==d5):\n",
        "      if d1==d2:\n",
        "        it+=1\n",
        "      if d1==d3:\n",
        "        it+=1\n",
        "      if d1==d4:\n",
        "        it+=1\n",
        "      if d1==d5:\n",
        "        it+=1\n",
        "      if d2==d3 :\n",
        "        it+=1\n",
        "      if d2==d4 :\n",
        "        it+=1\n",
        "      if d2==d5 :\n",
        "        it+=1\n",
        "      if d3==d4 :\n",
        "        it+=1\n",
        "      if d3==d5 :\n",
        "        it+=1\n",
        "      if d4==d5:\n",
        "        it+=1\n",
        "      if it==2:\n",
        "        par+=1\n",
        "      it=0\n",
        "\n",
        "  return par\n",
        "\n",
        "N=100000\n",
        "\n",
        "UNares=GetExperiments2Par(N)\n",
        "UNares/N"
      ],
      "metadata": {
        "colab": {
          "base_uri": "https://localhost:8080/"
        },
        "id": "taq-04AoZw72",
        "outputId": "44e66c0e-52ef-426f-a797-364668052004"
      },
      "execution_count": 42,
      "outputs": [
        {
          "output_type": "execute_result",
          "data": {
            "text/plain": [
              "0.23001"
            ]
          },
          "metadata": {},
          "execution_count": 42
        }
      ]
    },
    {
      "cell_type": "code",
      "source": [],
      "metadata": {
        "id": "zpLF4wIwbW3R"
      },
      "execution_count": 42,
      "outputs": []
    },
    {
      "cell_type": "code",
      "source": [
        "def GetExperiments4Par(N):\n",
        "\n",
        "  par=0\n",
        "\n",
        "  for i in range(N):\n",
        "    d1=np.random.randint(1,7)\n",
        "    d2=np.random.randint(1,7)\n",
        "    d3=np.random.randint(1,7)\n",
        "    d4=np.random.randint(1,7)\n",
        "    d5=np.random.randint(1,7)\n",
        "    if d1==d2==d3==d4 or d1==d2==d3==d5 or d1==d2==d4==d5 or d1==d3==d4==d5 or d2==d3==d4==d5:\n",
        "      par+=1\n",
        "\n",
        "  return par\n",
        "\n",
        "N=100000\n",
        "\n",
        "UNares=GetExperiments4Par(N)\n",
        "UNares/N"
      ],
      "metadata": {
        "colab": {
          "base_uri": "https://localhost:8080/"
        },
        "outputId": "ab8077c2-a507-47c9-e770-fc52661f9cf7",
        "id": "H8JBPABZbXVU"
      },
      "execution_count": 44,
      "outputs": [
        {
          "output_type": "execute_result",
          "data": {
            "text/plain": [
              "0.01959"
            ]
          },
          "metadata": {},
          "execution_count": 44
        }
      ]
    },
    {
      "cell_type": "code",
      "source": [],
      "metadata": {
        "id": "sLqgWWmmbNc7"
      },
      "execution_count": 43,
      "outputs": []
    }
  ]
}