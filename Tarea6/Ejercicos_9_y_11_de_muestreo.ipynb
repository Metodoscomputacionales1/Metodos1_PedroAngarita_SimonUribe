{
  "nbformat": 4,
  "nbformat_minor": 0,
  "metadata": {
    "colab": {
      "provenance": [],
      "authorship_tag": "ABX9TyPJn53fQwAGBSEmc1h3s+jp",
      "include_colab_link": true
    },
    "kernelspec": {
      "name": "python3",
      "display_name": "Python 3"
    },
    "language_info": {
      "name": "python"
    }
  },
  "cells": [
    {
      "cell_type": "markdown",
      "metadata": {
        "id": "view-in-github",
        "colab_type": "text"
      },
      "source": [
        "<a href=\"https://colab.research.google.com/github/Metodoscomputacionales1/Metodos1_PedroAngarita_SimonUribe/blob/main/Tarea6/Ejercicos_9_y_11_de_muestreo.ipynb\" target=\"_parent\"><img src=\"https://colab.research.google.com/assets/colab-badge.svg\" alt=\"Open In Colab\"/></a>"
      ]
    },
    {
      "cell_type": "code",
      "execution_count": 1,
      "metadata": {
        "id": "9xXzSSxDgIU6"
      },
      "outputs": [],
      "source": [
        "import numpy as np"
      ]
    },
    {
      "cell_type": "code",
      "source": [
        "#9.\n",
        "Vi=30\n",
        "Vf=60\n",
        "V=np.array([Vi,Vf])\n",
        "t=np.array([1,1/2])\n",
        "t/=t.sum()\n",
        "V@t"
      ],
      "metadata": {
        "colab": {
          "base_uri": "https://localhost:8080/"
        },
        "id": "k9gd0mctgNIk",
        "outputId": "30964f2e-6d8f-4364-f747-84386fbac209"
      },
      "execution_count": 2,
      "outputs": [
        {
          "output_type": "execute_result",
          "data": {
            "text/plain": [
              "40.0"
            ]
          },
          "metadata": {},
          "execution_count": 2
        }
      ]
    },
    {
      "cell_type": "code",
      "source": [
        "#11.\n",
        "from scipy import stats\n",
        "a=np.array([1,2,-1])\n",
        "Gamma=stats.gamma(3,2)\n",
        "Norm=stats.norm(5,2)\n",
        "Uni=stats.uniform(0,10)\n",
        "N=1e5\n",
        "x1=Gamma.rvs(int(N))\n",
        "x2=Norm.rvs(int(N))\n",
        "x3=Uni.rvs(int(N))\n",
        "X=np.array([x1,x2,x3])\n",
        "Y=a@X\n",
        "E=Y.mean()\n",
        "Var=Y.var()\n",
        "E, Var"
      ],
      "metadata": {
        "colab": {
          "base_uri": "https://localhost:8080/"
        },
        "id": "rsqMcP65hwng",
        "outputId": "bdc6fd57-f667-4416-b9b6-c6d08af153f4"
      },
      "execution_count": 3,
      "outputs": [
        {
          "output_type": "execute_result",
          "data": {
            "text/plain": [
              "(9.991490879519409, 27.449300349622085)"
            ]
          },
          "metadata": {},
          "execution_count": 3
        }
      ]
    },
    {
      "cell_type": "code",
      "source": [
        "a @ X.mean(axis=1)"
      ],
      "metadata": {
        "colab": {
          "base_uri": "https://localhost:8080/"
        },
        "id": "BvuxQ880aKBG",
        "outputId": "ade59d48-4212-43bf-fc40-a0920906fbba"
      },
      "execution_count": 4,
      "outputs": [
        {
          "output_type": "execute_result",
          "data": {
            "text/plain": [
              "9.991490879519407"
            ]
          },
          "metadata": {},
          "execution_count": 4
        }
      ]
    },
    {
      "cell_type": "code",
      "source": [
        "a@np.cov(X)@a"
      ],
      "metadata": {
        "colab": {
          "base_uri": "https://localhost:8080/"
        },
        "id": "AZ9MAbylaSEp",
        "outputId": "1fca0bd2-316e-4b78-8da5-3671c8e4b25d"
      },
      "execution_count": 5,
      "outputs": [
        {
          "output_type": "execute_result",
          "data": {
            "text/plain": [
              "27.44957484537055"
            ]
          },
          "metadata": {},
          "execution_count": 5
        }
      ]
    },
    {
      "cell_type": "code",
      "source": [
        "S=X.std(axis=1)"
      ],
      "metadata": {
        "id": "KMeeLVCFcMeq"
      },
      "execution_count": 6,
      "outputs": []
    },
    {
      "cell_type": "code",
      "source": [
        "#pearson\n",
        "C=np.cov(X)\n",
        "for i in range(len(C[0])):\n",
        "    for j in range(len(C[1])):\n",
        "        C[i,j]/=(S[i]*S[j])\n",
        "\n",
        "r=C\n",
        "r"
      ],
      "metadata": {
        "colab": {
          "base_uri": "https://localhost:8080/"
        },
        "id": "BECzxSCCaiBF",
        "outputId": "0552ba53-9774-428e-b355-5818b5767d25"
      },
      "execution_count": 7,
      "outputs": [
        {
          "output_type": "execute_result",
          "data": {
            "text/plain": [
              "array([[ 1.00001000e+00, -1.34813052e-03, -4.01883301e-04],\n",
              "       [-1.34813052e-03,  1.00001000e+00, -1.86036255e-03],\n",
              "       [-4.01883301e-04, -1.86036255e-03,  1.00001000e+00]])"
            ]
          },
          "metadata": {},
          "execution_count": 7
        }
      ]
    },
    {
      "cell_type": "code",
      "source": [],
      "metadata": {
        "id": "mlinpPjOczb7"
      },
      "execution_count": 7,
      "outputs": []
    }
  ]
}