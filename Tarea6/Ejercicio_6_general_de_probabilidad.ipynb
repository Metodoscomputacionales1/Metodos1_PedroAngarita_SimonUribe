{
  "nbformat": 4,
  "nbformat_minor": 0,
  "metadata": {
    "colab": {
      "provenance": [],
      "authorship_tag": "ABX9TyMuagbx+yTNJOdA8wTMSBl3",
      "include_colab_link": true
    },
    "kernelspec": {
      "name": "python3",
      "display_name": "Python 3"
    },
    "language_info": {
      "name": "python"
    }
  },
  "cells": [
    {
      "cell_type": "markdown",
      "metadata": {
        "id": "view-in-github",
        "colab_type": "text"
      },
      "source": [
        "<a href=\"https://colab.research.google.com/github/Metodoscomputacionales1/Metodos1_PedroAngarita_SimonUribe/blob/main/Tarea6/Ejercicio_6_general_de_probabilidad.ipynb\" target=\"_parent\"><img src=\"https://colab.research.google.com/assets/colab-badge.svg\" alt=\"Open In Colab\"/></a>"
      ]
    },
    {
      "cell_type": "code",
      "execution_count": 1,
      "metadata": {
        "id": "HTNtvT4eo2aY"
      },
      "outputs": [],
      "source": [
        "import numpy as np\n"
      ]
    },
    {
      "cell_type": "code",
      "source": [
        "D1=np.linspace(1,6,6)\n",
        "D2=np.linspace(1,6,6)\n",
        "D3=np.linspace(1,6,6)\n",
        "\n",
        "PT=6**3\n",
        "par=0\n",
        "\n",
        "for i in range(len(D1)):\n",
        "    for j in range(len(D2)):\n",
        "        for k in range(len(D3)):\n",
        "          if D1[i]==D2[j] or D1[i]==D3[k] or D2[j]==D3[k]:\n",
        "              par+=1\n",
        "\n",
        "Ppar=par/PT\n",
        "Ppar"
      ],
      "metadata": {
        "colab": {
          "base_uri": "https://localhost:8080/"
        },
        "id": "JfIq1d22o7ao",
        "outputId": "be6e4fef-d223-44ba-ad61-5c5f6fffb597"
      },
      "execution_count": 14,
      "outputs": [
        {
          "output_type": "execute_result",
          "data": {
            "text/plain": [
              "0.4444444444444444"
            ]
          },
          "metadata": {},
          "execution_count": 14
        }
      ]
    },
    {
      "cell_type": "code",
      "source": [
        "from typing_extensions import ParamSpecArgs\n",
        "def GetExperiments(N):\n",
        "\n",
        "  pares=0\n",
        "  for i in range(N):\n",
        "    d1=np.random.randint(1,7)\n",
        "    d2=np.random.randint(1,7)\n",
        "    d3=np.random.randint(1,7)\n",
        "    if d1==d2 or d1==d3 or d2==d3:\n",
        "      pares+=1\n",
        "\n",
        "  return pares\n",
        "\n",
        "N=100000\n",
        "\n",
        "Pares=GetExperiments(N)\n",
        "Pares/N"
      ],
      "metadata": {
        "colab": {
          "base_uri": "https://localhost:8080/"
        },
        "id": "TYvfhHzrOFMf",
        "outputId": "3a72cbaf-e3b8-439c-cb67-9e3b4982acfd"
      },
      "execution_count": 15,
      "outputs": [
        {
          "output_type": "execute_result",
          "data": {
            "text/plain": [
              "0.44402"
            ]
          },
          "metadata": {},
          "execution_count": 15
        }
      ]
    }
  ]
}