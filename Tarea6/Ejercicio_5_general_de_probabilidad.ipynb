{
  "nbformat": 4,
  "nbformat_minor": 0,
  "metadata": {
    "colab": {
      "provenance": [],
      "authorship_tag": "ABX9TyOFHg4WArwLgUzYqiBrTa1W",
      "include_colab_link": true
    },
    "kernelspec": {
      "name": "python3",
      "display_name": "Python 3"
    },
    "language_info": {
      "name": "python"
    }
  },
  "cells": [
    {
      "cell_type": "markdown",
      "metadata": {
        "id": "view-in-github",
        "colab_type": "text"
      },
      "source": [
        "<a href=\"https://colab.research.google.com/github/Metodoscomputacionales1/Metodos1_PedroAngarita_SimonUribe/blob/main/Tarea6/Ejercicio_5_general_de_probabilidad.ipynb\" target=\"_parent\"><img src=\"https://colab.research.google.com/assets/colab-badge.svg\" alt=\"Open In Colab\"/></a>"
      ]
    },
    {
      "cell_type": "code",
      "execution_count": 1,
      "metadata": {
        "id": "HTNtvT4eo2aY"
      },
      "outputs": [],
      "source": [
        "import numpy as np\n"
      ]
    },
    {
      "cell_type": "code",
      "source": [
        "D1=np.linspace(1,6,6)\n",
        "D2=np.linspace(1,6,6)\n",
        "\n",
        "PT=36\n",
        "p8=0\n",
        "pi=0\n",
        "ambas=0\n",
        "\n",
        "\n",
        "for i in range(len(D1)):\n",
        "    for j in range(len(D2)):\n",
        "        sum=D1[i]+D2[j]\n",
        "        if sum==8:\n",
        "          p8+=1\n",
        "        if sum==8 and D2[j]%2==0:\n",
        "          ambas+=1\n",
        "        if D2[j]%2==0:\n",
        "          pi+=1\n",
        "PAnB=ambas/PT\n",
        "Pa=p8/PT\n",
        "Pb=pi/PT\n",
        "print(Pa)\n",
        "print(Pb)"
      ],
      "metadata": {
        "colab": {
          "base_uri": "https://localhost:8080/"
        },
        "id": "JfIq1d22o7ao",
        "outputId": "eda16dc9-14f2-4260-a4c6-4e7eef809478"
      },
      "execution_count": 7,
      "outputs": [
        {
          "output_type": "stream",
          "name": "stdout",
          "text": [
            "0.1388888888888889\n",
            "0.5\n"
          ]
        }
      ]
    },
    {
      "cell_type": "code",
      "source": [
        "PAnB=ambas/PT\n",
        "PAnB"
      ],
      "metadata": {
        "colab": {
          "base_uri": "https://localhost:8080/"
        },
        "id": "CYS_avtkpkDC",
        "outputId": "af1e00c1-2a77-4192-90c4-46854394f596"
      },
      "execution_count": 6,
      "outputs": [
        {
          "output_type": "execute_result",
          "data": {
            "text/plain": [
              "0.08333333333333333"
            ]
          },
          "metadata": {},
          "execution_count": 6
        }
      ]
    },
    {
      "cell_type": "code",
      "source": [
        "PaPb=Pa*Pb\n",
        "PaPb"
      ],
      "metadata": {
        "colab": {
          "base_uri": "https://localhost:8080/"
        },
        "id": "RLsJR6iUHOni",
        "outputId": "0f65af75-2e43-41fd-b2a1-5e9f75cc4c57"
      },
      "execution_count": 9,
      "outputs": [
        {
          "output_type": "execute_result",
          "data": {
            "text/plain": [
              "0.06944444444444445"
            ]
          },
          "metadata": {},
          "execution_count": 9
        }
      ]
    },
    {
      "cell_type": "code",
      "source": [
        "# Debido a que la intersecion no es igual a la multiplicacion de las probabilidades, los eventos no son independientes.\n",
        "#Por lo tanto que salga una suma igual a 8 si depende en cierta medida de que el segundo dado sea impar"
      ],
      "metadata": {
        "id": "n2DwG7P7LsWP"
      },
      "execution_count": null,
      "outputs": []
    }
  ]
}