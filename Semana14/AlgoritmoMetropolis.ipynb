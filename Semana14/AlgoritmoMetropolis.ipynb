{
  "nbformat": 4,
  "nbformat_minor": 0,
  "metadata": {
    "colab": {
      "provenance": [],
      "include_colab_link": true
    },
    "kernelspec": {
      "name": "python3",
      "display_name": "Python 3"
    },
    "language_info": {
      "name": "python"
    }
  },
  "cells": [
    {
      "cell_type": "markdown",
      "metadata": {
        "id": "view-in-github",
        "colab_type": "text"
      },
      "source": [
        "<a href=\"https://colab.research.google.com/github/Metodoscomputacionales1/Metodos1_PedroAngarita_SimonUribe/blob/main/Semana14/AlgoritmoMetropolis.ipynb\" target=\"_parent\"><img src=\"https://colab.research.google.com/assets/colab-badge.svg\" alt=\"Open In Colab\"/></a>"
      ]
    },
    {
      "cell_type": "code",
      "execution_count": 1,
      "metadata": {
        "id": "yjXYfQNQhy2q"
      },
      "outputs": [],
      "source": [
        "import numpy as np\n",
        "import matplotlib.pyplot as plt\n",
        "from matplotlib  import cm\n",
        "from IPython.display import clear_output\n",
        "import time\n",
        "from tqdm import tqdm"
      ]
    },
    {
      "cell_type": "code",
      "source": [
        "def GetPlot():\n",
        "\n",
        "    fig = plt.figure(figsize=(15,4))\n",
        "    ax = fig.add_subplot(1,2,1)\n",
        "    ax1 = fig.add_subplot(1,2,2)\n",
        "\n",
        "    return ax,ax1"
      ],
      "metadata": {
        "id": "pQ4iT-iwh4RG"
      },
      "execution_count": 2,
      "outputs": []
    },
    {
      "cell_type": "code",
      "source": [
        "def Likelihood(x,p):\n",
        "  mu,sigma = p\n",
        "  return 1/(np.sqrt(2*np.pi*sigma**2))*np.exp(-(x-mu)**2/(2*sigma**2))"
      ],
      "metadata": {
        "id": "m9DvhkI1h591"
      },
      "execution_count": 3,
      "outputs": []
    },
    {
      "cell_type": "code",
      "source": [
        "def metropolis(likelihood,p,x0=0,a=1,NSTeps=int(1e3),burned=1000):\n",
        "  x=np.zeros(N)"
      ],
      "metadata": {
        "id": "prrliVgrh93y"
      },
      "execution_count": 4,
      "outputs": []
    }
  ]
}