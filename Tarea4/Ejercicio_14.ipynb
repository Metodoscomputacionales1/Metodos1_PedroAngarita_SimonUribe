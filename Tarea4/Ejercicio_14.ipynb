{
  "nbformat": 4,
  "nbformat_minor": 0,
  "metadata": {
    "colab": {
      "provenance": [],
      "authorship_tag": "ABX9TyMGDZ8exg6DCpGqGVzVPj0K",
      "include_colab_link": true
    },
    "kernelspec": {
      "name": "python3",
      "display_name": "Python 3"
    },
    "language_info": {
      "name": "python"
    }
  },
  "cells": [
    {
      "cell_type": "markdown",
      "metadata": {
        "id": "view-in-github",
        "colab_type": "text"
      },
      "source": [
        "<a href=\"https://colab.research.google.com/github/Metodoscomputacionales1/Metodos1_PedroAngarita_SimonUribe/blob/main/Tarea4/Ejercicio_14.ipynb\" target=\"_parent\"><img src=\"https://colab.research.google.com/assets/colab-badge.svg\" alt=\"Open In Colab\"/></a>"
      ]
    },
    {
      "cell_type": "code",
      "source": [
        "def orden (A):\n",
        "  it=0\n",
        "  for i in range(3):\n",
        "    for j in range(2-i):\n",
        "      if A[j] > A[j+1]:\n",
        "        it+=1\n",
        "        A[j],A[j+1] = A[j+1],A[j]\n",
        "  return it"
      ],
      "metadata": {
        "id": "ojbLdWsRJayU"
      },
      "execution_count": 62,
      "outputs": []
    },
    {
      "cell_type": "code",
      "source": [
        "def verificar (J,livita,k,base):\n",
        "  resultado=livita*J[k]\n",
        "  A=(resultado==base)\n",
        "  Total=0\n",
        "  for i in  range(3):\n",
        "    for j in range(3):\n",
        "      if A[i,j]==True:\n",
        "        Total+=1\n",
        "  if Total==9:\n",
        "    return True\n",
        "  else:\n",
        "    return False"
      ],
      "metadata": {
        "id": "ZSEFh4qnKMIZ"
      },
      "execution_count": 63,
      "outputs": []
    },
    {
      "cell_type": "code",
      "source": [
        "def multiplicarMat (M1, M2):\n",
        "  c=M1[0].shape\n",
        "  f=M2[:,1].shape\n",
        "  F=np.zeros((f[0],c[0]))\n",
        "  for i in range (f[0]):\n",
        "    for j in range (c[0]):\n",
        "      for k in range(c[0]):\n",
        "        F[i,j] += M1[i,k]*M2[k,j]\n",
        "  return F"
      ],
      "metadata": {
        "id": "5YAAYwW37kOT"
      },
      "execution_count": 64,
      "outputs": []
    },
    {
      "cell_type": "code",
      "execution_count": 69,
      "metadata": {
        "colab": {
          "base_uri": "https://localhost:8080/"
        },
        "id": "AohrmvgdFh8z",
        "outputId": "e3bebe98-a173-4d24-8872-4e33d5b0f862"
      },
      "outputs": [
        {
          "output_type": "stream",
          "name": "stdout",
          "text": [
            "Verificado\n",
            "0 0 1\n",
            "Verificado\n",
            "0 0 2\n",
            "Verificado\n",
            "0 1 2\n",
            "Verificado\n",
            "0 2 1\n",
            "Verificado\n",
            "1 0 2\n",
            "Verificado\n",
            "1 1 0\n",
            "Verificado\n",
            "1 1 2\n",
            "Verificado\n",
            "1 2 0\n",
            "Verificado\n",
            "2 0 1\n",
            "Verificado\n",
            "2 1 0\n",
            "Verificado\n",
            "2 2 0\n",
            "Verificado\n",
            "2 2 1\n"
          ]
        }
      ],
      "source": [
        "#Generadores\n",
        "import numpy as np\n",
        "J=(np.array([[0,0,0],[0,0,-1],[0,1,0]]),np.array([[0,0,1],[0,0,0],[-1,0,0]]),np.array([[0,-1,0],[1,0,0],[0,0,0]]))\n",
        "\n",
        "for i in range(3):\n",
        "  for j in range(3):\n",
        "    for k in range(3):\n",
        "      if k!=i and k!=j:\n",
        "        Base=((multiplicarMat(J[i],J[j]))-(multiplicarMat(J[j],J[i])))\n",
        "        if i==j or j==k or i==k:\n",
        "          livita=0\n",
        "        elif orden([i,j,k])%2==0:\n",
        "          livita=1\n",
        "        else:\n",
        "          livita=-1\n",
        "        conclusion=verificar(J,livita,k,Base)\n",
        "        if conclusion==True:\n",
        "          print(\"Verificado\")\n",
        "          print(i,j,k)\n",
        "\n",
        "        else:\n",
        "          print(\"No Verificado\")\n",
        "          print(i,j,k)"
      ]
    }
  ]
}