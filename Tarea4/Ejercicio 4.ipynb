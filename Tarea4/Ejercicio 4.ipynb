{
  "nbformat": 4,
  "nbformat_minor": 0,
  "metadata": {
    "colab": {
      "provenance": [],
      "authorship_tag": "ABX9TyNYK3oqnx0rrxn7UvwaJzVO",
      "include_colab_link": true
    },
    "kernelspec": {
      "name": "python3",
      "display_name": "Python 3"
    },
    "language_info": {
      "name": "python"
    }
  },
  "cells": [
    {
      "cell_type": "markdown",
      "metadata": {
        "id": "view-in-github",
        "colab_type": "text"
      },
      "source": [
        "<a href=\"https://colab.research.google.com/github/Metodoscomputacionales1/Metodos1_PedroAngarita_SimonUribe/blob/main/Tarea4/Ejercicio%204.ipynb\" target=\"_parent\"><img src=\"https://colab.research.google.com/assets/colab-badge.svg\" alt=\"Open In Colab\"/></a>"
      ]
    },
    {
      "cell_type": "code",
      "execution_count": 1,
      "metadata": {
        "id": "vRB-NInxZJkp"
      },
      "outputs": [],
      "source": [
        "import numpy as np"
      ]
    },
    {
      "cell_type": "code",
      "source": [
        "def multiplicarMat (M1, M2):\n",
        "  c=M1[0].shape\n",
        "  f=M2[:,1].shape\n",
        "  F=np.zeros((f[0],c[0]))\n",
        "  for i in range (f[0]):\n",
        "    for j in range (c[0]):\n",
        "      for k in range(c[0]):\n",
        "        F[i,j] += M1[i,k]*M2[k,j]\n",
        "  return F\n",
        "\n",
        "M=np.array([[1,0,0],[5,1,0],[-2,3,1]])\n",
        "R=np.array([[4,-2,1],[0,3,7],[0,0,2]])\n",
        "multiplicarMat(M,R)"
      ],
      "metadata": {
        "colab": {
          "base_uri": "https://localhost:8080/"
        },
        "id": "iNmUoY2tX01y",
        "outputId": "2551cf36-864b-4391-9493-ee59eba0584e"
      },
      "execution_count": 4,
      "outputs": [
        {
          "output_type": "execute_result",
          "data": {
            "text/plain": [
              "array([[ 4., -2.,  1.],\n",
              "       [20., -7., 12.],\n",
              "       [-8., 13., 21.]])"
            ]
          },
          "metadata": {},
          "execution_count": 4
        }
      ]
    }
  ]
}