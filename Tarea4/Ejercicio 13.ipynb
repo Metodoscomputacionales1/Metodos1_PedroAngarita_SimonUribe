{
  "nbformat": 4,
  "nbformat_minor": 0,
  "metadata": {
    "colab": {
      "provenance": [],
      "include_colab_link": true
    },
    "kernelspec": {
      "name": "python3",
      "display_name": "Python 3"
    },
    "language_info": {
      "name": "python"
    }
  },
  "cells": [
    {
      "cell_type": "markdown",
      "metadata": {
        "id": "view-in-github",
        "colab_type": "text"
      },
      "source": [
        "<a href=\"https://colab.research.google.com/github/Metodoscomputacionales1/Metodos1_PedroAngarita_SimonUribe/blob/main/Tarea4/Ejercicio%2013.ipynb\" target=\"_parent\"><img src=\"https://colab.research.google.com/assets/colab-badge.svg\" alt=\"Open In Colab\"/></a>"
      ]
    },
    {
      "cell_type": "code",
      "execution_count": null,
      "metadata": {
        "id": "QEApBHY4aGBq"
      },
      "outputs": [],
      "source": [
        "import numpy as np"
      ]
    },
    {
      "cell_type": "code",
      "source": [
        "\n",
        "G2=(lambda x,y,z:6*x-(2*np.cos(y*z))-1 , \\\n",
        "    lambda x,y,z: 9*y+np.sqrt(x**2+np.sin(z)+1.06)+0.9, \\\n",
        "    lambda x,y,z: 60*z+3*np.exp(-1*x*y)+10*np.pi-3,\n",
        "   )\n"
      ],
      "metadata": {
        "id": "bbZ-8i-5crXz"
      },
      "execution_count": null,
      "outputs": []
    },
    {
      "cell_type": "code",
      "source": [
        "def GetJacobian_cuarto_orden(f,r,h=1e-15,z=1e-15):\n",
        "\n",
        "  n = r.shape[0]\n",
        "\n",
        "  J = np.zeros((n,n))\n",
        "  x = np.zeros((n,n))\n",
        "\n",
        "  for i in range(n):\n",
        "    for j in range(n):\n",
        "\n",
        "      rf = r.copy()\n",
        "      rb = r.copy()\n",
        "      rt = r.copy()\n",
        "      rz = r.copy()\n",
        "\n",
        "\n",
        "      rf[j] = rf[j] + h\n",
        "      rb[j] = rb[j] - h\n",
        "      rt = rt +2*h\n",
        "      rz=rz -2*h\n",
        "\n",
        "\n",
        "      J[i,j] = (((-1*f[i](rt[0],rt[1],rt[2])) + (8*f[i](rf[0],rf[1],rf[2]))-(8*f[i](rb[0],rb[1],rb[2]))+f[i](rz[0],rz[1],rz[2])))/(12*h)\n",
        "      x[i,j]= (f[i](rf[0],rf[1],rf[2])-f[i](rb[0],rb[1],rb[2]))/(2*z)\n",
        "\n",
        "  return J,x"
      ],
      "metadata": {
        "id": "3bM51EGlaHha"
      },
      "execution_count": null,
      "outputs": []
    },
    {
      "cell_type": "code",
      "source": [
        "GetJacobian_cuarto_orden(G2,np.array([0.5,0.5,0.5]))"
      ],
      "metadata": {
        "colab": {
          "base_uri": "https://localhost:8080/"
        },
        "id": "dIPTPpzVcSmw",
        "outputId": "2a0cbf25-f30d-4b9b-c29c-14a63df3acdf"
      },
      "execution_count": null,
      "outputs": [
        {
          "output_type": "execute_result",
          "data": {
            "text/plain": [
              "(array([[  6.12473035,  -1.72084569,  -1.72084569],\n",
              "        [ -2.73855013,   8.51170986,  -2.73855013],\n",
              "        [-24.27687681, -24.27687681,  60.98825149]]),\n",
              " array([[ 6.21724894,  0.33306691,  0.33306691],\n",
              "        [ 0.44408921,  8.8817842 ,  0.44408921],\n",
              "        [-3.55271368, -3.55271368, 60.39613254]]))"
            ]
          },
          "metadata": {},
          "execution_count": 30
        }
      ]
    },
    {
      "cell_type": "code",
      "source": [],
      "metadata": {
        "id": "yGqzywKDz7pI"
      },
      "execution_count": null,
      "outputs": []
    }
  ]
}