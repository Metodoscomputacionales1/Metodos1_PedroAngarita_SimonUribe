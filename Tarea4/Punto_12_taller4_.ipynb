{
  "nbformat": 4,
  "nbformat_minor": 0,
  "metadata": {
    "colab": {
      "provenance": [],
      "include_colab_link": true
    },
    "kernelspec": {
      "name": "python3",
      "display_name": "Python 3"
    },
    "language_info": {
      "name": "python"
    }
  },
  "cells": [
    {
      "cell_type": "markdown",
      "metadata": {
        "id": "view-in-github",
        "colab_type": "text"
      },
      "source": [
        "<a href=\"https://colab.research.google.com/github/Metodoscomputacionales1/Metodos1_PedroAngarita_SimonUribe/blob/main/Tarea4/Punto_12_taller4_.ipynb\" target=\"_parent\"><img src=\"https://colab.research.google.com/assets/colab-badge.svg\" alt=\"Open In Colab\"/></a>"
      ]
    },
    {
      "cell_type": "code",
      "execution_count": 130,
      "metadata": {
        "id": "oKfPN1i1Dt-k"
      },
      "outputs": [],
      "source": [
        "\n",
        "import numpy as np\n",
        "import matplotlib.pyplot as plt\n",
        "from IPython.display import clear_output\n",
        "import time\n",
        "import sympy as sym\n",
        "from scipy.optimize import fsolve"
      ]
    },
    {
      "cell_type": "code",
      "source": [
        "def Plotter(e):\n",
        "\n",
        "  fig = plt.figure(figsize=(6,3))\n",
        "  ax = fig.add_subplot(121)\n",
        "  ax1 = fig.add_subplot(122)\n",
        "\n",
        "  ax.set_title('Epoch: {:.0f}'.format(e),fontsize=10)\n",
        "\n",
        "  return fig,ax,ax1"
      ],
      "metadata": {
        "id": "xTi64TMlEC30"
      },
      "execution_count": 131,
      "outputs": []
    },
    {
      "cell_type": "code",
      "source": [
        "G1=(lambda x,y:np.log(x**2+y**2)-np.sin(y*x)-np.log(2)-np.log(np.pi) , \\\n",
        "    lambda x,y: np.exp(x-y) + np.cos(x*y), \\\n",
        "   )"
      ],
      "metadata": {
        "id": "bY8g04gtE9wJ"
      },
      "execution_count": 132,
      "outputs": []
    },
    {
      "cell_type": "code",
      "source": [
        "def GetF(G,r):\n",
        "\n",
        "  n = r.shape[0]\n",
        "  v = np.zeros(n)\n",
        "\n",
        "  for i in range(n):\n",
        "    v[i] = G[i](r[0],r[1])\n",
        "\n",
        "  return v"
      ],
      "metadata": {
        "id": "Ucc5BH8DRwqJ"
      },
      "execution_count": 133,
      "outputs": []
    },
    {
      "cell_type": "code",
      "source": [
        "def GetF2(G,r):\n",
        "\n",
        "  n = r.shape[0]\n",
        "  v = np.zeros(n)\n",
        "\n",
        "  for i in range(n):\n",
        "    v[i] = G[i](r[0],r[1],r[2])\n",
        "\n",
        "  return v"
      ],
      "metadata": {
        "id": "GHr8wnFVh71W"
      },
      "execution_count": 153,
      "outputs": []
    },
    {
      "cell_type": "code",
      "source": [
        "GetF(G1,np.array([0,1]))"
      ],
      "metadata": {
        "colab": {
          "base_uri": "https://localhost:8080/"
        },
        "id": "QZpGnI4-R3Rx",
        "outputId": "ce011692-2d01-4a8d-a3e3-5b5033ceb71e"
      },
      "execution_count": 154,
      "outputs": [
        {
          "output_type": "execute_result",
          "data": {
            "text/plain": [
              "array([-1.83787707,  1.36787944])"
            ]
          },
          "metadata": {},
          "execution_count": 154
        }
      ]
    },
    {
      "cell_type": "code",
      "source": [
        "def Metric(G,r):\n",
        "\n",
        "\n",
        "  return 0.5*np.linalg.norm(GetF(G,r))**2"
      ],
      "metadata": {
        "id": "LrwO5DrPSzW7"
      },
      "execution_count": 155,
      "outputs": []
    },
    {
      "cell_type": "code",
      "source": [
        "def Metric2(G,r):\n",
        "\n",
        "\n",
        "  return 0.5*np.linalg.norm(GetF2(G,r))**2"
      ],
      "metadata": {
        "id": "8mvD2mA5iPYW"
      },
      "execution_count": 163,
      "outputs": []
    },
    {
      "cell_type": "code",
      "source": [
        "Metric(G1,np.array([1,1]))"
      ],
      "metadata": {
        "colab": {
          "base_uri": "https://localhost:8080/"
        },
        "id": "fnEDTcK0TEZC",
        "outputId": "f9ed5ea8-4953-4288-86dc-81271fbd15b1"
      },
      "execution_count": 156,
      "outputs": [
        {
          "output_type": "execute_result",
          "data": {
            "text/plain": [
              "3.158762546031256"
            ]
          },
          "metadata": {},
          "execution_count": 156
        }
      ]
    },
    {
      "cell_type": "code",
      "source": [
        "def GetJacobian(f,r,h=1e-3):\n",
        "\n",
        "  n = r.shape[0]\n",
        "\n",
        "  J = np.zeros((n,n))\n",
        "\n",
        "  for i in range(n):\n",
        "    for j in range(n):\n",
        "\n",
        "      rf = r.copy()\n",
        "      rb = r.copy()\n",
        "\n",
        "      rf[j] = rf[j] + h\n",
        "      rb[j] = rb[j] - h\n",
        "\n",
        "      J[i,j] = (f[i](rf[0],rf[1]) - f[i](rb[0],rb[1]))/(2*h)\n",
        "\n",
        "  return J"
      ],
      "metadata": {
        "id": "mhtcTqU6TpGl"
      },
      "execution_count": 157,
      "outputs": []
    },
    {
      "cell_type": "code",
      "source": [
        "def GetJacobian2(f,r,h=1e-3):\n",
        "\n",
        "  n = r.shape[0]\n",
        "\n",
        "  J = np.zeros((n,n))\n",
        "\n",
        "  for i in range(n):\n",
        "    for j in range(n):\n",
        "\n",
        "      rf = r.copy()\n",
        "      rb = r.copy()\n",
        "\n",
        "      rf[j] = rf[j] + h\n",
        "      rb[j] = rb[j] - h\n",
        "\n",
        "      J[i,j] = (f[i](rf[0],rf[1],rf[2]) - f[i](rb[0],rb[1],rb[2]))/(2*h)\n",
        "\n",
        "  return J"
      ],
      "metadata": {
        "id": "olRZXsi3NsBG"
      },
      "execution_count": 158,
      "outputs": []
    },
    {
      "cell_type": "code",
      "source": [
        "GetJacobian(G1,np.array([1.,3.]))"
      ],
      "metadata": {
        "colab": {
          "base_uri": "https://localhost:8080/"
        },
        "id": "j5SvGrfqU57D",
        "outputId": "f1542132-3404-44d2-fa97-a92c18387342"
      },
      "execution_count": 159,
      "outputs": [
        {
          "output_type": "execute_result",
          "data": {
            "text/plain": [
              "array([[ 3.16997302,  1.58999234],\n",
              "       [-0.28802408, -0.27645529]])"
            ]
          },
          "metadata": {},
          "execution_count": 159
        }
      ]
    },
    {
      "cell_type": "code",
      "source": [
        "def Minimizer(G,r,lr=1e-4,epochs=int(1.5e5),error=1e-22):\n",
        "\n",
        "  metric = 1\n",
        "  it = 0\n",
        "\n",
        "  M = np.array([])\n",
        "  R = np.array([r])\n",
        "\n",
        "  while metric > error and it < epochs:\n",
        "\n",
        "    M = np.append(M,Metric(G,r))\n",
        "\n",
        "    J = GetJacobian(G,r).T\n",
        "    Vector = GetF(G,r)\n",
        "\n",
        "    r = r - lr*np.dot(J,Vector)\n",
        "\n",
        "    R = np.vstack((R,r))\n",
        "\n",
        "    metric = Metric(G,r)\n",
        "\n",
        "\n",
        "\n",
        "\n",
        "\n",
        "    it += 1\n",
        "\n",
        "  return r,it"
      ],
      "metadata": {
        "id": "deTyp7BCFFIB"
      },
      "execution_count": 160,
      "outputs": []
    },
    {
      "cell_type": "code",
      "source": [
        "def Minimizer2(G,r,lr=1e-4,epochs=int(1.5e5),error=1e-22):\n",
        "\n",
        "  metric = 1\n",
        "  it = 0\n",
        "\n",
        "  M = np.array([])\n",
        "  R = np.array([r])\n",
        "\n",
        "  while metric > error and it < epochs:\n",
        "\n",
        "    M = np.append(M,Metric2(G,r))\n",
        "\n",
        "    J = GetJacobian2(G,r).T\n",
        "    Vector = GetF2(G,r)\n",
        "\n",
        "    r = r - lr*np.dot(J,Vector)\n",
        "\n",
        "    R = np.vstack((R,r))\n",
        "\n",
        "    metric = Metric2(G,r)\n",
        "\n",
        "\n",
        "\n",
        "\n",
        "\n",
        "    it += 1\n",
        "\n",
        "  return r,it"
      ],
      "metadata": {
        "id": "Xzm6YfifNk70"
      },
      "execution_count": 164,
      "outputs": []
    },
    {
      "cell_type": "code",
      "source": [
        "xsol, it = Minimizer(G1,np.array([2,2]))\n"
      ],
      "metadata": {
        "id": "HdyKWW2SFnpo"
      },
      "execution_count": 169,
      "outputs": []
    },
    {
      "cell_type": "code",
      "source": [
        "xsol"
      ],
      "metadata": {
        "colab": {
          "base_uri": "https://localhost:8080/"
        },
        "id": "IvwHeI5HFq5s",
        "outputId": "eb4a8006-d8ee-4bee-c8c3-3bdaf8afb989"
      },
      "execution_count": 143,
      "outputs": [
        {
          "output_type": "execute_result",
          "data": {
            "text/plain": [
              "array([1.77245385, 1.77245385])"
            ]
          },
          "metadata": {},
          "execution_count": 143
        }
      ]
    },
    {
      "cell_type": "code",
      "source": [
        "GetF(G1,xsol)#practimante 0"
      ],
      "metadata": {
        "id": "Yp-haGyzGOgM",
        "colab": {
          "base_uri": "https://localhost:8080/"
        },
        "outputId": "79b63aa1-08a1-41c2-85f4-e0fee14f2345"
      },
      "execution_count": 144,
      "outputs": [
        {
          "output_type": "execute_result",
          "data": {
            "text/plain": [
              "array([-2.22044605e-16, -1.41413548e-11])"
            ]
          },
          "metadata": {},
          "execution_count": 144
        }
      ]
    },
    {
      "cell_type": "code",
      "source": [
        "it"
      ],
      "metadata": {
        "colab": {
          "base_uri": "https://localhost:8080/"
        },
        "id": "zzrKKjDXLLyy",
        "outputId": "04bb1ef0-85e7-484d-e852-514d063031dd"
      },
      "execution_count": 145,
      "outputs": [
        {
          "output_type": "execute_result",
          "data": {
            "text/plain": [
              "110717"
            ]
          },
          "metadata": {},
          "execution_count": 145
        }
      ]
    },
    {
      "cell_type": "code",
      "source": [
        "G2=(lambda x,y,z:6*x-(2*np.cos(y*z))-1 , \\\n",
        "    lambda x,y,z: 9*y+np.sqrt(x**2+np.sin(z)+1.06)+0.9, \\\n",
        "    lambda x,y,z: 60*z+3*np.exp(-1*x*y)+10*np.pi-3,\n",
        "   )"
      ],
      "metadata": {
        "id": "Ogoka6wcLdXJ"
      },
      "execution_count": 147,
      "outputs": []
    },
    {
      "cell_type": "code",
      "source": [
        "solucion,it=Minimizer2(G2,np.array([0,0,0]))"
      ],
      "metadata": {
        "id": "SDZA1J6yNZcJ"
      },
      "execution_count": 166,
      "outputs": []
    },
    {
      "cell_type": "code",
      "source": [
        "solucion"
      ],
      "metadata": {
        "colab": {
          "base_uri": "https://localhost:8080/"
        },
        "id": "0SdUrCLZNdAl",
        "outputId": "3de3fa35-3b35-4209-c1fd-68e78d411325"
      },
      "execution_count": 167,
      "outputs": [
        {
          "output_type": "execute_result",
          "data": {
            "text/plain": [
              "array([ 0.49814468, -0.1996059 , -0.52882598])"
            ]
          },
          "metadata": {},
          "execution_count": 167
        }
      ]
    },
    {
      "cell_type": "code",
      "source": [
        "GetF2(G2,solucion)#practicamente 0 de nuevo"
      ],
      "metadata": {
        "colab": {
          "base_uri": "https://localhost:8080/"
        },
        "id": "gUcXBi1HieTS",
        "outputId": "87a1b8c1-6343-47cb-9a4c-1508a37321b5"
      },
      "execution_count": 168,
      "outputs": [
        {
          "output_type": "execute_result",
          "data": {
            "text/plain": [
              "array([-1.40900625e-11,  7.12430115e-13,  7.10542736e-15])"
            ]
          },
          "metadata": {},
          "execution_count": 168
        }
      ]
    },
    {
      "cell_type": "code",
      "source": [],
      "metadata": {
        "id": "wuwzCBfIih7g"
      },
      "execution_count": null,
      "outputs": []
    }
  ]
}