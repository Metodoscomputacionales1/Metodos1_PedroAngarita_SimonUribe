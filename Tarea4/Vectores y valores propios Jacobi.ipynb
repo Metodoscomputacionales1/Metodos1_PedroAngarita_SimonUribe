{
  "nbformat": 4,
  "nbformat_minor": 0,
  "metadata": {
    "colab": {
      "provenance": [],
      "authorship_tag": "ABX9TyPd4unSVjIuXSMRyUX9u8VY",
      "include_colab_link": true
    },
    "kernelspec": {
      "name": "python3",
      "display_name": "Python 3"
    },
    "language_info": {
      "name": "python"
    }
  },
  "cells": [
    {
      "cell_type": "markdown",
      "metadata": {
        "id": "view-in-github",
        "colab_type": "text"
      },
      "source": [
        "<a href=\"https://colab.research.google.com/github/Metodoscomputacionales1/Metodos1_PedroAngarita_SimonUribe/blob/main/Tarea4/Vectores%20y%20valores%20propios%20Jacobi.ipynb\" target=\"_parent\"><img src=\"https://colab.research.google.com/assets/colab-badge.svg\" alt=\"Open In Colab\"/></a>"
      ]
    },
    {
      "cell_type": "code",
      "execution_count": 89,
      "metadata": {
        "id": "WQf6XfyK59VF"
      },
      "outputs": [],
      "source": [
        "import sympy as sp\n",
        "import numpy as np\n",
        "from ast import Break"
      ]
    },
    {
      "cell_type": "code",
      "source": [
        "A=np.array([[4,1,1],[1,3,2],[1,2,5]])\n",
        "np.shape(A)[0]"
      ],
      "metadata": {
        "colab": {
          "base_uri": "https://localhost:8080/"
        },
        "id": "IUJUBxvKjALh",
        "outputId": "278784b8-3d86-4781-967b-c6753f67125f"
      },
      "execution_count": 203,
      "outputs": [
        {
          "output_type": "execute_result",
          "data": {
            "text/plain": [
              "3"
            ]
          },
          "metadata": {},
          "execution_count": 203
        }
      ]
    },
    {
      "cell_type": "code",
      "source": [
        "def Vectores_valores_propios(A,itmax=10,tolerancia=1e-10):\n",
        "\n",
        "    n =np.shape(A)[0]\n",
        "\n",
        "\n",
        "    V = np.eye(n)\n",
        "\n",
        "    for it in range(itmax):\n",
        "\n",
        "        mayor = 0\n",
        "        MI = 0\n",
        "        MJ= 0\n",
        "        for i in range(n):\n",
        "            for j in range(i+1, n):\n",
        "                if abs(A[i,j]) > abs(mayor):\n",
        "                    mayor = A[i,j]\n",
        "                    MI, MJ = i, j\n",
        "\n",
        "\n",
        "        if abs(mayor) < tolerancia:\n",
        "            break\n",
        "\n",
        "        if A[MI,MI] == A[MJ,MJ]:\n",
        "            theta = np.pi / 4\n",
        "        else:\n",
        "            theta = 0.5 * np.arctan(2 * A[MI,MJ] / (A[MI,MI] - A[MJ,MJ]))\n",
        "\n",
        "\n",
        "        R = np.eye(n)\n",
        "        R[MI,MI] = np.cos(theta)\n",
        "        R[MJ,MJ] = np.cos(theta)\n",
        "        R[MI,MJ] = -np.sin(theta)\n",
        "        R[MJ,MI] = np.sin(theta)\n",
        "\n",
        "        A = R.T @ A @ R\n",
        "        V = V @ R\n",
        "\n",
        "\n",
        "    valores = np.diag(A)\n",
        "\n",
        "\n",
        "    vectores =[V[0],V[1],V[2]]\n",
        "\n",
        "    return valores, vectores,it\n",
        "\n"
      ],
      "metadata": {
        "id": "t_N0ZB100glM"
      },
      "execution_count": 217,
      "outputs": []
    },
    {
      "cell_type": "code",
      "source": [
        "Vectores_valores_propios(A)"
      ],
      "metadata": {
        "colab": {
          "base_uri": "https://localhost:8080/"
        },
        "id": "D8W5_RvpjOTd",
        "outputId": "9fd8c73d-4056-4e6e-ee12-662de7e93b5f"
      },
      "execution_count": 218,
      "outputs": [
        {
          "output_type": "execute_result",
          "data": {
            "text/plain": [
              "(array([3.39729507, 1.70759841, 6.89510652]),\n",
              " [array([ 0.88573564, -0.17059871,  0.43170413]),\n",
              "  array([-0.07589338,  0.86427949,  0.49725362]),\n",
              "  array([-0.45794385, -0.47319874,  0.75257583])],\n",
              " 8)"
            ]
          },
          "metadata": {},
          "execution_count": 218
        }
      ]
    },
    {
      "cell_type": "code",
      "source": [
        "np.linalg.eig(A)"
      ],
      "metadata": {
        "colab": {
          "base_uri": "https://localhost:8080/"
        },
        "id": "yJlmfUcDiMJg",
        "outputId": "d09c82ab-0bb8-48e3-9dfd-aec7ede1614f"
      },
      "execution_count": 212,
      "outputs": [
        {
          "output_type": "execute_result",
          "data": {
            "text/plain": [
              "EigResult(eigenvalues=array([6.89510652, 3.39729507, 1.70759841]), eigenvectors=array([[ 0.43170413,  0.88573564,  0.17059871],\n",
              "       [ 0.49725362, -0.07589338, -0.86427949],\n",
              "       [ 0.75257583, -0.45794385,  0.47319874]]))"
            ]
          },
          "metadata": {},
          "execution_count": 212
        }
      ]
    },
    {
      "cell_type": "code",
      "source": [
        "# la diferencia entre los metodos se situa en el orden de las filas, de la matriz R que determina los vectores propios,"
      ],
      "metadata": {
        "id": "byw_OTHZ39PM"
      },
      "execution_count": 219,
      "outputs": []
    },
    {
      "cell_type": "code",
      "source": [],
      "metadata": {
        "id": "nNzBzKwv4kYr"
      },
      "execution_count": null,
      "outputs": []
    },
    {
      "cell_type": "code",
      "source": [],
      "metadata": {
        "id": "hpLOdEK_4A0q"
      },
      "execution_count": null,
      "outputs": []
    }
  ]
}