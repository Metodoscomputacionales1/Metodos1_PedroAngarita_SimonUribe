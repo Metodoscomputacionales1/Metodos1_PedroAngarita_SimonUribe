{
  "nbformat": 4,
  "nbformat_minor": 0,
  "metadata": {
    "colab": {
      "provenance": [],
      "authorship_tag": "ABX9TyN7kKI8pC+pek2gzX9SYue9",
      "include_colab_link": true
    },
    "kernelspec": {
      "name": "python3",
      "display_name": "Python 3"
    },
    "language_info": {
      "name": "python"
    }
  },
  "cells": [
    {
      "cell_type": "markdown",
      "metadata": {
        "id": "view-in-github",
        "colab_type": "text"
      },
      "source": [
        "<a href=\"https://colab.research.google.com/github/Metodoscomputacionales1/Metodos1_PedroAngarita_SimonUribe/blob/main/Tarea4/Ejercicio_2.ipynb\" target=\"_parent\"><img src=\"https://colab.research.google.com/assets/colab-badge.svg\" alt=\"Open In Colab\"/></a>"
      ]
    },
    {
      "cell_type": "code",
      "execution_count": 5,
      "metadata": {
        "colab": {
          "base_uri": "https://localhost:8080/"
        },
        "id": "8W5rvrMMB_yV",
        "outputId": "559a6ee9-fe5a-423f-b584-b6a1612d53d4"
      },
      "outputs": [
        {
          "output_type": "execute_result",
          "data": {
            "text/plain": [
              "(array([1., 1., 1.]), 25)"
            ]
          },
          "metadata": {},
          "execution_count": 5
        }
      ],
      "source": [
        "import numpy as np\n",
        "\n",
        "def GaussSeidel(A,b,x0, itmax = 100, tolerancia = 1e-16):\n",
        "\n",
        "  x = x0.copy()\n",
        "\n",
        "  for it in range(itmax):\n",
        "\n",
        "    # Hacemos una copia del vector x\n",
        "    x_new = np.copy(x)\n",
        "\n",
        "    for i in range(A.shape[0]):\n",
        "\n",
        "      # Contabilizamos la suma del iterador\n",
        "      Suma = 0.\n",
        "      for j in range(A.shape[1]):\n",
        "        if i != j:\n",
        "          Suma += A[i,j]*x_new[j]\n",
        "          # La diferencia radica en que ahora la suma es\n",
        "          # calcula usando x_new recien actualizado\n",
        "          x_new[i] = (b[i] - Suma)/A[i,i]\n",
        "\n",
        "    #print(x_new)\n",
        "\n",
        "    # Criterio de convergencia\n",
        "    if np.linalg.norm( np.dot(A,x_new)-b) < tolerancia:\n",
        "      break\n",
        "\n",
        "    x = np.copy(x_new)\n",
        "\n",
        "  return x, it\n",
        "\n",
        "\n",
        "A = np.array([[3,-1,-1],[-1,3,1],[2,1,4]])\n",
        "b=np.array([1.,3.,7.])\n",
        "x0 = np.array([0.,0.,0.])\n",
        "x,it = GaussSeidel(A,b,x0)\n",
        "x, it"
      ]
    }
  ]
}