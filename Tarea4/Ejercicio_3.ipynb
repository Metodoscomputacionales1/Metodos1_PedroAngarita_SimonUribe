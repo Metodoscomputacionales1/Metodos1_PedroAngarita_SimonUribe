{
  "nbformat": 4,
  "nbformat_minor": 0,
  "metadata": {
    "colab": {
      "provenance": [],
      "authorship_tag": "ABX9TyOA5rjqTLujNQMwUdgaF8vU",
      "include_colab_link": true
    },
    "kernelspec": {
      "name": "python3",
      "display_name": "Python 3"
    },
    "language_info": {
      "name": "python"
    }
  },
  "cells": [
    {
      "cell_type": "markdown",
      "metadata": {
        "id": "view-in-github",
        "colab_type": "text"
      },
      "source": [
        "<a href=\"https://colab.research.google.com/github/Metodoscomputacionales1/Metodos1_PedroAngarita_SimonUribe/blob/main/Tarea4/Ejercicio_3.ipynb\" target=\"_parent\"><img src=\"https://colab.research.google.com/assets/colab-badge.svg\" alt=\"Open In Colab\"/></a>"
      ]
    },
    {
      "cell_type": "code",
      "execution_count": 14,
      "metadata": {
        "id": "-FPubkuezu54"
      },
      "outputs": [],
      "source": [
        "import numpy as np\n",
        "import matplotlib.pyplot as plt\n",
        "import sympy as sym"
      ]
    },
    {
      "cell_type": "code",
      "source": [
        "class SolLin:\n",
        "\n",
        "  def __init__(self, mat, vect):\n",
        "    self.mat = mat\n",
        "    self.vect = vect\n",
        "    self.itmax = 1000\n",
        "    self.tol= 1e-16\n",
        "    self.x0= np.array([0.,0.,0.])\n",
        "\n",
        "class Jacobi (SolLin):\n",
        "\n",
        "  def __init__(self, mat, vect):\n",
        "    SolLin.__init__(self, mat, vect)\n",
        "\n",
        "  def Jacobi(self):\n",
        "\n",
        "    x = self.x0.copy()\n",
        "\n",
        "    for it in range(self.itmax):\n",
        "\n",
        "      x_new = np.copy(x)\n",
        "\n",
        "\n",
        "      for i in range(self.mat.shape[0]):\n",
        "\n",
        "        Suma = 0.\n",
        "        for j in range(self.mat.shape[1]):\n",
        "\n",
        "          if i != j:\n",
        "            Suma += (self.mat[i,j])*(x[j])\n",
        "\n",
        "\n",
        "            x_new[i] = (self.vect[i] - Suma)/(self.mat[i,i])\n",
        "\n",
        "\n",
        "\n",
        "      if np.linalg.norm( np.dot(self.mat,x_new)-(self.vect)) < self.tol:\n",
        "        break\n",
        "\n",
        "      x = np.copy(x_new)\n",
        "\n",
        "\n",
        "    return it\n",
        "\n",
        "A = np.array([[3,-1,-1],[-1,3,1],[2,1,4]])\n",
        "b=np.array([1.,3.,7.])\n",
        "\n",
        "Mat1=Jacobi(A,b)\n",
        "print(Mat1.Jacobi())"
      ],
      "metadata": {
        "colab": {
          "base_uri": "https://localhost:8080/"
        },
        "id": "htQQm4By0IDB",
        "outputId": "c93f942f-575e-4d99-c235-caa104a9efd2"
      },
      "execution_count": 67,
      "outputs": [
        {
          "output_type": "stream",
          "name": "stdout",
          "text": [
            "34\n"
          ]
        }
      ]
    },
    {
      "cell_type": "code",
      "source": [
        "class GaussSeidel (SolLin):\n",
        "\n",
        "  def __init__(self, mat, vect):\n",
        "    SolLin.__init__(self, mat, vect)\n",
        "\n",
        "  def  GaussSeidel(self):\n",
        "\n",
        "    x = self.x0.copy()\n",
        "\n",
        "    for it in range(self.itmax):\n",
        "\n",
        "      x_new = np.copy(x)\n",
        "\n",
        "      for i in range(self.mat.shape[0]):\n",
        "\n",
        "        Suma = 0.\n",
        "        for j in range(self.mat.shape[1]):\n",
        "          if i != j:\n",
        "            Suma += self.mat[i,j]*x_new[j]\n",
        "            x_new[i] = (self.vect[i] - Suma)/(self.mat[i,i])\n",
        "\n",
        "      if np.linalg.norm( np.dot(self.mat,x_new)-self.vect) < self.tol:\n",
        "        break\n",
        "\n",
        "      x = np.copy(x_new)\n",
        "\n",
        "    return it\n",
        "\n",
        "Mat1=GaussSeidel(A,b)\n",
        "print(Mat1.GaussSeidel())"
      ],
      "metadata": {
        "colab": {
          "base_uri": "https://localhost:8080/"
        },
        "id": "hEt9wssl39HM",
        "outputId": "9c0779bf-ae5c-48ab-e394-ec76888bb635"
      },
      "execution_count": 68,
      "outputs": [
        {
          "output_type": "stream",
          "name": "stdout",
          "text": [
            "25\n"
          ]
        }
      ]
    }
  ]
}