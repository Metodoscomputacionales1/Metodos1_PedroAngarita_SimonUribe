{
  "nbformat": 4,
  "nbformat_minor": 0,
  "metadata": {
    "colab": {
      "provenance": [],
      "authorship_tag": "ABX9TyMnzogE4U2LUNBuPfG8elSC",
      "include_colab_link": true
    },
    "kernelspec": {
      "name": "python3",
      "display_name": "Python 3"
    },
    "language_info": {
      "name": "python"
    }
  },
  "cells": [
    {
      "cell_type": "markdown",
      "metadata": {
        "id": "view-in-github",
        "colab_type": "text"
      },
      "source": [
        "<a href=\"https://colab.research.google.com/github/Metodoscomputacionales1/Metodos1_PedroAngarita_SimonUribe/blob/main/Tarea3/calculo_error_punto_10_Tarea_3.ipynb\" target=\"_parent\"><img src=\"https://colab.research.google.com/assets/colab-badge.svg\" alt=\"Open In Colab\"/></a>"
      ]
    },
    {
      "cell_type": "code",
      "execution_count": 2,
      "metadata": {
        "id": "-h7HDisMQhyl"
      },
      "outputs": [],
      "source": [
        "import numpy as np\n",
        "import matplotlib.pyplot as plt\n",
        "import sympy as sym\n",
        ""
      ]
    },
    {
      "cell_type": "code",
      "source": [
        "h = sym.Symbol('h',real=True)\n",
        "h\n"
      ],
      "metadata": {
        "colab": {
          "base_uri": "https://localhost:8080/",
          "height": 39
        },
        "id": "iCH7rLVKQv4y",
        "outputId": "a9c4b18a-0225-4cb7-9c44-d36978352798"
      },
      "execution_count": 3,
      "outputs": [
        {
          "output_type": "execute_result",
          "data": {
            "text/plain": [
              "h"
            ],
            "text/latex": "$\\displaystyle h$"
          },
          "metadata": {},
          "execution_count": 3
        }
      ]
    },
    {
      "cell_type": "code",
      "source": [
        "x = sym.Symbol('x',real=True)\n",
        "x\n",
        ""
      ],
      "metadata": {
        "colab": {
          "base_uri": "https://localhost:8080/",
          "height": 39
        },
        "id": "MU9CFK27RAoJ",
        "outputId": "bd92cd2e-9a37-4d91-f4cd-cf0c3f5b7c8f"
      },
      "execution_count": 4,
      "outputs": [
        {
          "output_type": "execute_result",
          "data": {
            "text/plain": [
              "x"
            ],
            "text/latex": "$\\displaystyle x$"
          },
          "metadata": {},
          "execution_count": 4
        }
      ]
    },
    {
      "cell_type": "code",
      "source": [
        "X=np.array ([0,h,2*h,3*h])\n",
        "X"
      ],
      "metadata": {
        "colab": {
          "base_uri": "https://localhost:8080/"
        },
        "id": "62-GHarjQjjH",
        "outputId": "90a43341-d455-4710-baca-9ffa421f16cf"
      },
      "execution_count": 5,
      "outputs": [
        {
          "output_type": "execute_result",
          "data": {
            "text/plain": [
              "array([0, h, 2*h, 3*h], dtype=object)"
            ]
          },
          "metadata": {},
          "execution_count": 5
        }
      ]
    },
    {
      "cell_type": "code",
      "source": [
        "#integrar error por 1 sobre 4 factorial\n",
        "IP=(x*(x-h)*(x-2*h)*(x-3*h))/24\n",
        "IP"
      ],
      "metadata": {
        "colab": {
          "base_uri": "https://localhost:8080/",
          "height": 53
        },
        "id": "g9aj-L9gRYco",
        "outputId": "6b2106f0-cc5f-4d9b-fbc4-09b8f24bcaf8"
      },
      "execution_count": 10,
      "outputs": [
        {
          "output_type": "execute_result",
          "data": {
            "text/plain": [
              "x*(-3*h + x)*(-2*h + x)*(-h + x)/24"
            ],
            "text/latex": "$\\displaystyle \\frac{x \\left(- 3 h + x\\right) \\left(- 2 h + x\\right) \\left(- h + x\\right)}{24}$"
          },
          "metadata": {},
          "execution_count": 10
        }
      ]
    },
    {
      "cell_type": "code",
      "source": [
        "I=sym.integrate(IP,(x,0,(3*h)))\n",
        "I"
      ],
      "metadata": {
        "colab": {
          "base_uri": "https://localhost:8080/",
          "height": 54
        },
        "id": "sNUO0C3pQz7q",
        "outputId": "4adaca02-3c44-4d5d-ea00-b81ea0166150"
      },
      "execution_count": 12,
      "outputs": [
        {
          "output_type": "execute_result",
          "data": {
            "text/plain": [
              "-3*h**5/80"
            ],
            "text/latex": "$\\displaystyle - \\frac{3 h^{5}}{80}$"
          },
          "metadata": {},
          "execution_count": 12
        }
      ]
    }
  ]
}