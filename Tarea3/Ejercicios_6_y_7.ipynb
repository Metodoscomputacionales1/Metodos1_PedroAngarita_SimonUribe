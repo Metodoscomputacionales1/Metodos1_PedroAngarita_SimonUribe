{
  "nbformat": 4,
  "nbformat_minor": 0,
  "metadata": {
    "colab": {
      "provenance": [],
      "authorship_tag": "ABX9TyPg4YRjlz8DSLhn4s8DHKcW",
      "include_colab_link": true
    },
    "kernelspec": {
      "name": "python3",
      "display_name": "Python 3"
    },
    "language_info": {
      "name": "python"
    }
  },
  "cells": [
    {
      "cell_type": "markdown",
      "metadata": {
        "id": "view-in-github",
        "colab_type": "text"
      },
      "source": [
        "<a href=\"https://colab.research.google.com/github/Metodoscomputacionales1/Metodos1_PedroAngarita_SimonUribe/blob/main/Tarea3/Ejercicios_6_y_7.ipynb\" target=\"_parent\"><img src=\"https://colab.research.google.com/assets/colab-badge.svg\" alt=\"Open In Colab\"/></a>"
      ]
    },
    {
      "cell_type": "code",
      "source": [
        "import numpy as np\n",
        "import matplotlib.pyplot as plt"
      ],
      "metadata": {
        "id": "xVTNmGjyZPtU"
      },
      "execution_count": 2,
      "outputs": []
    },
    {
      "cell_type": "code",
      "execution_count": 3,
      "metadata": {
        "id": "ueD_yfpuYNGF"
      },
      "outputs": [],
      "source": [
        "# Ejercico 5:\n",
        "\n",
        "class Integrator:\n",
        "\n",
        "  def __init__(self, x, f):\n",
        "\n",
        "    self.x = x\n",
        "    # Integration step\n",
        "    self.h = self.x[1] - self.x[0]\n",
        "    self.y = f(self.x)\n",
        "\n",
        "    self.Integral = 0.\n",
        "\n"
      ]
    },
    {
      "cell_type": "code",
      "source": [
        "class Trapezoid (Integrator):\n",
        "\n",
        "  def __init__(self, x, f):\n",
        "    Integrator.__init__(self, x, f)\n",
        "\n",
        "\n",
        "  def Itegrals(self):\n",
        "    self.Integral=0.\n",
        "    #para que no se acumule cada vez\n",
        "    self.Integral += 0.5*(self.y[0]+self.y[-1])\n",
        "\n",
        "    self.Integral += np.sum(self.y[1:-1])\n",
        "\n",
        "\n",
        "\n",
        "    return self.Integral*self.h\n",
        "\n",
        "class Simpson (Integrator):\n",
        "\n",
        "  def __init__(self, x, f):\n",
        "    Integrator.__init__(self, x, f)\n",
        "\n",
        "\n",
        "  def Itegrals(self):\n",
        "    self.Integral=0\n",
        "\n",
        "    self.Integral += self.y[0]+self.y[-1]\n",
        "\n",
        "    for i in range(len(self.y[1:-1])):\n",
        "      if i%2==0:\n",
        "        self.Integral += 4*self.y[i+1]\n",
        "        # el mas 1 es para quedar en impares\n",
        "      else:\n",
        "        self.Integral += 2*self.y[i+1]\n",
        "    return self.Integral*self.h/3"
      ],
      "metadata": {
        "id": "pSs6jlVGZ6kK"
      },
      "execution_count": 4,
      "outputs": []
    },
    {
      "cell_type": "code",
      "source": [
        "x=np.linspace(0,1,210)\n",
        "f= lambda x: np.exp(-x**2)\n",
        "\n",
        "Integral1=Trapezoid(x,f)\n",
        "print(\"Error: \" + str(Integral1.h) + \"       Integral: \" + str(Integral1.Itegrals()))"
      ],
      "metadata": {
        "colab": {
          "base_uri": "https://localhost:8080/"
        },
        "id": "qGq7wdmhaJ64",
        "outputId": "730ed175-ba54-4dc3-92a7-94ab8b22459f"
      },
      "execution_count": 43,
      "outputs": [
        {
          "output_type": "stream",
          "name": "stdout",
          "text": [
            "Error: 0.004784688995215311       Integral: 0.7468227291520946\n"
          ]
        }
      ]
    },
    {
      "cell_type": "code",
      "source": [
        "# Ejercicio 6\n",
        "\n",
        "g= lambda x: (((0.01**2)-x**2)**(1/2))/(0.5+x)\n",
        "\n",
        "real= np.pi*(0.5-(((0.5**2)-(0.01**2))**(1/2)))\n",
        "x=np.linspace(-0.01,0.01,150)\n",
        "\n",
        "IntegralS=Simpson(x,g)\n",
        "IntegralT=Trapezoid(x,g)\n",
        "print(\"Integral con Simpson: \" + str(IntegralS.Itegrals()))\n",
        "print(\"Integral con Trapecio: \" + str(IntegralT.Itegrals()))\n",
        "print(\"Real: \" + str(real))\n",
        "porsentajeS=((real-IntegralS.Itegrals())*100)/real\n",
        "print(\"Porcentaje de error en Simpson: \" + str(porsentajeS) + \" %\")\n",
        "porsentajeT=((real-IntegralT.Itegrals())*100)/real\n",
        "print(\"Porcentaje de error en Trapecio: \" + str(porsentajeT) + \" %\")"
      ],
      "metadata": {
        "colab": {
          "base_uri": "https://localhost:8080/"
        },
        "id": "Cr9s7BCxcz9Y",
        "outputId": "70f08e1c-2e11-42e6-d61e-7f31d8e87a5d"
      },
      "execution_count": 42,
      "outputs": [
        {
          "output_type": "stream",
          "name": "stdout",
          "text": [
            "Integral con Simpson: 0.00031401002821837754\n",
            "Integral con Trapecio: 0.00031400780981861103\n",
            "Real: 0.0003141906875702543\n",
            "Porcentaje de error en Simpson: 0.057499906592989966 %\n",
            "Porcentaje de error en Trapecio: 0.058205974549257654 %\n"
          ]
        }
      ]
    }
  ]
}