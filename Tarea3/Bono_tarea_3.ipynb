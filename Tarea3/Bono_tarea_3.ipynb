{
  "nbformat": 4,
  "nbformat_minor": 0,
  "metadata": {
    "colab": {
      "provenance": [],
      "authorship_tag": "ABX9TyMlw7ux4/EzbvbiCPX3KTg8",
      "include_colab_link": true
    },
    "kernelspec": {
      "name": "python3",
      "display_name": "Python 3"
    },
    "language_info": {
      "name": "python"
    }
  },
  "cells": [
    {
      "cell_type": "markdown",
      "metadata": {
        "id": "view-in-github",
        "colab_type": "text"
      },
      "source": [
        "<a href=\"https://colab.research.google.com/github/Metodoscomputacionales1/Metodos1_PedroAngarita_SimonUribe/blob/main/Tarea3/Bono_tarea_3.ipynb\" target=\"_parent\"><img src=\"https://colab.research.google.com/assets/colab-badge.svg\" alt=\"Open In Colab\"/></a>"
      ]
    },
    {
      "cell_type": "code",
      "execution_count": 1,
      "metadata": {
        "id": "TEJHzGG_z2lq"
      },
      "outputs": [],
      "source": [
        "import numpy as np\n",
        "import matplotlib.pyplot as plt\n",
        "import sympy as sym"
      ]
    },
    {
      "cell_type": "code",
      "source": [
        "def Cuadaptativa (n,f, a , b, tol, fa, fb, fc):\n",
        "  c=(a+b)/2\n",
        "  h=(b-a)\n",
        "  fd=f((a+c)/2)\n",
        "  fe= f((c+b)/2)\n",
        "  S1=(h/6)*(fa+4*fc+fb)\n",
        "  S2=(h/12)*(fa+4*fd+2*fc+4*fe+fb)\n",
        "  #print(\"S1: \", S1)\n",
        "  #print(\"S2: \", S2)\n",
        "\n",
        "  if abs(S2-S1) <= tol or n<1:\n",
        "    Q=S2+(S2-S1)/15\n",
        "  else:\n",
        "    Q1=Cuadaptativa(n-1,f, a, c, tol, fa, fd,fc)\n",
        "    Q2=Cuadaptativa(n-1,f, c, b, tol, fc, fe,fb)\n",
        "    Q=Q1+Q2\n",
        "  return Q"
      ],
      "metadata": {
        "id": "PsNcGus80Cnf"
      },
      "execution_count": 63,
      "outputs": []
    },
    {
      "cell_type": "code",
      "source": [
        "def funcion(x):\n",
        "  return (x**(10) - 10*(x**(8)) + 33*(x**6) - 40*(x**4) +16*(x**2))"
      ],
      "metadata": {
        "id": "OE5hsYfB1gk6"
      },
      "execution_count": 58,
      "outputs": []
    },
    {
      "cell_type": "code",
      "source": [
        "def nueva(x):\n",
        "  return 1/(1+x**2)"
      ],
      "metadata": {
        "id": "VDoYfBfh2pdd"
      },
      "execution_count": 13,
      "outputs": []
    },
    {
      "cell_type": "code",
      "source": [
        "print(Cuadaptativa(20, nueva, -4, 4, 0.0000001, nueva(-4), nueva(4), nueva(0)))"
      ],
      "metadata": {
        "colab": {
          "base_uri": "https://localhost:8080/"
        },
        "id": "ZSo3ovTX9Zb-",
        "outputId": "ba7c8a84-e937-49b9-a0c0-905961419464"
      },
      "execution_count": 49,
      "outputs": [
        {
          "output_type": "stream",
          "name": "stdout",
          "text": [
            "2.651636083398367\n"
          ]
        }
      ]
    },
    {
      "cell_type": "code",
      "source": [
        "print(Cuadaptativa(200, funcion, -1.999999, 1.999999, 0.00000000001, funcion(-1.999999), funcion(1.999999), funcion(0)))"
      ],
      "metadata": {
        "colab": {
          "base_uri": "https://localhost:8080/"
        },
        "id": "FYVM3ZhZ0Thm",
        "outputId": "af1facdb-9361-4145-9a2d-be3458b6d875"
      },
      "execution_count": 70,
      "outputs": [
        {
          "output_type": "stream",
          "name": "stdout",
          "text": [
            "14.776334776300402\n"
          ]
        }
      ]
    }
  ]
}