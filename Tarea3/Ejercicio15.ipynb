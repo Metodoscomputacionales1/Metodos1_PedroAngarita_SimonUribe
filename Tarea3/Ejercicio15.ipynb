{
  "nbformat": 4,
  "nbformat_minor": 0,
  "metadata": {
    "colab": {
      "provenance": [],
      "authorship_tag": "ABX9TyNo3WiYDKfixD+hv9sysGDI",
      "include_colab_link": true
    },
    "kernelspec": {
      "name": "python3",
      "display_name": "Python 3"
    },
    "language_info": {
      "name": "python"
    }
  },
  "cells": [
    {
      "cell_type": "markdown",
      "metadata": {
        "id": "view-in-github",
        "colab_type": "text"
      },
      "source": [
        "<a href=\"https://colab.research.google.com/github/Metodoscomputacionales1/Metodos1_PedroAngarita_SimonUribe/blob/main/Tarea3/Ejercicio15.ipynb\" target=\"_parent\"><img src=\"https://colab.research.google.com/assets/colab-badge.svg\" alt=\"Open In Colab\"/></a>"
      ]
    },
    {
      "cell_type": "code",
      "execution_count": 38,
      "metadata": {
        "id": "OlRhSnSiPHWy"
      },
      "outputs": [],
      "source": [
        "import numpy as np\n",
        "import matplotlib.pyplot as plt\n",
        "import sympy as sym\n"
      ]
    },
    {
      "cell_type": "code",
      "source": [
        "def GetNewtonMethod(f,df,xn,itmax = 10000, precision=1e-14):\n",
        "\n",
        "    error = 1.\n",
        "    it = 0\n",
        "\n",
        "    while error >= precision and it < itmax:\n",
        "\n",
        "        try:\n",
        "\n",
        "            xn1 = xn - f(xn)/df(xn)\n",
        "\n",
        "            error = np.abs( (xn1-xn)/xn )\n",
        "           # error = np.abs(f(xn)/df(xn))\n",
        "\n",
        "        except ZeroDivisionError:\n",
        "            print(\"zero division\")\n",
        "\n",
        "        xn  = xn1\n",
        "        it += 1\n",
        "\n",
        "    #print('Raiz:',xn,it)\n",
        "\n",
        "    if it == itmax:\n",
        "        return False\n",
        "    else:\n",
        "        return xn\n",
        "\n"
      ],
      "metadata": {
        "id": "SP7jW8TJPZ5w"
      },
      "execution_count": 39,
      "outputs": []
    },
    {
      "cell_type": "code",
      "source": [
        "def GetAllRoots(f,df,x, tolerancia=13):\n",
        "\n",
        "    Roots = np.array([])\n",
        "\n",
        "    for i in x:\n",
        "\n",
        "        root = GetNewtonMethod(f,df,i)\n",
        "\n",
        "        if root != False:\n",
        "\n",
        "            croot = np.round( root, tolerancia )\n",
        "\n",
        "            if croot not in Roots:\n",
        "                Roots = np.append( Roots, croot )\n",
        "\n",
        "    # Ordenamos las raices\n",
        "    Roots.sort()\n",
        "\n",
        "    return Roots"
      ],
      "metadata": {
        "id": "kYNvNZ7XPfuG"
      },
      "execution_count": 40,
      "outputs": []
    },
    {
      "cell_type": "code",
      "source": [
        "def GetLegendre(n):\n",
        "\n",
        "  x = sym.Symbol('x',Real=True)\n",
        "  y = sym.Symbol('y',Real=True)\n",
        "\n",
        "  y = (x**2 - 1)**n\n",
        "\n",
        "  p = sym.diff(y,x,n)/(2**n * np.math.factorial(n))\n",
        "\n",
        "  return p"
      ],
      "metadata": {
        "id": "_qwQhCEkPnaE"
      },
      "execution_count": 41,
      "outputs": []
    },
    {
      "cell_type": "code",
      "source": [
        "def GetRootsPolynomial(n,xi,poly,dpoly):\n",
        "\n",
        "    x = sym.Symbol('x',Real=True)\n",
        "    pn = sym.lambdify([x],poly[n],'numpy')\n",
        "    dpn = sym.lambdify([x],dpoly[n],'numpy')\n",
        "    Roots = GetAllRoots(pn,dpn,xi)\n",
        "    Weights = 2/((1-Roots**2)*(dpn(Roots)**2))\n",
        "\n",
        "    return Roots, Weights"
      ],
      "metadata": {
        "id": "5pLBR2s7PvNJ"
      },
      "execution_count": 42,
      "outputs": []
    },
    {
      "cell_type": "code",
      "source": [
        "Legendre = []\n",
        "DLegendre = []\n",
        "\n",
        "x = sym.Symbol('x',Real=True)\n",
        "n=20\n",
        "\n",
        "for i in range(n+1):\n",
        "\n",
        "    poly = GetLegendre(i)\n",
        "\n",
        "    Legendre.append(poly)\n",
        "    DLegendre.append(sym.diff(poly,x))\n"
      ],
      "metadata": {
        "colab": {
          "base_uri": "https://localhost:8080/"
        },
        "id": "_RtO6mygRz8u",
        "outputId": "9189a351-f6de-42ff-ac6e-fe306985847f"
      },
      "execution_count": 43,
      "outputs": [
        {
          "output_type": "stream",
          "name": "stderr",
          "text": [
            "<ipython-input-41-adbe1921b909>:8: DeprecationWarning: `np.math` is a deprecated alias for the standard library `math` module (Deprecated Numpy 1.25). Replace usages of `np.math` with `math`\n",
            "  p = sym.diff(y,x,n)/(2**n * np.math.factorial(n))\n"
          ]
        }
      ]
    },
    {
      "cell_type": "code",
      "source": [
        "xi = np.linspace(-1,1,100)\n",
        "Roots=[]\n",
        "Weights=[]\n",
        "for i in range(1,n+1):\n",
        "    raices, pesos = GetRootsPolynomial(i,xi,Legendre,DLegendre)\n",
        "    Roots.append(raices)\n",
        "    Weights.append(pesos)\n",
        "#Ceros de los primeros 20 polinomios de legendre\n",
        "\n",
        "Roots\n"
      ],
      "metadata": {
        "colab": {
          "base_uri": "https://localhost:8080/"
        },
        "id": "IfgERXUyR05t",
        "outputId": "387b65a2-0260-4c4a-a355-3d3a264d02fe"
      },
      "execution_count": 44,
      "outputs": [
        {
          "output_type": "stream",
          "name": "stderr",
          "text": [
            "<ipython-input-39-b7688e483714>:12: RuntimeWarning: invalid value encountered in scalar divide\n",
            "  error = np.abs( (xn1-xn)/xn )\n"
          ]
        },
        {
          "output_type": "execute_result",
          "data": {
            "text/plain": [
              "[array([], dtype=float64),\n",
              " array([-0.57735027,  0.57735027]),\n",
              " array([-0.77459667,  0.77459667]),\n",
              " array([-0.86113631, -0.33998104,  0.33998104,  0.86113631]),\n",
              " array([-0.90617985, -0.53846931,  0.53846931,  0.90617985]),\n",
              " array([-0.93246951, -0.66120939, -0.23861919,  0.23861919,  0.66120939,\n",
              "         0.93246951]),\n",
              " array([-0.94910791, -0.74153119, -0.40584515,  0.40584515,  0.74153119,\n",
              "         0.94910791]),\n",
              " array([-0.96028986, -0.79666648, -0.52553241, -0.18343464,  0.18343464,\n",
              "         0.52553241,  0.79666648,  0.96028986]),\n",
              " array([-0.96816024, -0.83603111, -0.61337143, -0.32425342,  0.32425342,\n",
              "         0.61337143,  0.83603111,  0.96816024]),\n",
              " array([-0.97390653, -0.86506337, -0.67940957, -0.43339539, -0.14887434,\n",
              "         0.14887434,  0.43339539,  0.67940957,  0.86506337,  0.97390653]),\n",
              " array([-0.97822866, -0.8870626 , -0.73015201, -0.51909613, -0.26954316,\n",
              "         0.26954316,  0.51909613,  0.73015201,  0.8870626 ,  0.97822866]),\n",
              " array([-0.98156063, -0.90411726, -0.76990267, -0.58731795, -0.3678315 ,\n",
              "        -0.12523341,  0.12523341,  0.3678315 ,  0.58731795,  0.76990267,\n",
              "         0.90411726,  0.98156063]),\n",
              " array([-0.98418305, -0.9175984 , -0.80157809, -0.64234934, -0.44849275,\n",
              "        -0.23045832,  0.23045832,  0.44849275,  0.64234934,  0.80157809,\n",
              "         0.9175984 ,  0.98418305]),\n",
              " array([-0.98628381, -0.92843488, -0.82720132, -0.6872929 , -0.51524864,\n",
              "        -0.31911237, -0.10805495,  0.10805495,  0.31911237,  0.51524864,\n",
              "         0.6872929 ,  0.82720132,  0.92843488,  0.98628381]),\n",
              " array([-0.98799252, -0.93727339, -0.84820658, -0.72441773, -0.57097217,\n",
              "        -0.39415135, -0.20119409,  0.20119409,  0.39415135,  0.57097217,\n",
              "         0.72441773,  0.84820658,  0.93727339,  0.98799252]),\n",
              " array([-0.98940093, -0.94457502, -0.8656312 , -0.75540441, -0.61787624,\n",
              "        -0.45801678, -0.28160355, -0.09501251,  0.09501251,  0.28160355,\n",
              "         0.45801678,  0.61787624,  0.75540441,  0.8656312 ,  0.94457502,\n",
              "         0.98940093]),\n",
              " array([-0.99057548, -0.95067552, -0.88023915, -0.781514  , -0.65767116,\n",
              "        -0.51269054, -0.35123176, -0.17848418,  0.17848418,  0.35123176,\n",
              "         0.51269054,  0.65767116,  0.781514  ,  0.88023915,  0.95067552,\n",
              "         0.99057548]),\n",
              " array([-0.99156517, -0.95582395, -0.89260247, -0.80370496, -0.69168704,\n",
              "        -0.55977083, -0.41175116, -0.25188623, -0.08477501,  0.08477501,\n",
              "         0.25188623,  0.41175116,  0.55977083,  0.69168704,  0.80370496,\n",
              "         0.89260247,  0.95582395,  0.99156517]),\n",
              " array([-0.99240684, -0.96020815, -0.9031559 , -0.82271466, -0.72096618,\n",
              "        -0.6005453 , -0.46457074, -0.3165641 , -0.16035865,  0.16035865,\n",
              "         0.3165641 ,  0.46457074,  0.6005453 ,  0.72096618,  0.82271466,\n",
              "         0.9031559 ,  0.96020815,  0.99240684]),\n",
              " array([-0.9931286 , -0.96397193, -0.91223443, -0.83911697, -0.74633191,\n",
              "        -0.74633191, -0.63605368, -0.510867  , -0.37370609, -0.22778585,\n",
              "        -0.07652652,  0.07652652,  0.22778585,  0.37370609,  0.510867  ,\n",
              "         0.63605368,  0.74633191,  0.74633191,  0.83911697,  0.91223443,\n",
              "         0.96397193,  0.9931286 ])]"
            ]
          },
          "metadata": {},
          "execution_count": 44
        }
      ]
    },
    {
      "cell_type": "code",
      "source": [
        "#Pesos ponderados\n",
        "Weights"
      ],
      "metadata": {
        "colab": {
          "base_uri": "https://localhost:8080/"
        },
        "id": "LmSP998NbVP6",
        "outputId": "883f70b8-1aca-468d-c8c2-64daa15717b7"
      },
      "execution_count": 45,
      "outputs": [
        {
          "output_type": "execute_result",
          "data": {
            "text/plain": [
              "[array([], dtype=float64),\n",
              " array([1., 1.]),\n",
              " array([0.55555556, 0.55555556]),\n",
              " array([0.34785485, 0.65214515, 0.65214515, 0.34785485]),\n",
              " array([0.23692689, 0.47862867, 0.47862867, 0.23692689]),\n",
              " array([0.17132449, 0.36076157, 0.46791393, 0.46791393, 0.36076157,\n",
              "        0.17132449]),\n",
              " array([0.12948497, 0.27970539, 0.38183005, 0.38183005, 0.27970539,\n",
              "        0.12948497]),\n",
              " array([0.10122854, 0.22238103, 0.31370665, 0.36268378, 0.36268378,\n",
              "        0.31370665, 0.22238103, 0.10122854]),\n",
              " array([0.08127439, 0.18064816, 0.2606107 , 0.31234708, 0.31234708,\n",
              "        0.2606107 , 0.18064816, 0.08127439]),\n",
              " array([0.06667134, 0.14945135, 0.21908636, 0.26926672, 0.29552422,\n",
              "        0.29552422, 0.26926672, 0.21908636, 0.14945135, 0.06667134]),\n",
              " array([0.05566857, 0.12558037, 0.18629021, 0.23319376, 0.26280454,\n",
              "        0.26280454, 0.23319376, 0.18629021, 0.12558037, 0.05566857]),\n",
              " array([0.04717534, 0.10693933, 0.16007833, 0.20316743, 0.23349254,\n",
              "        0.24914705, 0.24914705, 0.23349254, 0.20316743, 0.16007833,\n",
              "        0.10693933, 0.04717534]),\n",
              " array([0.040484  , 0.0921215 , 0.13887351, 0.17814598, 0.20781605,\n",
              "        0.22628318, 0.22628318, 0.20781605, 0.17814598, 0.13887351,\n",
              "        0.0921215 , 0.040484  ]),\n",
              " array([0.03511946, 0.08015809, 0.12151857, 0.15720317, 0.1855384 ,\n",
              "        0.20519846, 0.21526385, 0.21526385, 0.20519846, 0.1855384 ,\n",
              "        0.15720317, 0.12151857, 0.08015809, 0.03511946]),\n",
              " array([0.03075324, 0.07036605, 0.10715922, 0.13957068, 0.16626921,\n",
              "        0.186161  , 0.19843149, 0.19843149, 0.186161  , 0.16626921,\n",
              "        0.13957068, 0.10715922, 0.07036605, 0.03075324]),\n",
              " array([0.02715246, 0.06225352, 0.09515851, 0.12462897, 0.14959599,\n",
              "        0.16915652, 0.18260342, 0.18945061, 0.18945061, 0.18260342,\n",
              "        0.16915652, 0.14959599, 0.12462897, 0.09515851, 0.06225352,\n",
              "        0.02715246]),\n",
              " array([0.0241483 , 0.05545953, 0.08503615, 0.11188385, 0.13513637,\n",
              "        0.15404576, 0.1680041 , 0.17656271, 0.17656271, 0.1680041 ,\n",
              "        0.15404576, 0.13513637, 0.11188385, 0.08503615, 0.05545953,\n",
              "        0.0241483 ]),\n",
              " array([0.02161601, 0.04971455, 0.07642573, 0.10094204, 0.12255521,\n",
              "        0.14064291, 0.15468468, 0.16427648, 0.16914238, 0.16914238,\n",
              "        0.16427648, 0.15468468, 0.14064291, 0.12255521, 0.10094204,\n",
              "        0.07642573, 0.04971455, 0.02161601]),\n",
              " array([0.01946179, 0.04481423, 0.06904454, 0.09149002, 0.11156665,\n",
              "        0.12875396, 0.1426067 , 0.15276604, 0.15896884, 0.15896884,\n",
              "        0.15276604, 0.1426067 , 0.12875396, 0.11156665, 0.09149002,\n",
              "        0.06904454, 0.04481423, 0.01946179]),\n",
              " array([0.01761401, 0.04060143, 0.06267205, 0.08327674, 0.10193012,\n",
              "        0.10193012, 0.11819453, 0.13168864, 0.14209611, 0.14917299,\n",
              "        0.15275339, 0.15275339, 0.14917299, 0.14209611, 0.13168864,\n",
              "        0.11819453, 0.10193012, 0.10193012, 0.08327674, 0.06267205,\n",
              "        0.04060143, 0.01761401])]"
            ]
          },
          "metadata": {},
          "execution_count": 45
        }
      ]
    }
  ]
}