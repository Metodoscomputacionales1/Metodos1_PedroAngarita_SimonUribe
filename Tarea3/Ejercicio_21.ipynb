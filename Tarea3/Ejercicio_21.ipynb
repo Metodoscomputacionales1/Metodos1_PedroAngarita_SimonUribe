{
  "nbformat": 4,
  "nbformat_minor": 0,
  "metadata": {
    "colab": {
      "provenance": [],
      "authorship_tag": "ABX9TyOz4rccuSZ5sxCRBhTPP0od",
      "include_colab_link": true
    },
    "kernelspec": {
      "name": "python3",
      "display_name": "Python 3"
    },
    "language_info": {
      "name": "python"
    }
  },
  "cells": [
    {
      "cell_type": "markdown",
      "metadata": {
        "id": "view-in-github",
        "colab_type": "text"
      },
      "source": [
        "<a href=\"https://colab.research.google.com/github/Metodoscomputacionales1/Metodos1_PedroAngarita_SimonUribe/blob/main/Tarea3/Ejercicio_21.ipynb\" target=\"_parent\"><img src=\"https://colab.research.google.com/assets/colab-badge.svg\" alt=\"Open In Colab\"/></a>"
      ]
    },
    {
      "cell_type": "code",
      "execution_count": 1,
      "metadata": {
        "id": "WOsKiQ7Gx84x"
      },
      "outputs": [],
      "source": [
        "import numpy as np\n",
        "import matplotlib.pyplot as plt\n",
        "import sympy as sym"
      ]
    },
    {
      "cell_type": "code",
      "source": [
        "#b)\n",
        "X=np.linspace(-1, 1, 101)\n",
        "\n",
        "@np.vectorize\n",
        "def sgn(x):\n",
        "  if x>0:\n",
        "    return 1\n",
        "  elif x==0:\n",
        "    return 0\n",
        "  else:\n",
        "    return -1\n",
        "\n",
        "y=sgn(X)\n",
        "y"
      ],
      "metadata": {
        "colab": {
          "base_uri": "https://localhost:8080/"
        },
        "id": "t3SaxsnfzXnB",
        "outputId": "e4a03415-b396-4449-9622-3d501fd8e714"
      },
      "execution_count": 59,
      "outputs": [
        {
          "output_type": "execute_result",
          "data": {
            "text/plain": [
              "array([-1, -1, -1, -1, -1, -1, -1, -1, -1, -1, -1, -1, -1, -1, -1, -1, -1,\n",
              "       -1, -1, -1, -1, -1, -1, -1, -1, -1, -1, -1, -1, -1, -1, -1, -1, -1,\n",
              "       -1, -1, -1, -1, -1, -1, -1, -1, -1, -1, -1, -1, -1, -1, -1, -1,  0,\n",
              "        1,  1,  1,  1,  1,  1,  1,  1,  1,  1,  1,  1,  1,  1,  1,  1,  1,\n",
              "        1,  1,  1,  1,  1,  1,  1,  1,  1,  1,  1,  1,  1,  1,  1,  1,  1,\n",
              "        1,  1,  1,  1,  1,  1,  1,  1,  1,  1,  1,  1,  1,  1,  1,  1])"
            ]
          },
          "metadata": {},
          "execution_count": 59
        }
      ]
    },
    {
      "cell_type": "code",
      "source": [
        "#c)\n",
        "plt.scatter(X, y, color=\"orange\")\n",
        "plt.xlabel(\"x\")\n",
        "plt.ylabel(\"y\")\n",
        "plt.show()"
      ],
      "metadata": {
        "colab": {
          "base_uri": "https://localhost:8080/",
          "height": 449
        },
        "id": "R3dYgv7ozleq",
        "outputId": "d4a3f0a2-86c3-4250-a50d-48a1a31e5494"
      },
      "execution_count": 60,
      "outputs": [
        {
          "output_type": "display_data",
          "data": {
            "text/plain": [
              "<Figure size 640x480 with 1 Axes>"
            ],
            "image/png": "[encoded data removed]"
          },
          "metadata": {}
        }
      ]
    },
    {
      "cell_type": "code",
      "source": [
        "def GetNewtonMethod(f,df,xn,itmax = 10000, precision=1e-14):\n",
        "\n",
        "    error = 1.\n",
        "    it = 0\n",
        "\n",
        "    while error >= precision and it < itmax:\n",
        "\n",
        "        try:\n",
        "\n",
        "            xn1 = xn - f(xn)/df(xn)\n",
        "\n",
        "            error = np.abs( (xn1-xn)/xn )\n",
        "           # error = np.abs(f(xn)/df(xn))\n",
        "\n",
        "        except ZeroDivisionError:\n",
        "            print(\"zero division\")\n",
        "\n",
        "        xn  = xn1\n",
        "        it += 1\n",
        "\n",
        "    #print('Raiz:',xn,it)\n",
        "\n",
        "    if it == itmax:\n",
        "        return False\n",
        "    else:\n",
        "        return xn\n",
        "\n",
        "def GetAllRoots(f,df,x, tolerancia=5):\n",
        "\n",
        "    Roots = np.array([0])\n",
        "\n",
        "    for i in x:\n",
        "\n",
        "        root = GetNewtonMethod(f,df,i)\n",
        "\n",
        "        if root != False:\n",
        "\n",
        "            croot = np.round( root, tolerancia )\n",
        "\n",
        "            if croot not in Roots:\n",
        "                Roots = np.append( Roots, croot )\n",
        "\n",
        "    # Ordenamos las raices\n",
        "    Roots.sort()\n",
        "\n",
        "    return Roots\n",
        "\n",
        "def GetLegendre(n):\n",
        "\n",
        "  x = sym.Symbol('x',Real=True)\n",
        "  y = sym.Symbol('y',Real=True)\n",
        "\n",
        "  y = (x**2 - 1)**n\n",
        "\n",
        "  p = sym.diff(y,x,n)/(2**n * np.math.factorial(n))\n",
        "\n",
        "  return p"
      ],
      "metadata": {
        "id": "vNthX40y0KHo"
      },
      "execution_count": 48,
      "outputs": []
    },
    {
      "cell_type": "code",
      "source": [
        "#d)\n",
        "Legendre = []\n",
        "DLegendre = []\n",
        "\n",
        "x = sym.Symbol('x',Real=True)\n",
        "n=15\n",
        "\n",
        "for i in range(n+1):\n",
        "\n",
        "    poly = GetLegendre(i)\n",
        "\n",
        "    Legendre.append(poly)\n",
        "    DLegendre.append(sym.diff(poly,x))\n",
        "\n",
        "def GetRootsPolynomial(n,xi,poly,dpoly):\n",
        "\n",
        "    x = sym.Symbol('x',Real=True)\n",
        "    pn = sym.lambdify([x],poly[n],'numpy')\n",
        "    dpn = sym.lambdify([x],dpoly[n],'numpy')\n",
        "    Roots = GetAllRoots(pn,dpn,xi)\n",
        "\n",
        "    return Roots\n",
        "\n",
        "xi = np.linspace(-1,1,100,dtype=np.longdouble)\n",
        "Roots = GetRootsPolynomial(n,xi,Legendre,DLegendre)"
      ],
      "metadata": {
        "colab": {
          "base_uri": "https://localhost:8080/"
        },
        "id": "-iSsb3Hq0Ylz",
        "outputId": "5db04c63-46f3-4c11-c1bc-22feac8e10a8"
      },
      "execution_count": 49,
      "outputs": [
        {
          "output_type": "stream",
          "name": "stderr",
          "text": [
            "<ipython-input-48-be751866f917>:55: DeprecationWarning: `np.math` is a deprecated alias for the standard library `math` module (Deprecated Numpy 1.25). Replace usages of `np.math` with `math`\n",
            "  p = sym.diff(y,x,n)/(2**n * np.math.factorial(n))\n",
            "<ipython-input-48-be751866f917>:12: RuntimeWarning: invalid value encountered in scalar divide\n",
            "  error = np.abs( (xn1-xn)/xn )\n"
          ]
        },
        {
          "output_type": "execute_result",
          "data": {
            "text/plain": [
              "array([-0.98799, -0.93727, -0.84821, -0.72442, -0.57097, -0.39415,\n",
              "       -0.20119,  0.     ,  0.20119,  0.39415,  0.57097,  0.72442,\n",
              "        0.84821,  0.93727,  0.98799], dtype=float128)"
            ]
          },
          "metadata": {},
          "execution_count": 49
        }
      ]
    },
    {
      "cell_type": "code",
      "source": [
        "def Pesos (Roots, Derivfuncion, hasta):\n",
        "  x=sym.Symbol('x',Real=True)\n",
        "\n",
        "  pesos=[]\n",
        "\n",
        "  dpn = sym.lambdify([x],Derivfuncion,'numpy')\n",
        "\n",
        "  for i in range(len(Roots)):\n",
        "    peso=2/((1-Roots[i]**2)*(Derivfuncion[hasta].subs(x,Roots[i])**2))\n",
        "    peso=round(peso,11)\n",
        "    pesos.append(peso)\n",
        "\n",
        "  pesos.sort()\n",
        "  return pesos\n",
        "\n",
        "pesos=np.array(Pesos(Roots,DLegendre, 15))"
      ],
      "metadata": {
        "id": "GrgQQQhM1PqF"
      },
      "execution_count": 56,
      "outputs": []
    },
    {
      "cell_type": "code",
      "source": [
        "raices, weights = np.polynomial.legendre.leggauss(15)\n",
        "print(Roots)\n",
        "print(raices)\n",
        "print(pesos)\n",
        "print(weights)"
      ],
      "metadata": {
        "colab": {
          "base_uri": "https://localhost:8080/"
        },
        "id": "C5hLdGPr1XAo",
        "outputId": "f9411f8b-0140-44db-8432-99f99766b983"
      },
      "execution_count": 55,
      "outputs": [
        {
          "output_type": "stream",
          "name": "stdout",
          "text": [
            "[-0.98799 -0.93727 -0.84821 -0.72442 -0.57097 -0.39415 -0.20119  0.\n",
            "  0.20119  0.39415  0.57097  0.72442  0.84821  0.93727  0.98799]\n",
            "[-0.98799252 -0.93727339 -0.84820658 -0.72441773 -0.57097217 -0.39415135\n",
            " -0.20119409  0.          0.20119409  0.39415135  0.57097217  0.72441773\n",
            "  0.84820658  0.93727339  0.98799252]\n",
            "[0.03075965408 0.03075965408 0.07036973142 0.07036973142 0.10715700767\n",
            " 0.10715700767 0.13956971294 0.13956971294 0.16626981814 0.16626981814\n",
            " 0.18616123416 0.18616123416 0.19843182684 0.19843182684 0.20257824193]\n",
            "[0.03075324 0.07036605 0.10715922 0.13957068 0.16626921 0.186161\n",
            " 0.19843149 0.20257824 0.19843149 0.186161   0.16626921 0.13957068\n",
            " 0.10715922 0.07036605 0.03075324]\n"
          ]
        }
      ]
    },
    {
      "cell_type": "code",
      "source": [
        "#e)\n",
        "polinomiosl=[]\n",
        "for i in range(20):\n",
        "  polinomiosl.append(GetLegendre(i))\n",
        "polinomiosl"
      ],
      "metadata": {
        "colab": {
          "base_uri": "https://localhost:8080/"
        },
        "id": "wZLF_0W35iXN",
        "outputId": "6dd43a59-74de-4c62-93c7-667d52278222"
      },
      "execution_count": 57,
      "outputs": [
        {
          "output_type": "stream",
          "name": "stderr",
          "text": [
            "<ipython-input-48-be751866f917>:55: DeprecationWarning: `np.math` is a deprecated alias for the standard library `math` module (Deprecated Numpy 1.25). Replace usages of `np.math` with `math`\n",
            "  p = sym.diff(y,x,n)/(2**n * np.math.factorial(n))\n"
          ]
        },
        {
          "output_type": "execute_result",
          "data": {
            "text/plain": [
              "[1,\n",
              " x,\n",
              " (3*x**2 - 1)/2,\n",
              " x*(5*x**2 - 3)/2,\n",
              " (8*x**4 + 24*x**2*(x**2 - 1) + 3*(x**2 - 1)**2)/8,\n",
              " x*(8*x**4 + 40*x**2*(x**2 - 1) + 15*(x**2 - 1)**2)/8,\n",
              " (16*x**6 + 120*x**4*(x**2 - 1) + 90*x**2*(x**2 - 1)**2 + 5*(x**2 - 1)**3)/16,\n",
              " x*(16*x**6 + 168*x**4*(x**2 - 1) + 210*x**2*(x**2 - 1)**2 + 35*(x**2 - 1)**3)/16,\n",
              " (128*x**8 + 1792*x**6*(x**2 - 1) + 3360*x**4*(x**2 - 1)**2 + 1120*x**2*(x**2 - 1)**3 + 35*(x**2 - 1)**4)/128,\n",
              " x*(128*x**8 + 2304*x**6*(x**2 - 1) + 6048*x**4*(x**2 - 1)**2 + 3360*x**2*(x**2 - 1)**3 + 315*(x**2 - 1)**4)/128,\n",
              " (256*x**10 + 5760*x**8*(x**2 - 1) + 20160*x**6*(x**2 - 1)**2 + 16800*x**4*(x**2 - 1)**3 + 3150*x**2*(x**2 - 1)**4 + 63*(x**2 - 1)**5)/256,\n",
              " x*(256*x**10 + 7040*x**8*(x**2 - 1) + 31680*x**6*(x**2 - 1)**2 + 36960*x**4*(x**2 - 1)**3 + 11550*x**2*(x**2 - 1)**4 + 693*(x**2 - 1)**5)/256,\n",
              " (1024*x**12 + 33792*x**10*(x**2 - 1) + 190080*x**8*(x**2 - 1)**2 + 295680*x**6*(x**2 - 1)**3 + 138600*x**4*(x**2 - 1)**4 + 16632*x**2*(x**2 - 1)**5 + 231*(x**2 - 1)**6)/1024,\n",
              " x*(1024*x**12 + 39936*x**10*(x**2 - 1) + 274560*x**8*(x**2 - 1)**2 + 549120*x**6*(x**2 - 1)**3 + 360360*x**4*(x**2 - 1)**4 + 72072*x**2*(x**2 - 1)**5 + 3003*(x**2 - 1)**6)/1024,\n",
              " (2048*x**14 + 93184*x**12*(x**2 - 1) + 768768*x**10*(x**2 - 1)**2 + 1921920*x**8*(x**2 - 1)**3 + 1681680*x**6*(x**2 - 1)**4 + 504504*x**4*(x**2 - 1)**5 + 42042*x**2*(x**2 - 1)**6 + 429*(x**2 - 1)**7)/2048,\n",
              " x*(2048*x**14 + 107520*x**12*(x**2 - 1) + 1048320*x**10*(x**2 - 1)**2 + 3203200*x**8*(x**2 - 1)**3 + 3603600*x**6*(x**2 - 1)**4 + 1513512*x**4*(x**2 - 1)**5 + 210210*x**2*(x**2 - 1)**6 + 6435*(x**2 - 1)**7)/2048,\n",
              " (32768*x**16 + 1966080*x**14*(x**2 - 1) + 22364160*x**12*(x**2 - 1)**2 + 82001920*x**10*(x**2 - 1)**3 + 115315200*x**8*(x**2 - 1)**4 + 64576512*x**6*(x**2 - 1)**5 + 13453440*x**4*(x**2 - 1)**6 + 823680*x**2*(x**2 - 1)**7 + 6435*(x**2 - 1)**8)/32768,\n",
              " x*(32768*x**16 + 2228224*x**14*(x**2 - 1) + 29245440*x**12*(x**2 - 1)**2 + 126730240*x**10*(x**2 - 1)**3 + 217817600*x**8*(x**2 - 1)**4 + 156828672*x**6*(x**2 - 1)**5 + 45741696*x**4*(x**2 - 1)**6 + 4667520*x**2*(x**2 - 1)**7 + 109395*(x**2 - 1)**8)/32768,\n",
              " (65536*x**18 + 5013504*x**16*(x**2 - 1) + 75202560*x**14*(x**2 - 1)**2 + 380190720*x**12*(x**2 - 1)**3 + 784143360*x**10*(x**2 - 1)**4 + 705729024*x**8*(x**2 - 1)**5 + 274450176*x**6*(x**2 - 1)**6 + 42007680*x**4*(x**2 - 1)**7 + 1969110*x**2*(x**2 - 1)**8 + 12155*(x**2 - 1)**9)/65536,\n",
              " x*(65536*x**18 + 5603328*x**16*(x**2 - 1) + 95256576*x**14*(x**2 - 1)**2 + 555663360*x**12*(x**2 - 1)**3 + 1354429440*x**10*(x**2 - 1)**4 + 1489872384*x**8*(x**2 - 1)**5 + 744936192*x**6*(x**2 - 1)**6 + 159629184*x**4*(x**2 - 1)**7 + 12471030*x**2*(x**2 - 1)**8 + 230945*(x**2 - 1)**9)/65536]"
            ]
          },
          "metadata": {},
          "execution_count": 57
        }
      ]
    },
    {
      "cell_type": "code",
      "source": [
        "#f)\n",
        "def coeficientes (X,n,f,poli,weights,roots):\n",
        "  co=[]\n",
        "  for i in range(n):\n",
        "    base=(2*i+1)*0.5*f(roots[i])\n",
        "    #Pregunta en complementaria como integrar un producto\n",
        "    nueva=poli[i].subs(x,roots[i])\n",
        "    I=np.sum(weights[i]*nueva)\n",
        "    total=I*base\n",
        "    co.append(total)\n",
        "  return co\n",
        "\n",
        "coeficientesC=coeficientes (X, 15, sgn, polinomiosl, weights, raices)\n",
        "coeficientesC"
      ],
      "metadata": {
        "colab": {
          "base_uri": "https://localhost:8080/"
        },
        "id": "z6rKHjCv59DH",
        "outputId": "568c065d-43f4-420b-bf9d-f5cc64f192d6"
      },
      "execution_count": 104,
      "outputs": [
        {
          "output_type": "execute_result",
          "data": {
            "text/plain": [
              "[-0.0153766209980593,\n",
              " 0.0989283360585123,\n",
              " -0.155161625183676,\n",
              " -0.0665454831223038,\n",
              " 0.286228861903270,\n",
              " 0.284799030208146,\n",
              " 0.100808024686426,\n",
              " 0,\n",
              " -0.0715236865948704,\n",
              " -0.312074099653158,\n",
              " -0.471398454389178,\n",
              " -0.0436782966402980,\n",
              " 0.412418912093783,\n",
              " -0.228505518774082,\n",
              " 0.0370399625073617]"
            ]
          },
          "metadata": {},
          "execution_count": 104
        }
      ]
    },
    {
      "cell_type": "code",
      "source": [
        "#g)\n",
        "def comb (X):\n",
        "  combinacion=0\n",
        "  general=[]\n",
        "  for R in X:\n",
        "    general.append(combinacion)\n",
        "    combinacion=0\n",
        "    for i in range(15):\n",
        "      inicio=polinomiosl[i].subs(x,R)*coeficientesC[i]\n",
        "      combinacion+=inicio\n",
        "  return general\n",
        "\n",
        "combinacion=comb(X)\n",
        "combinacion"
      ],
      "metadata": {
        "colab": {
          "base_uri": "https://localhost:8080/"
        },
        "id": "42XbBL756Rhi",
        "outputId": "2939fd97-4b03-4b7e-86cb-0622fc1f1c92"
      },
      "execution_count": 105,
      "outputs": [
        {
          "output_type": "execute_result",
          "data": {
            "text/plain": [
              "[0,\n",
              " 0.390111405948240,\n",
              " -0.189464530481607,\n",
              " -0.324995927988488,\n",
              " -0.260602638379547,\n",
              " -0.139515836540049,\n",
              " -0.0365651564203248,\n",
              " 0.0176681319869688,\n",
              " 0.0193094572797337,\n",
              " -0.0211742276712909,\n",
              " -0.0873491881726416,\n",
              " -0.162170723399453,\n",
              " -0.231107682438385,\n",
              " -0.283666682568334,\n",
              " -0.313814525564448,\n",
              " -0.319686059251994,\n",
              " -0.302872134108660,\n",
              " -0.267505990954829,\n",
              " -0.219304241602429,\n",
              " -0.164668634142587,\n",
              " -0.109915286911035,\n",
              " -0.0606674691693194,\n",
              " -0.0214249087353643,\n",
              " 0.00469422124993102,\n",
              " 0.0160541378344490,\n",
              " 0.0124680501085593,\n",
              " -0.00494245440904629,\n",
              " -0.0339667834850193,\n",
              " -0.0715755879868049,\n",
              " -0.114216035334745,\n",
              " -0.158109310786838,\n",
              " -0.199531232695466,\n",
              " -0.235060872752010,\n",
              " -0.261786145971051,\n",
              " -0.277459279189503,\n",
              " -0.280598729768268,\n",
              " -0.270537397851894,\n",
              " -0.247419781607197,\n",
              " -0.212153021651044,\n",
              " -0.166318550696899,\n",
              " -0.112052311258105,\n",
              " -0.0519022496866093,\n",
              " 0.0113279253903486,\n",
              " 0.0747398715512491,\n",
              " 0.135498283514590,\n",
              " 0.190977571627939,\n",
              " 0.238891065606364,\n",
              " 0.277397493762018,\n",
              " 0.305180838437777,\n",
              " 0.321501077305281,\n",
              " 0.326214732040707,\n",
              " 0.319765510018137,\n",
              " 0.303146596210171,\n",
              " 0.277837293026467,\n",
              " 0.245717683782604,\n",
              " 0.208965786427798,\n",
              " 0.169942250844085,\n",
              " 0.131068025395885,\n",
              " 0.0947005733516433,\n",
              " 0.0630141608441145,\n",
              " 0.0378894748943755,\n",
              " 0.0208173780476843,\n",
              " 0.0128209857093070,\n",
              " 0.0143994879661737,\n",
              " 0.0254962576867042,\n",
              " 0.0454928218395951,\n",
              " 0.0732292559115394,\n",
              " 0.107050525607094,\n",
              " 0.144877279275672,\n",
              " 0.184298621444425,\n",
              " 0.222683503385729,\n",
              " 0.257306579127408,\n",
              " 0.285483719583891,\n",
              " 0.304711874186886,\n",
              " 0.312807634240822,\n",
              " 0.308038695388260,\n",
              " 0.289242442129887,\n",
              " 0.255926082879294,\n",
              " 0.208343140301519,\n",
              " 0.147541632443662,\n",
              " 0.0753799421367625,\n",
              " -0.00549286486468116,\n",
              " -0.0916946853579357,\n",
              " -0.179207551736769,\n",
              " -0.263515075412616,\n",
              " -0.339780162600364,\n",
              " -0.403062400563669,\n",
              " -0.448574104229694,\n",
              " -0.471973859997760,\n",
              " -0.469696563743389,\n",
              " -0.439319478281484,\n",
              " -0.379964780986739,\n",
              " -0.292740475530790,\n",
              " -0.181223431999537,\n",
              " -0.0519907114447760,\n",
              " 0.0847917797960871,\n",
              " 0.214710900369780,\n",
              " 0.318361965093383,\n",
              " 0.370498222546642,\n",
              " 0.339049502589880,\n",
              " 0.183981048210159]"
            ]
          },
          "metadata": {},
          "execution_count": 105
        }
      ]
    },
    {
      "cell_type": "code",
      "source": [
        "plt.scatter(X, y, color=\"orange\")\n",
        "plt.plot(X, combinacion, color=\"blue\")\n",
        "plt.xlabel(\"x\")\n",
        "plt.ylabel(\"y\")\n",
        "plt.show()"
      ],
      "metadata": {
        "colab": {
          "base_uri": "https://localhost:8080/",
          "height": 449
        },
        "id": "4NJU7fNo-JJR",
        "outputId": "80db684a-dff5-4f75-a009-56013f3efd4e"
      },
      "execution_count": 106,
      "outputs": [
        {
          "output_type": "display_data",
          "data": {
            "text/plain": [
              "<Figure size 640x480 with 1 Axes>"
            ],
            "image/png": "[encoded data removed]"
          },
          "metadata": {}
        }
      ]
    }
  ]
}