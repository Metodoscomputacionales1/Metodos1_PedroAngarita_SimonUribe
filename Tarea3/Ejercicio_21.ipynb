{
  "nbformat": 4,
  "nbformat_minor": 0,
  "metadata": {
    "colab": {
      "provenance": [],
      "include_colab_link": true
    },
    "kernelspec": {
      "name": "python3",
      "display_name": "Python 3"
    },
    "language_info": {
      "name": "python"
    }
  },
  "cells": [
    {
      "cell_type": "markdown",
      "metadata": {
        "id": "view-in-github",
        "colab_type": "text"
      },
      "source": [
        "<a href=\"https://colab.research.google.com/github/Metodoscomputacionales1/Metodos1_PedroAngarita_SimonUribe/blob/main/Tarea3/Ejercicio_21.ipynb\" target=\"_parent\"><img src=\"https://colab.research.google.com/assets/colab-badge.svg\" alt=\"Open In Colab\"/></a>"
      ]
    },
    {
      "cell_type": "code",
      "execution_count": 1,
      "metadata": {
        "id": "WOsKiQ7Gx84x"
      },
      "outputs": [],
      "source": [
        "import numpy as np\n",
        "import matplotlib.pyplot as plt\n",
        "import sympy as sym"
      ]
    },
    {
      "cell_type": "code",
      "source": [
        "#b)\n",
        "X=np.linspace(-1, 1, 101)\n",
        "\n",
        "@np.vectorize\n",
        "def sgn(x):\n",
        "  if x>0:\n",
        "    return 1\n",
        "  elif x==0:\n",
        "    return 0\n",
        "  else:\n",
        "    return -1\n",
        "\n",
        "y=sgn(X)\n",
        "y"
      ],
      "metadata": {
        "colab": {
          "base_uri": "https://localhost:8080/"
        },
        "id": "t3SaxsnfzXnB",
        "outputId": "12705a16-12eb-427e-a026-c0124ab28a9e"
      },
      "execution_count": 2,
      "outputs": [
        {
          "output_type": "execute_result",
          "data": {
            "text/plain": [
              "array([-1, -1, -1, -1, -1, -1, -1, -1, -1, -1, -1, -1, -1, -1, -1, -1, -1,\n",
              "       -1, -1, -1, -1, -1, -1, -1, -1, -1, -1, -1, -1, -1, -1, -1, -1, -1,\n",
              "       -1, -1, -1, -1, -1, -1, -1, -1, -1, -1, -1, -1, -1, -1, -1, -1,  0,\n",
              "        1,  1,  1,  1,  1,  1,  1,  1,  1,  1,  1,  1,  1,  1,  1,  1,  1,\n",
              "        1,  1,  1,  1,  1,  1,  1,  1,  1,  1,  1,  1,  1,  1,  1,  1,  1,\n",
              "        1,  1,  1,  1,  1,  1,  1,  1,  1,  1,  1,  1,  1,  1,  1,  1])"
            ]
          },
          "metadata": {},
          "execution_count": 2
        }
      ]
    },
    {
      "cell_type": "code",
      "source": [
        "#c)\n",
        "plt.scatter(X, y, color=\"orange\")\n",
        "plt.xlabel(\"x\")\n",
        "plt.ylabel(\"y\")\n",
        "plt.show()"
      ],
      "metadata": {
        "colab": {
          "base_uri": "https://localhost:8080/",
          "height": 449
        },
        "id": "R3dYgv7ozleq",
        "outputId": "53e79c52-0978-4507-bebb-937d11b2dbfb"
      },
      "execution_count": 3,
      "outputs": [
        {
          "output_type": "display_data",
          "data": {
            "text/plain": [
              "<Figure size 640x480 with 1 Axes>"
            ],
            "image/png": "[encoded data removed]"
          },
          "metadata": {}
        }
      ]
    },
    {
      "cell_type": "code",
      "source": [
        "def GetNewtonMethod(f,df,xn,itmax = 10000, precision=1e-14):\n",
        "\n",
        "    error = 1.\n",
        "    it = 0\n",
        "\n",
        "    while error >= precision and it < itmax:\n",
        "\n",
        "        try:\n",
        "\n",
        "            xn1 = xn - f(xn)/df(xn)\n",
        "\n",
        "            error = np.abs( (xn1-xn)/xn )\n",
        "           # error = np.abs(f(xn)/df(xn))\n",
        "\n",
        "        except ZeroDivisionError:\n",
        "            print(\"zero division\")\n",
        "\n",
        "        xn  = xn1\n",
        "        it += 1\n",
        "\n",
        "    #print('Raiz:',xn,it)\n",
        "\n",
        "    if it == itmax:\n",
        "        return False\n",
        "    else:\n",
        "        return xn\n",
        "\n",
        "def GetAllRoots(f,df,x, tolerancia=5):\n",
        "\n",
        "    Roots = np.array([0])\n",
        "\n",
        "    for i in x:\n",
        "\n",
        "        root = GetNewtonMethod(f,df,i)\n",
        "\n",
        "        if root != False:\n",
        "\n",
        "            croot = np.round( root, tolerancia )\n",
        "\n",
        "            if croot not in Roots:\n",
        "                Roots = np.append( Roots, croot )\n",
        "\n",
        "    # Ordenamos las raices\n",
        "    Roots.sort()\n",
        "\n",
        "    return Roots\n",
        "\n",
        "def GetLegendre(n):\n",
        "\n",
        "  x = sym.Symbol('x',Real=True)\n",
        "  y = sym.Symbol('y',Real=True)\n",
        "\n",
        "  y = (x**2 - 1)**n\n",
        "\n",
        "  p = sym.diff(y,x,n)/(2**n * np.math.factorial(n))\n",
        "\n",
        "  return p"
      ],
      "metadata": {
        "id": "vNthX40y0KHo"
      },
      "execution_count": 4,
      "outputs": []
    },
    {
      "cell_type": "code",
      "source": [
        "#d)\n",
        "Legendre = []\n",
        "DLegendre = []\n",
        "\n",
        "x = sym.Symbol('x',Real=True)\n",
        "n=15\n",
        "\n",
        "for i in range(n+1):\n",
        "\n",
        "    poly = GetLegendre(i)\n",
        "\n",
        "    Legendre.append(poly)\n",
        "    DLegendre.append(sym.diff(poly,x))\n",
        "\n",
        "def GetRootsPolynomial(n,xi,poly,dpoly):\n",
        "\n",
        "    x = sym.Symbol('x',Real=True)\n",
        "    pn = sym.lambdify([x],poly[n],'numpy')\n",
        "    dpn = sym.lambdify([x],dpoly[n],'numpy')\n",
        "    Roots = GetAllRoots(pn,dpn,xi)\n",
        "\n",
        "    return Roots\n",
        "\n",
        "xi = np.linspace(-1,1,100,dtype=np.longdouble)\n",
        "Roots = GetRootsPolynomial(n,xi,Legendre,DLegendre)"
      ],
      "metadata": {
        "colab": {
          "base_uri": "https://localhost:8080/"
        },
        "id": "-iSsb3Hq0Ylz",
        "outputId": "0b6e65c7-0e3c-4b61-96a7-53b8b175318c"
      },
      "execution_count": 5,
      "outputs": [
        {
          "output_type": "stream",
          "name": "stderr",
          "text": [
            "<ipython-input-4-be751866f917>:55: DeprecationWarning: `np.math` is a deprecated alias for the standard library `math` module (Deprecated Numpy 1.25). Replace usages of `np.math` with `math`\n",
            "  p = sym.diff(y,x,n)/(2**n * np.math.factorial(n))\n",
            "<ipython-input-4-be751866f917>:12: RuntimeWarning: invalid value encountered in scalar divide\n",
            "  error = np.abs( (xn1-xn)/xn )\n"
          ]
        }
      ]
    },
    {
      "cell_type": "code",
      "source": [
        "def Pesos (Roots, Derivfuncion, hasta):\n",
        "  x=sym.Symbol('x',Real=True)\n",
        "\n",
        "  pesos=[]\n",
        "\n",
        "  dpn = sym.lambdify([x],Derivfuncion,'numpy')\n",
        "\n",
        "  for i in range(len(Roots)):\n",
        "    peso=2/((1-Roots[i]**2)*(Derivfuncion[hasta].subs(x,Roots[i])**2))\n",
        "    peso=round(peso,11)\n",
        "    pesos.append(peso)\n",
        "\n",
        "  pesos.sort()\n",
        "  return pesos\n",
        "\n",
        "pesos=np.array(Pesos(Roots,DLegendre, 15))"
      ],
      "metadata": {
        "id": "GrgQQQhM1PqF"
      },
      "execution_count": 6,
      "outputs": []
    },
    {
      "cell_type": "code",
      "source": [
        "raices, weights = np.polynomial.legendre.leggauss(15)\n",
        "print(Roots)\n",
        "print(raices)\n",
        "print(pesos)\n",
        "print(weights)"
      ],
      "metadata": {
        "colab": {
          "base_uri": "https://localhost:8080/"
        },
        "id": "C5hLdGPr1XAo",
        "outputId": "77340d49-8467-4890-98d6-4fd0e20c59f5"
      },
      "execution_count": 7,
      "outputs": [
        {
          "output_type": "stream",
          "name": "stdout",
          "text": [
            "[-0.98799 -0.93727 -0.84821 -0.72442 -0.57097 -0.39415 -0.20119  0.\n",
            "  0.20119  0.39415  0.57097  0.72442  0.84821  0.93727  0.98799]\n",
            "[-0.98799252 -0.93727339 -0.84820658 -0.72441773 -0.57097217 -0.39415135\n",
            " -0.20119409  0.          0.20119409  0.39415135  0.57097217  0.72441773\n",
            "  0.84820658  0.93727339  0.98799252]\n",
            "[0.03075965408 0.03075965408 0.07036973142 0.07036973142 0.10715700767\n",
            " 0.10715700767 0.13956971294 0.13956971294 0.16626981814 0.16626981814\n",
            " 0.18616123416 0.18616123416 0.19843182684 0.19843182684 0.20257824193]\n",
            "[0.03075324 0.07036605 0.10715922 0.13957068 0.16626921 0.186161\n",
            " 0.19843149 0.20257824 0.19843149 0.186161   0.16626921 0.13957068\n",
            " 0.10715922 0.07036605 0.03075324]\n"
          ]
        }
      ]
    },
    {
      "cell_type": "code",
      "source": [
        "#e)\n",
        "polinomiosl=[]\n",
        "for i in range(20):\n",
        "  polinomiosl.append(GetLegendre(i))\n",
        "polinomiosl"
      ],
      "metadata": {
        "colab": {
          "base_uri": "https://localhost:8080/"
        },
        "id": "wZLF_0W35iXN",
        "outputId": "8896ba1c-c32e-4425-e56c-448e600fa8e8"
      },
      "execution_count": 8,
      "outputs": [
        {
          "output_type": "stream",
          "name": "stderr",
          "text": [
            "<ipython-input-4-be751866f917>:55: DeprecationWarning: `np.math` is a deprecated alias for the standard library `math` module (Deprecated Numpy 1.25). Replace usages of `np.math` with `math`\n",
            "  p = sym.diff(y,x,n)/(2**n * np.math.factorial(n))\n"
          ]
        },
        {
          "output_type": "execute_result",
          "data": {
            "text/plain": [
              "[1,\n",
              " x,\n",
              " (3*x**2 - 1)/2,\n",
              " x*(5*x**2 - 3)/2,\n",
              " (8*x**4 + 24*x**2*(x**2 - 1) + 3*(x**2 - 1)**2)/8,\n",
              " x*(8*x**4 + 40*x**2*(x**2 - 1) + 15*(x**2 - 1)**2)/8,\n",
              " (16*x**6 + 120*x**4*(x**2 - 1) + 90*x**2*(x**2 - 1)**2 + 5*(x**2 - 1)**3)/16,\n",
              " x*(16*x**6 + 168*x**4*(x**2 - 1) + 210*x**2*(x**2 - 1)**2 + 35*(x**2 - 1)**3)/16,\n",
              " (128*x**8 + 1792*x**6*(x**2 - 1) + 3360*x**4*(x**2 - 1)**2 + 1120*x**2*(x**2 - 1)**3 + 35*(x**2 - 1)**4)/128,\n",
              " x*(128*x**8 + 2304*x**6*(x**2 - 1) + 6048*x**4*(x**2 - 1)**2 + 3360*x**2*(x**2 - 1)**3 + 315*(x**2 - 1)**4)/128,\n",
              " (256*x**10 + 5760*x**8*(x**2 - 1) + 20160*x**6*(x**2 - 1)**2 + 16800*x**4*(x**2 - 1)**3 + 3150*x**2*(x**2 - 1)**4 + 63*(x**2 - 1)**5)/256,\n",
              " x*(256*x**10 + 7040*x**8*(x**2 - 1) + 31680*x**6*(x**2 - 1)**2 + 36960*x**4*(x**2 - 1)**3 + 11550*x**2*(x**2 - 1)**4 + 693*(x**2 - 1)**5)/256,\n",
              " (1024*x**12 + 33792*x**10*(x**2 - 1) + 190080*x**8*(x**2 - 1)**2 + 295680*x**6*(x**2 - 1)**3 + 138600*x**4*(x**2 - 1)**4 + 16632*x**2*(x**2 - 1)**5 + 231*(x**2 - 1)**6)/1024,\n",
              " x*(1024*x**12 + 39936*x**10*(x**2 - 1) + 274560*x**8*(x**2 - 1)**2 + 549120*x**6*(x**2 - 1)**3 + 360360*x**4*(x**2 - 1)**4 + 72072*x**2*(x**2 - 1)**5 + 3003*(x**2 - 1)**6)/1024,\n",
              " (2048*x**14 + 93184*x**12*(x**2 - 1) + 768768*x**10*(x**2 - 1)**2 + 1921920*x**8*(x**2 - 1)**3 + 1681680*x**6*(x**2 - 1)**4 + 504504*x**4*(x**2 - 1)**5 + 42042*x**2*(x**2 - 1)**6 + 429*(x**2 - 1)**7)/2048,\n",
              " x*(2048*x**14 + 107520*x**12*(x**2 - 1) + 1048320*x**10*(x**2 - 1)**2 + 3203200*x**8*(x**2 - 1)**3 + 3603600*x**6*(x**2 - 1)**4 + 1513512*x**4*(x**2 - 1)**5 + 210210*x**2*(x**2 - 1)**6 + 6435*(x**2 - 1)**7)/2048,\n",
              " (32768*x**16 + 1966080*x**14*(x**2 - 1) + 22364160*x**12*(x**2 - 1)**2 + 82001920*x**10*(x**2 - 1)**3 + 115315200*x**8*(x**2 - 1)**4 + 64576512*x**6*(x**2 - 1)**5 + 13453440*x**4*(x**2 - 1)**6 + 823680*x**2*(x**2 - 1)**7 + 6435*(x**2 - 1)**8)/32768,\n",
              " x*(32768*x**16 + 2228224*x**14*(x**2 - 1) + 29245440*x**12*(x**2 - 1)**2 + 126730240*x**10*(x**2 - 1)**3 + 217817600*x**8*(x**2 - 1)**4 + 156828672*x**6*(x**2 - 1)**5 + 45741696*x**4*(x**2 - 1)**6 + 4667520*x**2*(x**2 - 1)**7 + 109395*(x**2 - 1)**8)/32768,\n",
              " (65536*x**18 + 5013504*x**16*(x**2 - 1) + 75202560*x**14*(x**2 - 1)**2 + 380190720*x**12*(x**2 - 1)**3 + 784143360*x**10*(x**2 - 1)**4 + 705729024*x**8*(x**2 - 1)**5 + 274450176*x**6*(x**2 - 1)**6 + 42007680*x**4*(x**2 - 1)**7 + 1969110*x**2*(x**2 - 1)**8 + 12155*(x**2 - 1)**9)/65536,\n",
              " x*(65536*x**18 + 5603328*x**16*(x**2 - 1) + 95256576*x**14*(x**2 - 1)**2 + 555663360*x**12*(x**2 - 1)**3 + 1354429440*x**10*(x**2 - 1)**4 + 1489872384*x**8*(x**2 - 1)**5 + 744936192*x**6*(x**2 - 1)**6 + 159629184*x**4*(x**2 - 1)**7 + 12471030*x**2*(x**2 - 1)**8 + 230945*(x**2 - 1)**9)/65536]"
            ]
          },
          "metadata": {},
          "execution_count": 8
        }
      ]
    },
    {
      "cell_type": "code",
      "source": [
        "#f)\n",
        "def coeficientes (X,n,f,poli,weights,roots):\n",
        "  co=[]\n",
        "  for i in range(n):\n",
        "    base=(2*i+1)*0.5\n",
        "    I=-sym.integrate(poli[i],(x,-1,0))+sym.integrate(poli[i],(x,0,1))\n",
        "    total=I*base\n",
        "    co.append(total)\n",
        "  return co\n",
        "\n",
        "coeficientesC=coeficientes (X, 20, sgn, polinomiosl, weights, raices)\n",
        "coeficientesC"
      ],
      "metadata": {
        "colab": {
          "base_uri": "https://localhost:8080/"
        },
        "id": "z6rKHjCv59DH",
        "outputId": "67b99b3f-7daf-4a3f-fe9f-0a2d2fe0e949"
      },
      "execution_count": 16,
      "outputs": [
        {
          "output_type": "execute_result",
          "data": {
            "text/plain": [
              "[0,\n",
              " 1.50000000000000,\n",
              " 0,\n",
              " -0.875000000000000,\n",
              " 0,\n",
              " 0.687500000000000,\n",
              " 0,\n",
              " -0.585937500000000,\n",
              " 0,\n",
              " 0.519531250000000,\n",
              " 0,\n",
              " -0.471679687500000,\n",
              " 0,\n",
              " 0.435058593750000,\n",
              " 0,\n",
              " -0.405853271484375,\n",
              " 0,\n",
              " 0.381851196289063,\n",
              " 0,\n",
              " -0.361667633056641]"
            ]
          },
          "metadata": {},
          "execution_count": 16
        }
      ]
    },
    {
      "cell_type": "code",
      "source": [
        "#g)\n",
        "def comb (X):\n",
        "  combinacion=0\n",
        "  general=[]\n",
        "  for R in X:\n",
        "    general.append(combinacion)\n",
        "    combinacion=0\n",
        "    for i in range(15):\n",
        "      inicio=polinomiosl[i].subs(x,R)*coeficientesC[i]\n",
        "      combinacion+=inicio\n",
        "  return general\n",
        "\n",
        "combinacion=comb(X)\n",
        "combinacion"
      ],
      "metadata": {
        "colab": {
          "base_uri": "https://localhost:8080/"
        },
        "id": "42XbBL756Rhi",
        "outputId": "f9791368-1546-4f11-a178-5ac5e564ebbc"
      },
      "execution_count": 17,
      "outputs": [
        {
          "output_type": "execute_result",
          "data": {
            "text/plain": [
              "[0,\n",
              " -1.20947265625000,\n",
              " -0.950371850054447,\n",
              " -0.915521238614216,\n",
              " -0.965570274567668,\n",
              " -1.02603478863676,\n",
              " -1.06399724481361,\n",
              " -1.07137513512756,\n",
              " -1.05329497467824,\n",
              " -1.02036582785087,\n",
              " -0.983867832405374,\n",
              " -0.953061380296601,\n",
              " -0.933984789787448,\n",
              " -0.929245538513456,\n",
              " -0.938425258316903,\n",
              " -0.958814329214440,\n",
              " -0.986270445323870,\n",
              " -1.01605914895688,\n",
              " -1.04358503585462,\n",
              " -1.06496193734220,\n",
              " -1.07740052424385,\n",
              " -1.07941393071000,\n",
              " -1.07085748924095,\n",
              " -1.05282868391059,\n",
              " -1.02745901633994,\n",
              " -0.997631563083181,\n",
              " -0.966657392738853,\n",
              " -0.937941407940186,\n",
              " -0.914664183922812,\n",
              " -0.899501502869471,\n",
              " -0.894397959299132,\n",
              " -0.900405587688144,\n",
              " -0.917593221293420,\n",
              " -0.945027450286439,\n",
              " -0.980821771262128,\n",
              " -1.02224692258284,\n",
              " -1.06589255056061,\n",
              " -1.10786828159329,\n",
              " -1.14403098354523,\n",
              " -1.17022445653536,\n",
              " -1.18251794643290,\n",
              " -1.17743065277000,\n",
              " -1.15213072113577,\n",
              " -1.10459897270377,\n",
              " -1.03374972792395,\n",
              " -0.939503421796971,\n",
              " -0.822808178513665,\n",
              " -0.685610010129209,\n",
              " -0.530773729001149,\n",
              " -0.361958925968268,\n",
              " -0.183457384032086,\n",
              " 0,\n",
              " 0.183457384032086,\n",
              " 0.361958925968268,\n",
              " 0.530773729001150,\n",
              " 0.685610010129210,\n",
              " 0.822808178513666,\n",
              " 0.939503421796972,\n",
              " 1.03374972792395,\n",
              " 1.10459897270376,\n",
              " 1.15213072113577,\n",
              " 1.17743065277000,\n",
              " 1.18251794643290,\n",
              " 1.17022445653536,\n",
              " 1.14403098354523,\n",
              " 1.10786828159329,\n",
              " 1.06589255056061,\n",
              " 1.02224692258284,\n",
              " 0.980821771262128,\n",
              " 0.945027450286439,\n",
              " 0.917593221293420,\n",
              " 0.900405587688144,\n",
              " 0.894397959299132,\n",
              " 0.899501502869471,\n",
              " 0.914664183922812,\n",
              " 0.937941407940186,\n",
              " 0.966657392738853,\n",
              " 0.997631563083181,\n",
              " 1.02745901633994,\n",
              " 1.05282868391059,\n",
              " 1.07085748924095,\n",
              " 1.07941393071000,\n",
              " 1.07740052424385,\n",
              " 1.06496193734220,\n",
              " 1.04358503585462,\n",
              " 1.01605914895688,\n",
              " 0.986270445323870,\n",
              " 0.958814329214440,\n",
              " 0.938425258316903,\n",
              " 0.929245538513456,\n",
              " 0.933984789787448,\n",
              " 0.953061380296601,\n",
              " 0.983867832405374,\n",
              " 1.02036582785087,\n",
              " 1.05329497467824,\n",
              " 1.07137513512756,\n",
              " 1.06399724481361,\n",
              " 1.02603478863676,\n",
              " 0.965570274567668,\n",
              " 0.915521238614216,\n",
              " 0.950371850054447]"
            ]
          },
          "metadata": {},
          "execution_count": 17
        }
      ]
    },
    {
      "cell_type": "code",
      "source": [
        "plt.scatter(X, y, color=\"orange\")\n",
        "plt.plot(X, combinacion, color=\"blue\")\n",
        "plt.xlabel(\"x\")\n",
        "plt.ylabel(\"y\")\n",
        "plt.show()"
      ],
      "metadata": {
        "colab": {
          "base_uri": "https://localhost:8080/",
          "height": 449
        },
        "id": "4NJU7fNo-JJR",
        "outputId": "97cd5802-57d2-4efd-8581-4f7a97735672"
      },
      "execution_count": 18,
      "outputs": [
        {
          "output_type": "display_data",
          "data": {
            "text/plain": [
              "<Figure size 640x480 with 1 Axes>"
            ],
            "image/png": "[encoded data removed]"
          },
          "metadata": {}
        }
      ]
    }
  ]
}