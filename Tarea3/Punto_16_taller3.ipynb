{
  "nbformat": 4,
  "nbformat_minor": 0,
  "metadata": {
    "colab": {
      "provenance": [],
      "authorship_tag": "ABX9TyN8mn2w1omXhEztfjy3Ic8N",
      "include_colab_link": true
    },
    "kernelspec": {
      "name": "python3",
      "display_name": "Python 3"
    },
    "language_info": {
      "name": "python"
    }
  },
  "cells": [
    {
      "cell_type": "markdown",
      "metadata": {
        "id": "view-in-github",
        "colab_type": "text"
      },
      "source": [
        "<a href=\"https://colab.research.google.com/github/Metodoscomputacionales1/Metodos1_PedroAngarita_SimonUribe/blob/main/Tarea3/Punto_16_taller3.ipynb\" target=\"_parent\"><img src=\"https://colab.research.google.com/assets/colab-badge.svg\" alt=\"Open In Colab\"/></a>"
      ]
    },
    {
      "cell_type": "code",
      "execution_count": 11,
      "metadata": {
        "id": "KqzWOP-x8vUa"
      },
      "outputs": [],
      "source": [
        "\n",
        "import numpy as np\n",
        "import matplotlib.pyplot as plt"
      ]
    },
    {
      "cell_type": "code",
      "source": [
        "def f(x):\n",
        "  return 1/(1+x**4)"
      ],
      "metadata": {
        "id": "_RpV7CS387p6"
      },
      "execution_count": 12,
      "outputs": []
    },
    {
      "cell_type": "code",
      "source": [
        "X0=np.linspace(-10,10,100)\n",
        "Y0=f(X0)\n",
        "plt.plot(X0,Y0)\n",
        "plt.show()"
      ],
      "metadata": {
        "colab": {
          "base_uri": "https://localhost:8080/",
          "height": 430
        },
        "id": "_Xi4zNYM9BRY",
        "outputId": "44ea4080-781d-41fd-a4c9-919f364e4452"
      },
      "execution_count": 13,
      "outputs": [
        {
          "output_type": "display_data",
          "data": {
            "text/plain": [
              "<Figure size 640x480 with 1 Axes>"
            ],
            "image/png": "[encoded data removed]"
          },
          "metadata": {}
        }
      ]
    },
    {
      "cell_type": "code",
      "source": [
        "def traformacion_limites(t):\n",
        "  x = t / (1 - t)\n",
        "  return 1/((1+x**4)*(1 - t)**2)\n",
        ""
      ],
      "metadata": {
        "id": "YiN7bWLz_dcZ"
      },
      "execution_count": 14,
      "outputs": []
    },
    {
      "cell_type": "code",
      "source": [],
      "metadata": {
        "id": "wPXE86u9ARh0"
      },
      "execution_count": 14,
      "outputs": []
    },
    {
      "cell_type": "code",
      "source": [
        "def gauss_legendre_integral(f, a, b, n):\n",
        "    # Obtener los nodos y pesos para el intervalo [-1, 1]\n",
        "    nodos, pesos = np.polynomial.legendre.leggauss(n)\n",
        "\n",
        "    # Cambiar de intervalo de [-1, 1] a [a, b]\n",
        "    transform = 0.5 * (b - a) * nodos + 0.5 * (a + b)\n",
        "    # Calcular la suma ponderada\n",
        "    integral = 0.5 * (b - a) * np.sum(pesos * f(transform))\n",
        "    return integral"
      ],
      "metadata": {
        "id": "251CBbVC9TWl"
      },
      "execution_count": 17,
      "outputs": []
    },
    {
      "cell_type": "code",
      "source": [
        "gauss_legendre_integral(traformacion_limites,0,1,1000)"
      ],
      "metadata": {
        "colab": {
          "base_uri": "https://localhost:8080/"
        },
        "id": "CorIPLZwASNg",
        "outputId": "b1c1b5f3-cf72-45ff-85a7-fd5915672a25"
      },
      "execution_count": 20,
      "outputs": [
        {
          "output_type": "execute_result",
          "data": {
            "text/plain": [
              "1.1107207345396537"
            ]
          },
          "metadata": {},
          "execution_count": 20
        }
      ]
    }
  ]
}