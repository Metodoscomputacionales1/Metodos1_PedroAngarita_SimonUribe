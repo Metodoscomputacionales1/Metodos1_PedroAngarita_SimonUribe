{
  "nbformat": 4,
  "nbformat_minor": 0,
  "metadata": {
    "colab": {
      "provenance": [],
      "authorship_tag": "ABX9TyMIgkTDVmtBR6aiD5DzsHU1",
      "include_colab_link": true
    },
    "kernelspec": {
      "name": "python3",
      "display_name": "Python 3"
    },
    "language_info": {
      "name": "python"
    }
  },
  "cells": [
    {
      "cell_type": "markdown",
      "metadata": {
        "id": "view-in-github",
        "colab_type": "text"
      },
      "source": [
        "<a href=\"https://colab.research.google.com/github/Metodoscomputacionales1/Metodos1_PedroAngarita_SimonUribe/blob/main/Parcial2/Punto_26_parcial_2.ipynb\" target=\"_parent\"><img src=\"https://colab.research.google.com/assets/colab-badge.svg\" alt=\"Open In Colab\"/></a>"
      ]
    },
    {
      "cell_type": "code",
      "execution_count": 47,
      "metadata": {
        "id": "unyfleePyPDo"
      },
      "outputs": [],
      "source": [
        "import numpy as np\n",
        "import matplotlib.pyplot as plt"
      ]
    },
    {
      "cell_type": "code",
      "source": [
        "#Para el caso teorico\n",
        "def Riemmann (f,n):\n",
        "  Deltax=2/n\n",
        "  suma=0.\n",
        "  for i in range(n):\n",
        "    xi=i*Deltax\n",
        "    fx=f(xi)\n",
        "    suma+=fx*Deltax\n",
        "  return suma\n",
        "\n",
        "def f (x):\n",
        "  return x**3\n",
        "\n",
        "Integral=Riemmann(f,30)\n",
        "Integral"
      ],
      "metadata": {
        "colab": {
          "base_uri": "https://localhost:8080/"
        },
        "id": "DGdkqyeCyR5W",
        "outputId": "e3b433cb-5b22-48a6-e709-1e87834f0c38"
      },
      "execution_count": 48,
      "outputs": [
        {
          "output_type": "execute_result",
          "data": {
            "text/plain": [
              "3.7377777777777776"
            ]
          },
          "metadata": {},
          "execution_count": 48
        }
      ]
    },
    {
      "cell_type": "code",
      "source": [
        "def Riemmann2 (f,n):\n",
        "  Deltax=2/n\n",
        "  suma=0.\n",
        "  for i in range(len(n)):\n",
        "    xi=i*Deltax\n",
        "    fx=f(xi)\n",
        "    suma+=fx*Deltax\n",
        "  return suma\n",
        "\n",
        "def f (x):\n",
        "  return x**3"
      ],
      "metadata": {
        "id": "6pw5Fy3u1Nrt"
      },
      "execution_count": 49,
      "outputs": []
    },
    {
      "cell_type": "code",
      "source": [
        "def error (n):\n",
        "  error=abs((4)-Riemmann2(f,n))\n",
        "  return error"
      ],
      "metadata": {
        "id": "gWVp_XwB2Yxp"
      },
      "execution_count": 50,
      "outputs": []
    },
    {
      "cell_type": "code",
      "source": [
        "n=np.linspace(30,400,100, endpoint = False)\n",
        "Integral2=Riemmann2(f,n)\n",
        "plt.plot(n,error(n))\n",
        "plt.show()"
      ],
      "metadata": {
        "colab": {
          "base_uri": "https://localhost:8080/",
          "height": 433
        },
        "id": "82_ghRR03_Wx",
        "outputId": "582d03c3-7124-4500-8c0a-be572dae095c"
      },
      "execution_count": 51,
      "outputs": [
        {
          "output_type": "display_data",
          "data": {
            "text/plain": [
              "<Figure size 640x480 with 1 Axes>"
            ],
            "image/png": "[encoded data removed]"
          },
          "metadata": {}
        }
      ]
    },
    {
      "cell_type": "code",
      "source": [
        "# No, la suma de Riemmann no es una estimacion muy buena. Pues so bien el error disminuye a medida que aumenta el n de manera exponencial, requiere de muchos datospara lograr precision,\n",
        "# asi se muestra en la grafica. Por lo que requiere de casi 100 datos para llegara un error cercano a 0.\n",
        "# En comparacion con otros metodods, este con 100 puntos tuvo un error cercano a 0, por lo que es casi exacto\n",
        "#pero con las cuadraturas de Gauss, con 3 o 4 puntos ya se tiene una aproximacion casi exacta, en ves de requerir 100 o mas puntos nodales."
      ],
      "metadata": {
        "id": "C7Inlt-34TPN"
      },
      "execution_count": 52,
      "outputs": []
    }
  ]
}