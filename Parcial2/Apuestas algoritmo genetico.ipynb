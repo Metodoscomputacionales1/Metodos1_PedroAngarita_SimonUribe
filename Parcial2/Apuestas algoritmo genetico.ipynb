{
  "nbformat": 4,
  "nbformat_minor": 0,
  "metadata": {
    "colab": {
      "provenance": [],
      "authorship_tag": "ABX9TyNGToG4pnYrDqlASQqIG3MI",
      "include_colab_link": true
    },
    "kernelspec": {
      "name": "python3",
      "display_name": "Python 3"
    },
    "language_info": {
      "name": "python"
    }
  },
  "cells": [
    {
      "cell_type": "markdown",
      "metadata": {
        "id": "view-in-github",
        "colab_type": "text"
      },
      "source": [
        "<a href=\"https://colab.research.google.com/github/Metodoscomputacionales1/Metodos1_PedroAngarita_SimonUribe/blob/main/Parcial2/Apuestas%20algoritmo%20genetico.ipynb\" target=\"_parent\"><img src=\"https://colab.research.google.com/assets/colab-badge.svg\" alt=\"Open In Colab\"/></a>"
      ]
    },
    {
      "cell_type": "code",
      "execution_count": null,
      "metadata": {
        "id": "doJMZBe4CFx5"
      },
      "outputs": [],
      "source": [
        "import numpy as np\n",
        "import matplotlib.pyplot as plt\n",
        "from IPython.display import clear_output\n",
        "import time\n",
        "import copy"
      ]
    },
    {
      "cell_type": "code",
      "source": [
        "def Plotter(e):\n",
        "\n",
        "  fig = plt.figure(figsize=(5,5))\n",
        "  ax = fig.add_subplot(111)\n",
        "  ax.set_title('Epoch: {:.0f}'.format(e),fontsize=10)\n",
        "\n",
        "  return fig,ax"
      ],
      "metadata": {
        "id": "4NMuqciZpj80"
      },
      "execution_count": null,
      "outputs": []
    },
    {
      "cell_type": "code",
      "source": [
        "cuotas=np.array([8.51, 10.68, 12.24, 13.66, 15.37, 17.15, 19.66, 24.69])\n",
        "\n",
        "w = np.array([0.185, 0.152, 0.137, 0.125, 0.116, 0.107, 0.096, 0.082])\n"
      ],
      "metadata": {
        "id": "Twfi1ZPECHur"
      },
      "execution_count": null,
      "outputs": []
    },
    {
      "cell_type": "code",
      "source": [
        "def retorn(w,c,ca=1000000):\n",
        "  z=np.zeros(np.shape(w)[0])\n",
        "  for i in  range(np.shape(w)[0]):\n",
        "    z[i]=(w[i]*c[i]-1) *ca\n",
        "\n",
        "  return  np.min(z)\n",
        "\n"
      ],
      "metadata": {
        "id": "zY6_-CfDPbVj"
      },
      "execution_count": null,
      "outputs": []
    },
    {
      "cell_type": "code",
      "source": [
        "retorn(w,cuotas)"
      ],
      "metadata": {
        "colab": {
          "base_uri": "https://localhost:8080/"
        },
        "id": "vcwwksppZ0ac",
        "outputId": "d3078b5a-70ad-4cd1-d3da-1ccc1755030d"
      },
      "execution_count": null,
      "outputs": [
        {
          "output_type": "execute_result",
          "data": {
            "text/plain": [
              "574349.9999999999"
            ]
          },
          "metadata": {},
          "execution_count": 228
        }
      ]
    },
    {
      "cell_type": "code",
      "source": [
        "class Robot:\n",
        "\n",
        "\n",
        "  def __init__(self, f, Id=0):\n",
        "\n",
        "    self.Id = Id\n",
        "    self.f = retorn\n",
        "    self.cuotas = cuotas\n",
        "\n",
        "\n",
        "    self.r = np.random.uniform(0.,1., size=self.cuotas.shape[0])\n",
        "    self.r = self.r / np.sum(self.r)\n",
        "\n",
        "\n",
        "  def GetR(self):\n",
        "    return self.r\n",
        "\n",
        "\n",
        "\n",
        "  def Mutate(self):\n",
        "\n",
        "    self.r += np.random.normal(loc=0., scale=0.01, size=self.cuotas.shape[0])\n",
        "    self.r = np.abs(self.r) # Asegura que no haya valores negativos\n",
        "    self.r = self.r / np.sum(self.r) # Normaliza para que la suma sea 1\n",
        "\n",
        "  def SetFitness(self):\n",
        "    self.fitness = self.f(self.r,self.cuotas)\n",
        "  @property\n",
        "  def Fitness(self):\n",
        "    return self.fitness\n",
        "\n",
        "  def __repr__(self):\n",
        "    return f\"Robot {self.Id}\""
      ],
      "metadata": {
        "id": "hxReMELARX2P"
      },
      "execution_count": null,
      "outputs": []
    },
    {
      "cell_type": "code",
      "source": [
        "r=Robot(retorn)\n",
        "r.GetR()"
      ],
      "metadata": {
        "colab": {
          "base_uri": "https://localhost:8080/"
        },
        "id": "UCyyxZspVB-3",
        "outputId": "b8da31d8-8442-4ef3-8ddc-33f5d6c25e18"
      },
      "execution_count": null,
      "outputs": [
        {
          "output_type": "execute_result",
          "data": {
            "text/plain": [
              "array([0.19373912, 0.1070981 , 0.20922158, 0.17343014, 0.01427574,\n",
              "       0.19974458, 0.05278999, 0.04970076])"
            ]
          },
          "metadata": {},
          "execution_count": 260
        }
      ]
    },
    {
      "cell_type": "code",
      "source": [
        "def GetRobots(N):\n",
        "\n",
        "  Robots = []\n",
        "\n",
        "  for i in range(N):\n",
        "    r = Robot(retorn,i)\n",
        "    Robots.append(r)\n",
        "\n",
        "  return Robots"
      ],
      "metadata": {
        "id": "1rEUbPOIQhvU"
      },
      "execution_count": null,
      "outputs": []
    },
    {
      "cell_type": "code",
      "source": [
        "a=[1,2,3,4,5,6]\n",
        "a[:2]"
      ],
      "metadata": {
        "colab": {
          "base_uri": "https://localhost:8080/"
        },
        "id": "gxDji6PUfreS",
        "outputId": "c511dc9c-88e1-460f-cd94-ad880384b764"
      },
      "execution_count": null,
      "outputs": [
        {
          "output_type": "execute_result",
          "data": {
            "text/plain": [
              "[1, 2]"
            ]
          },
          "metadata": {},
          "execution_count": 262
        }
      ]
    },
    {
      "cell_type": "code",
      "source": [
        "robots=GetRobots(5)\n",
        "for i, p in enumerate(robots):\n",
        "        p.Mutate()\n",
        "        p.SetFitness()\n",
        "\n",
        "score = [ (p.Fitness, p) for p in robots ]\n",
        "score = sorted(score, key=lambda x: x[0], reverse=True)\n",
        "score\n"
      ],
      "metadata": {
        "colab": {
          "base_uri": "https://localhost:8080/"
        },
        "id": "02KojsJbQroI",
        "outputId": "46c39cba-545a-4157-f35a-01f6341dc22f"
      },
      "execution_count": null,
      "outputs": [
        {
          "output_type": "execute_result",
          "data": {
            "text/plain": [
              "[(-220699.38256570988, Robot 3),\n",
              " (-615979.5737439155, Robot 0),\n",
              " (-719500.7280314609, Robot 4),\n",
              " (-805009.9047892118, Robot 1),\n",
              " (-865861.4246477318, Robot 2)]"
            ]
          },
          "metadata": {},
          "execution_count": 263
        }
      ]
    },
    {
      "cell_type": "code",
      "source": [
        "def apuestass2(Robots, epochs=500):\n",
        "\n",
        "  N = int(0.8*len(Robots))\n",
        "\n",
        "  for e in range(epochs):\n",
        "\n",
        "\n",
        "\n",
        "    # Mutamoss\n",
        "    for i, p in enumerate(Robots):\n",
        "      p.Mutate()\n",
        "      p.SetFitness()\n",
        "\n",
        "    # lista por tupla, valor en funcion y robot\n",
        "    score = [ (p.Fitness, p) for p in Robots ]\n",
        "    #ordenamos las tuplas por mayo valor en la funcion\n",
        "    score = sorted(score, key=lambda x: x[0], reverse=True) # De menor a mayor\n",
        "\n",
        "    #listamos los 80% mejores\n",
        "    Temp = [r[1] for i, r in enumerate(score) if i < N]\n",
        "\n",
        "     # Reintroducción aleatoria 20% de algunos individuos\n",
        "    for i in range(int(0.2 * len(Robots))):\n",
        "        Robots[i] = Robot(retorn, i)\n",
        "    # se ingresan los mejores de la iteracion\n",
        "    for i,r in enumerate(Robots):\n",
        "      j = i%N\n",
        "      Robots[i] = copy.deepcopy(Temp[j])\n",
        "\n",
        "\n",
        "    return Robots"
      ],
      "metadata": {
        "id": "TmRrOp0wiLaV"
      },
      "execution_count": 298,
      "outputs": []
    },
    {
      "cell_type": "code",
      "source": [
        "robots=GetRobots(500\n",
        "                 )"
      ],
      "metadata": {
        "id": "U_NYwXvXdzyw"
      },
      "execution_count": 299,
      "outputs": []
    },
    {
      "cell_type": "code",
      "source": [
        "b=apuestass2(robots)\n",
        "a=[]\n",
        "for i in b:\n",
        "  a.append((i.Fitness,i.GetR()))\n",
        "\n",
        "d=a[0][1]\n",
        "a[0]"
      ],
      "metadata": {
        "colab": {
          "base_uri": "https://localhost:8080/"
        },
        "id": "3cB4MIpCxOXS",
        "outputId": "40ce095f-6fe9-4fc1-86fa-7cbb49c358fa"
      },
      "execution_count": 387,
      "outputs": [
        {
          "output_type": "execute_result",
          "data": {
            "text/plain": [
              "(612239.0039529495,\n",
              " array([0.189809  , 0.1514037 , 0.13814342, 0.12518536, 0.10489519,\n",
              "        0.1202977 , 0.09493271, 0.07533293]))"
            ]
          },
          "metadata": {},
          "execution_count": 387
        }
      ]
    },
    {
      "cell_type": "code",
      "source": [
        "d"
      ],
      "metadata": {
        "id": "AzHYWhLT8qr7",
        "colab": {
          "base_uri": "https://localhost:8080/"
        },
        "outputId": "e7a977e0-bcd3-4528-ebae-c432e8408a6f"
      },
      "execution_count": 309,
      "outputs": [
        {
          "output_type": "execute_result",
          "data": {
            "text/plain": [
              "array([0.16353696, 0.13713821, 0.11601271, 0.14510014, 0.13547047,\n",
              "       0.16576523, 0.07431336, 0.06266292])"
            ]
          },
          "metadata": {},
          "execution_count": 309
        }
      ]
    },
    {
      "cell_type": "code",
      "source": [
        "\n",
        "retorn(d,cuotas)"
      ],
      "metadata": {
        "colab": {
          "base_uri": "https://localhost:8080/"
        },
        "id": "QWtr6Lp-m7Ru",
        "outputId": "4d940068-3182-4827-d00a-b2ffa125d2aa"
      },
      "execution_count": 389,
      "outputs": [
        {
          "output_type": "execute_result",
          "data": {
            "text/plain": [
              "612239.0039529495"
            ]
          },
          "metadata": {},
          "execution_count": 389
        }
      ]
    },
    {
      "cell_type": "code",
      "source": [
        "# \"d\" representa el vector de poorcenrtajes en el cual se debe apostar en cada cota para maximizar su ganancia\n",
        "#retornando una ganacia de 612 239.0039529495\n",
        "#la cantidad de dinero en cada cota\n",
        "d*1000000"
      ],
      "metadata": {
        "colab": {
          "base_uri": "https://localhost:8080/"
        },
        "id": "1tlkj8D4phwp",
        "outputId": "07188124-397c-416e-e89f-415934675028"
      },
      "execution_count": 391,
      "outputs": [
        {
          "output_type": "execute_result",
          "data": {
            "text/plain": [
              "array([189808.99817403, 151403.70119596, 138143.42370231, 125185.35938395,\n",
              "       104895.18568334, 120297.69566926,  94932.71063215,  75332.925559  ])"
            ]
          },
          "metadata": {},
          "execution_count": 391
        }
      ]
    },
    {
      "cell_type": "code",
      "source": [
        "d2=d*1000000\n",
        ""
      ],
      "metadata": {
        "id": "NiKO2JAHvFFi"
      },
      "execution_count": 399,
      "outputs": []
    },
    {
      "cell_type": "code",
      "source": [],
      "metadata": {
        "id": "Pe1N63xpvnhr"
      },
      "execution_count": null,
      "outputs": []
    },
    {
      "cell_type": "code",
      "source": [
        "#tomemos cada caso y veamos que sucede si cae en cada una de las cotas\n",
        "z=np.zeros(np.shape(w)[0])\n",
        "for i in  range(np.shape(w)[0]):\n",
        "\n",
        "  z[i]=(d2[i]*cuotas[i])\n",
        "z"
      ],
      "metadata": {
        "colab": {
          "base_uri": "https://localhost:8080/"
        },
        "id": "2_1VeKnbvc5J",
        "outputId": "43a512f6-f042-4e46-8b4a-cec2e0a9f56f"
      },
      "execution_count": 400,
      "outputs": [
        {
          "output_type": "execute_result",
          "data": {
            "text/plain": [
              "array([1615274.57446096, 1616991.52877282, 1690875.5061163 ,\n",
              "       1710032.00918482, 1612239.00395295, 2063105.48072772,\n",
              "       1866377.09102813, 1859969.93205174])"
            ]
          },
          "metadata": {},
          "execution_count": 400
        }
      ]
    },
    {
      "cell_type": "code",
      "source": [
        "#como vemos si distribuimos el millon de pesos en porcentajes que describe d\n",
        "# sin importar donde caiga el caso, el pago de la inversion sera mayor que la inverion inicial de un millon\n",
        "#e incluso se ganara dinero por la inversion"
      ],
      "metadata": {
        "id": "8z8oMSBSvxAB"
      },
      "execution_count": null,
      "outputs": []
    }
  ]
}