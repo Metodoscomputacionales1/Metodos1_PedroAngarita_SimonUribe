{
  "nbformat": 4,
  "nbformat_minor": 0,
  "metadata": {
    "colab": {
      "provenance": [],
      "authorship_tag": "ABX9TyMi3gqLhZcTX8RFBrb94sEL",
      "include_colab_link": true
    },
    "kernelspec": {
      "name": "python3",
      "display_name": "Python 3"
    },
    "language_info": {
      "name": "python"
    }
  },
  "cells": [
    {
      "cell_type": "markdown",
      "metadata": {
        "id": "view-in-github",
        "colab_type": "text"
      },
      "source": [
        "<a href=\"https://colab.research.google.com/github/Metodoscomputacionales1/Metodos1_PedroAngarita_SimonUribe/blob/main/Parcial2/Ejercicio_27_parcial.ipynb\" target=\"_parent\"><img src=\"https://colab.research.google.com/assets/colab-badge.svg\" alt=\"Open In Colab\"/></a>"
      ]
    },
    {
      "cell_type": "code",
      "execution_count": 192,
      "metadata": {
        "id": "HnsniyA72tit"
      },
      "outputs": [],
      "source": [
        "import numpy as np\n",
        "import matplotlib.pyplot as plt\n",
        "import sympy as sym"
      ]
    },
    {
      "cell_type": "code",
      "source": [
        "def Jacobiano(G,r, h=1e-4):\n",
        "  n=r.shape[0]\n",
        "\n",
        "  J=np.zeros((n,n))\n",
        "\n",
        "  for i in range(n):\n",
        "    for j in range(n):\n",
        "\n",
        "      rf=r.copy()\n",
        "      rb=r.copy()\n",
        "\n",
        "      rf[j]+=h\n",
        "      rb[j]-=h\n",
        "\n",
        "      J[i,j]=(G[i](rf[0],rf[1],rf[2],rf[3],rf[4],rf[5],rf[6],rf[7])-G[i](rb[0],rb[1],rb[2],rb[3],rb[4],rb[5],rb[6],rb[7]))/(2*h)\n",
        "  return J"
      ],
      "metadata": {
        "id": "jM_vks-V3ej0"
      },
      "execution_count": 193,
      "outputs": []
    },
    {
      "cell_type": "code",
      "source": [
        "F=(lambda w0,w1,w2,w3,x0,x1,x2,x3: w0+w1+w2+w3-2, \\\n",
        "   lambda w0,w1,w2,w3,x0,x1,x2,x3: x0*w0+x1*w1+x2*w2+x3*w3, \\\n",
        "   lambda w0,w1,w2,w3,x0,x1,x2,x3: (x0**2)*w0+(x1**2)*w1+(x2**2)*w2+(x3**2)*w3-(2/3), \\\n",
        "   lambda w0,w1,w2,w3,x0,x1,x2,x3: (x0**3)*w0+(x1**3)*w1+(x2**3)*w2+(x3**3)*w3, \\\n",
        "   lambda w0,w1,w2,w3,x0,x1,x2,x3: (x0**4)*w0+(x1**4)*w1+(x2**4)*w2+(x3**4)*w3-(2/5), \\\n",
        "   lambda w0,w1,w2,w3,x0,x1,x2,x3: (x0**5)*w0+(x1**5)*w1+(x2**5)*w2+(x3**5)*w3, \\\n",
        "   lambda w0,w1,w2,w3,x0,x1,x2,x3: (x0**6)*w0+(x1**6)*w1+(x2**6)*w2+(x3**6)*w3-(2/7), \\\n",
        "   lambda w0,w1,w2,w3,x0,x1,x2,x3: (x0**7)*w0+(x1**7)*w1+(x2**7)*w2+(x3**7)*w3)"
      ],
      "metadata": {
        "id": "TjEKTIIl3oDd"
      },
      "execution_count": 194,
      "outputs": []
    },
    {
      "cell_type": "code",
      "source": [
        "r0 = np.random.uniform(-1.,1.,size=8)\n",
        "Jacobiano(F,r0)"
      ],
      "metadata": {
        "colab": {
          "base_uri": "https://localhost:8080/"
        },
        "id": "-11PFi27MmNK",
        "outputId": "8851c381-d1c5-4838-ec2b-6912df05d78e"
      },
      "execution_count": 195,
      "outputs": [
        {
          "output_type": "execute_result",
          "data": {
            "text/plain": [
              "array([[ 1.00000000e+00,  1.00000000e+00,  1.00000000e+00,\n",
              "         1.00000000e+00,  0.00000000e+00,  0.00000000e+00,\n",
              "         0.00000000e+00,  0.00000000e+00],\n",
              "       [-6.24334614e-01, -8.92216160e-01, -8.66599750e-01,\n",
              "         3.20409026e-01, -1.46347934e-01, -7.75812539e-02,\n",
              "        -8.20068058e-01,  1.35719206e-01],\n",
              "       [ 3.89793710e-01,  7.96049676e-01,  7.50995127e-01,\n",
              "         1.02661944e-01,  1.82740162e-01,  1.38438497e-01,\n",
              "         1.42134155e+00,  8.69713173e-02],\n",
              "       [-2.43361706e-01, -7.10248385e-01, -6.50812189e-01,\n",
              "         3.28938135e-02, -1.71136514e-01, -1.85275597e-01,\n",
              "        -1.84760135e+00,  4.17995940e-02],\n",
              "       [ 1.51939137e-01,  6.33695087e-01,  5.63993680e-01,\n",
              "         1.05394748e-02,  1.42461935e-01,  2.20407844e-01,\n",
              "         2.13484118e+00,  1.78572908e-02],\n",
              "       [-9.48608623e-02, -5.65392997e-01, -4.88756782e-01,\n",
              "         3.37694285e-03, -1.11179900e-01, -2.45814303e-01,\n",
              "        -2.31256607e+00,  7.15204713e-03],\n",
              "       [ 5.92249199e-02,  5.04452768e-01,  4.23556505e-01,\n",
              "         1.08200297e-03,  8.32961545e-02,  2.63183397e-01,\n",
              "         2.40488306e+00,  2.74989691e-03],\n",
              "       [-3.69761675e-02, -4.50080912e-01, -3.67053961e-01,\n",
              "         3.46683518e-04, -6.06721205e-02, -2.73952565e-01,\n",
              "        -2.43141629e+00,  1.02794059e-03]])"
            ]
          },
          "metadata": {},
          "execution_count": 195
        }
      ]
    },
    {
      "cell_type": "code",
      "source": [
        "def GetF(G,r):\n",
        "\n",
        "  n = r.shape[0]\n",
        "  v = np.zeros(n)\n",
        "\n",
        "  for i in range(n):\n",
        "    v[i] = G[i](r[0],r[1],r[2],r[3],r[4],r[5],r[6],r[7])\n",
        "\n",
        "  return v\n",
        "\n",
        "def Metric(G,r):\n",
        "  return 0.5*np.linalg.norm(GetF(G,r))**2\n",
        "\n",
        "def GetJacobian(G,r):\n",
        "  return Jacobiano(G,r)\n",
        "\n",
        "def Minimizer(G,r,lr=0.001,epochs=int(1e5),error=0.0001):\n",
        "\n",
        "  metric = 1\n",
        "  it = 0\n",
        "\n",
        "  M = np.array([])\n",
        "  R = np.array([r])\n",
        "\n",
        "  while metric > error and it < epochs:\n",
        "\n",
        "    M = np.append(M,Metric(G,r))\n",
        "\n",
        "    J = GetJacobian(G,r).T\n",
        "    Vector = GetF(G,r)\n",
        "\n",
        "    r = r - lr*np.dot(J,Vector)\n",
        "\n",
        "    R = np.vstack((R,r))\n",
        "\n",
        "    metric = Metric(G,r)\n",
        "    it += 1\n",
        "\n",
        "  return r,it\n",
        "\n",
        "Min=Minimizer(F,r0)\n",
        "Min"
      ],
      "metadata": {
        "colab": {
          "base_uri": "https://localhost:8080/"
        },
        "id": "zsEzlh7RNl7f",
        "outputId": "a530dd0c-8b71-4a57-f968-d36f625ec426"
      },
      "execution_count": 212,
      "outputs": [
        {
          "output_type": "execute_result",
          "data": {
            "text/plain": [
              "(array([ 0.96691701,  0.62852828, -0.11787969,  0.52238029, -0.00728739,\n",
              "        -0.79241002, -0.74990273,  0.79701277]),\n",
              " 100000)"
            ]
          },
          "metadata": {},
          "execution_count": 212
        }
      ]
    },
    {
      "cell_type": "code",
      "source": [
        "w0=Min[0][0]\n",
        "w1=Min[0][1]\n",
        "w2=Min[0][2]\n",
        "w3=Min[0][3]\n",
        "x0=Min[0][4]\n",
        "x1=Min[0][5]\n",
        "x2=Min[0][6]\n",
        "x3=Min[0][7]\n",
        "w0,w1,w2,w3,x0,x1,x2,x3"
      ],
      "metadata": {
        "colab": {
          "base_uri": "https://localhost:8080/"
        },
        "id": "amrZa-GBPD57",
        "outputId": "21d223c4-05a5-4fbc-eace-add0b1095c41"
      },
      "execution_count": 213,
      "outputs": [
        {
          "output_type": "execute_result",
          "data": {
            "text/plain": [
              "(0.9669170076003869,\n",
              " 0.6285282769452214,\n",
              " -0.11787969371671915,\n",
              " 0.5223802912369615,\n",
              " -0.007287391913708999,\n",
              " -0.7924100180638741,\n",
              " -0.7499027319512367,\n",
              " 0.7970127686545505)"
            ]
          },
          "metadata": {},
          "execution_count": 213
        }
      ]
    },
    {
      "cell_type": "code",
      "source": [
        "#Calculo Cos:\n",
        "def cos(x):\n",
        "  return np.cos(x)\n",
        "Integral=w0*cos(x0)+w1*cos(x1)+w2*cos(x2)+w3*cos(x3)\n",
        "Integral"
      ],
      "metadata": {
        "colab": {
          "base_uri": "https://localhost:8080/"
        },
        "id": "Txp21G08QEz0",
        "outputId": "40e7552b-e7d0-4347-cde7-9f388b552004"
      },
      "execution_count": 214,
      "outputs": [
        {
          "output_type": "execute_result",
          "data": {
            "text/plain": [
              "1.687005281474563"
            ]
          },
          "metadata": {},
          "execution_count": 214
        }
      ]
    },
    {
      "cell_type": "code",
      "source": [
        "# Esta estimacion es tan poco precisa porque no se estan usando los polinomios de Legendre para la integracion sino el polinomio clasico\n",
        "#x^0, x^1 ... x^7 por lo que la cuadratura no es exacta y tiene un desface significativo en los ordenes de magnitud de la precision.\n",
        "# Esto quiere decir que en vez de que las raices sean los ceros del polinomio n-esimo de legendre, es el lugar de un minimo local donde llego la semilla de R^8\n",
        "#Con base a la integracion de los polinomios mas simples"
      ],
      "metadata": {
        "id": "jjTEbN_jVXRM"
      },
      "execution_count": null,
      "outputs": []
    }
  ]
}