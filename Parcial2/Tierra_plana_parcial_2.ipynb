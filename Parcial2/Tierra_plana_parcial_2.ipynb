{
  "nbformat": 4,
  "nbformat_minor": 0,
  "metadata": {
    "colab": {
      "provenance": [],
      "authorship_tag": "ABX9TyOZJDE25EZlwC3JU/gE0h+H",
      "include_colab_link": true
    },
    "kernelspec": {
      "name": "python3",
      "display_name": "Python 3"
    },
    "language_info": {
      "name": "python"
    }
  },
  "cells": [
    {
      "cell_type": "markdown",
      "metadata": {
        "id": "view-in-github",
        "colab_type": "text"
      },
      "source": [
        "<a href=\"https://colab.research.google.com/github/Metodoscomputacionales1/Metodos1_PedroAngarita_SimonUribe/blob/main/Parcial2/Tierra_plana_parcial_2.ipynb\" target=\"_parent\"><img src=\"https://colab.research.google.com/assets/colab-badge.svg\" alt=\"Open In Colab\"/></a>"
      ]
    },
    {
      "cell_type": "code",
      "execution_count": 11,
      "metadata": {
        "id": "xU9YGMTa-ajQ"
      },
      "outputs": [],
      "source": [
        "import numpy as np\n",
        "import sympy as sym"
      ]
    },
    {
      "cell_type": "code",
      "source": [
        "#A)\n",
        "roots, weights = np.polynomial.legendre.leggauss(50)\n",
        "roots, weights"
      ],
      "metadata": {
        "colab": {
          "base_uri": "https://localhost:8080/"
        },
        "id": "bHKsWsHK-g9O",
        "outputId": "b59a84c6-9956-4438-f786-860603da54d9"
      },
      "execution_count": 23,
      "outputs": [
        {
          "output_type": "execute_result",
          "data": {
            "text/plain": [
              "(array([-0.9988664 , -0.99403197, -0.98535408, -0.97286439, -0.95661096,\n",
              "        -0.93665662, -0.91307856, -0.88596798, -0.85542977, -0.82158207,\n",
              "        -0.78455583, -0.7444943 , -0.70155247, -0.65589647, -0.60770293,\n",
              "        -0.5571583 , -0.50445814, -0.44980633, -0.39341431, -0.33550025,\n",
              "        -0.27628819, -0.21600724, -0.15489059, -0.0931747 , -0.03109834,\n",
              "         0.03109834,  0.0931747 ,  0.15489059,  0.21600724,  0.27628819,\n",
              "         0.33550025,  0.39341431,  0.44980633,  0.50445814,  0.5571583 ,\n",
              "         0.60770293,  0.65589647,  0.70155247,  0.7444943 ,  0.78455583,\n",
              "         0.82158207,  0.85542977,  0.88596798,  0.91307856,  0.93665662,\n",
              "         0.95661096,  0.97286439,  0.98535408,  0.99403197,  0.9988664 ]),\n",
              " array([0.00290862, 0.0067598 , 0.01059055, 0.01438082, 0.01811556,\n",
              "        0.02178024, 0.02536067, 0.02884299, 0.03221373, 0.03545984,\n",
              "        0.03856876, 0.04152846, 0.0443275 , 0.04695505, 0.04940094,\n",
              "        0.0516557 , 0.05371062, 0.05555774, 0.05718993, 0.05860085,\n",
              "        0.05978506, 0.06073797, 0.0614559 , 0.06193607, 0.06217662,\n",
              "        0.06217662, 0.06193607, 0.0614559 , 0.06073797, 0.05978506,\n",
              "        0.05860085, 0.05718993, 0.05555774, 0.05371062, 0.0516557 ,\n",
              "        0.04940094, 0.04695505, 0.0443275 , 0.04152846, 0.03856876,\n",
              "        0.03545984, 0.03221373, 0.02884299, 0.02536067, 0.02178024,\n",
              "        0.01811556, 0.01438082, 0.01059055, 0.0067598 , 0.00290862]))"
            ]
          },
          "metadata": {},
          "execution_count": 23
        }
      ]
    },
    {
      "cell_type": "code",
      "source": [
        "k= 1.942930396\n",
        "def Gravitacional (R,r, theta,k):\n",
        "  x=R[0]\n",
        "  y=R[1]\n",
        "  z=R[2]\n",
        "  f=(r*z)/(x**2 + y**2 + z**2 - 2*r*x*np.cos(theta) - 2*r*y*np.sin(theta))**(3/2)\n",
        "  return f"
      ],
      "metadata": {
        "id": "nqqjov-Q-ww0"
      },
      "execution_count": 24,
      "outputs": []
    },
    {
      "cell_type": "code",
      "source": [],
      "metadata": {
        "colab": {
          "base_uri": "https://localhost:8080/",
          "height": 54
        },
        "id": "RwTWLwQe--Zi",
        "outputId": "57867b6d-7211-4bef-b0d9-588d19f6a53f"
      },
      "execution_count": 16,
      "outputs": [
        {
          "output_type": "execute_result",
          "data": {
            "text/plain": [
              "r*z/(-2*r*x*cos(o) - 2*r*y*sin(o) + x**2 + y**2 + z**2)**1.5"
            ],
            "text/latex": "$\\displaystyle \\frac{r z}{\\left(- 2 r x \\cos{\\left(o \\right)} - 2 r y \\sin{\\left(o \\right)} + x^{2} + y^{2} + z^{2}\\right)^{1.5}}$"
          },
          "metadata": {},
          "execution_count": 16
        }
      ]
    },
    {
      "cell_type": "code",
      "source": [
        "def Doblecuadratura (a,b,c,d, raices, pesos,f,R,k):\n",
        "  t1=0.5*((b-a)*raices + a + b)\n",
        "  t2=0.5*((d-c)*raices + c + d)\n",
        "  Integral=-k*(b-a)*(d-c)*np.sum(pesos*f(R,t2,t1,k))/4\n",
        "  return Integral\n",
        "\n",
        "Doblecuadratura(0,2*np.pi,0,1,roots, weights,Gravitacional,[0.,0.,0.2],k)"
      ],
      "metadata": {
        "colab": {
          "base_uri": "https://localhost:8080/"
        },
        "id": "Anmj7roEAKah",
        "outputId": "ca1ad725-57a8-4559-86ef-4f53d627c2a6"
      },
      "execution_count": 34,
      "outputs": [
        {
          "output_type": "execute_result",
          "data": {
            "text/plain": [
              "-76.29869823137383"
            ]
          },
          "metadata": {},
          "execution_count": 34
        }
      ]
    }
  ]
}