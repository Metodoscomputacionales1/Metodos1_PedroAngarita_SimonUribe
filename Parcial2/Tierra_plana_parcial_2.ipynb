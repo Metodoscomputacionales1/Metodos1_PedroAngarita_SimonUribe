{
  "nbformat": 4,
  "nbformat_minor": 0,
  "metadata": {
    "colab": {
      "provenance": [],
      "authorship_tag": "ABX9TyNcn8HAfN0OXMuv8Fg4YUBq",
      "include_colab_link": true
    },
    "kernelspec": {
      "name": "python3",
      "display_name": "Python 3"
    },
    "language_info": {
      "name": "python"
    }
  },
  "cells": [
    {
      "cell_type": "markdown",
      "metadata": {
        "id": "view-in-github",
        "colab_type": "text"
      },
      "source": [
        "<a href=\"https://colab.research.google.com/github/Metodoscomputacionales1/Metodos1_PedroAngarita_SimonUribe/blob/main/Parcial2/Tierra_plana_parcial_2.ipynb\" target=\"_parent\"><img src=\"https://colab.research.google.com/assets/colab-badge.svg\" alt=\"Open In Colab\"/></a>"
      ]
    },
    {
      "cell_type": "code",
      "execution_count": 114,
      "metadata": {
        "id": "xU9YGMTa-ajQ"
      },
      "outputs": [],
      "source": [
        "import numpy as np\n",
        "import sympy as sym"
      ]
    },
    {
      "cell_type": "code",
      "source": [
        "#A)\n",
        "roots, weights = np.polynomial.legendre.leggauss(50)\n",
        "roots, weights"
      ],
      "metadata": {
        "colab": {
          "base_uri": "https://localhost:8080/"
        },
        "id": "bHKsWsHK-g9O",
        "outputId": "f00d03c1-562e-4be8-e5be-ac10419f6102"
      },
      "execution_count": 115,
      "outputs": [
        {
          "output_type": "execute_result",
          "data": {
            "text/plain": [
              "(array([-0.9988664 , -0.99403197, -0.98535408, -0.97286439, -0.95661096,\n",
              "        -0.93665662, -0.91307856, -0.88596798, -0.85542977, -0.82158207,\n",
              "        -0.78455583, -0.7444943 , -0.70155247, -0.65589647, -0.60770293,\n",
              "        -0.5571583 , -0.50445814, -0.44980633, -0.39341431, -0.33550025,\n",
              "        -0.27628819, -0.21600724, -0.15489059, -0.0931747 , -0.03109834,\n",
              "         0.03109834,  0.0931747 ,  0.15489059,  0.21600724,  0.27628819,\n",
              "         0.33550025,  0.39341431,  0.44980633,  0.50445814,  0.5571583 ,\n",
              "         0.60770293,  0.65589647,  0.70155247,  0.7444943 ,  0.78455583,\n",
              "         0.82158207,  0.85542977,  0.88596798,  0.91307856,  0.93665662,\n",
              "         0.95661096,  0.97286439,  0.98535408,  0.99403197,  0.9988664 ]),\n",
              " array([0.00290862, 0.0067598 , 0.01059055, 0.01438082, 0.01811556,\n",
              "        0.02178024, 0.02536067, 0.02884299, 0.03221373, 0.03545984,\n",
              "        0.03856876, 0.04152846, 0.0443275 , 0.04695505, 0.04940094,\n",
              "        0.0516557 , 0.05371062, 0.05555774, 0.05718993, 0.05860085,\n",
              "        0.05978506, 0.06073797, 0.0614559 , 0.06193607, 0.06217662,\n",
              "        0.06217662, 0.06193607, 0.0614559 , 0.06073797, 0.05978506,\n",
              "        0.05860085, 0.05718993, 0.05555774, 0.05371062, 0.0516557 ,\n",
              "        0.04940094, 0.04695505, 0.0443275 , 0.04152846, 0.03856876,\n",
              "        0.03545984, 0.03221373, 0.02884299, 0.02536067, 0.02178024,\n",
              "        0.01811556, 0.01438082, 0.01059055, 0.0067598 , 0.00290862]))"
            ]
          },
          "metadata": {},
          "execution_count": 115
        }
      ]
    },
    {
      "cell_type": "code",
      "source": [
        "k= 1.942930396\n",
        "def Gravitacional (R,r, theta,k):\n",
        "  x=R[0]\n",
        "  y=R[1]\n",
        "  z=R[2]\n",
        "  f=(-k*r*z)/(((x**2)+  (y**2) + (z**2) - 2*r*x*np.cos(theta) - 2*r*y*np.sin(theta))**(3/2))\n",
        "  return f"
      ],
      "metadata": {
        "id": "nqqjov-Q-ww0"
      },
      "execution_count": 125,
      "outputs": []
    },
    {
      "cell_type": "code",
      "source": [
        "def Doblecuadratura (a,b,c,d, raices, pesos,f,R,k):\n",
        "  Integral=0\n",
        "  for i in range(len(pesos)):\n",
        "    t1=0.5*((b-a)*raices[i] + a + b)\n",
        "    for j in range(len(pesos)):\n",
        "      t2=0.5*((d-c)*raices[j] + c + d)\n",
        "      Integral+=np.sum(pesos[i]*pesos[j]*f(R,t2,t1,k))\n",
        "  Integral*=(b-a)*(d-c)/4\n",
        "  return Integral\n",
        "\n",
        "Doblecuadratura(0,2*np.pi,0,1,roots, weights,Gravitacional,[0.,0.,0.2],k)"
      ],
      "metadata": {
        "colab": {
          "base_uri": "https://localhost:8080/"
        },
        "id": "Anmj7roEAKah",
        "outputId": "71d01557-8a06-49ff-e90e-854f733c8098"
      },
      "execution_count": 126,
      "outputs": [
        {
          "output_type": "execute_result",
          "data": {
            "text/plain": [
              "-152.59739646274767"
            ]
          },
          "metadata": {},
          "execution_count": 126
        }
      ]
    },
    {
      "cell_type": "code",
      "source": [
        "#Definir los límites de integración\n",
        "x_lower, x_upper = 0, 1\n",
        "y_lower, y_upper = 0, 2*np.pi\n",
        "\n",
        "# Número de puntos de la malla (cuantos más puntos, más precisión)\n",
        "n_x = 100  # Puntos en la dirección x\n",
        "n_y = 100  # Puntos en la dirección y\n",
        "\n",
        "# Crear malla de puntos\n",
        "x = np.linspace(x_lower, x_upper, n_x)\n",
        "y = np.linspace(y_lower, y_upper, n_y)\n",
        "\n",
        "# Crear una cuadrícula 2D con todos los pares (x, y)\n",
        "X, Y = np.meshgrid(x, y)\n",
        "\n",
        "# Evaluar la función en cada punto de la cuadrícula\n",
        "Z = Gravitacional([0.,0.,0.2],X, Y,k)\n",
        "\n",
        "# Definir los pasos (dx y dy)\n",
        "dx = (x_upper - x_lower) / (n_x - 1)\n",
        "dy = (y_upper - y_lower) / (n_y - 1)\n",
        "\n",
        "# Aplicar la regla del trapecio en dos dimensiones\n",
        "integral = np.trapz(np.trapz(Z, y, axis=0), x)\n",
        "\n",
        "print(\"Resultado de la doble integral:\", integral)\n"
      ],
      "metadata": {
        "colab": {
          "base_uri": "https://localhost:8080/"
        },
        "id": "sukO36OeiTR9",
        "outputId": "29b2c56a-467d-496e-c852-75e119cac1b6"
      },
      "execution_count": 127,
      "outputs": [
        {
          "output_type": "stream",
          "name": "stdout",
          "text": [
            "Resultado de la doble integral: -152.59739646274767\n"
          ]
        }
      ]
    }
  ]
}