{
  "nbformat": 4,
  "nbformat_minor": 0,
  "metadata": {
    "colab": {
      "provenance": [],
      "authorship_tag": "ABX9TyPrDn0BmAzNloR2tlFJ3RdQ",
      "include_colab_link": true
    },
    "kernelspec": {
      "name": "python3",
      "display_name": "Python 3"
    },
    "language_info": {
      "name": "python"
    }
  },
  "cells": [
    {
      "cell_type": "markdown",
      "metadata": {
        "id": "view-in-github",
        "colab_type": "text"
      },
      "source": [
        "<a href=\"https://colab.research.google.com/github/Metodoscomputacionales1/Metodos1_PedroAngarita_SimonUribe/blob/main/Parcial2/Tierra_plana_parcial_2.ipynb\" target=\"_parent\"><img src=\"https://colab.research.google.com/assets/colab-badge.svg\" alt=\"Open In Colab\"/></a>"
      ]
    },
    {
      "cell_type": "code",
      "execution_count": null,
      "metadata": {
        "id": "xU9YGMTa-ajQ"
      },
      "outputs": [],
      "source": [
        "import numpy as np\n",
        "import sympy as sym"
      ]
    },
    {
      "cell_type": "code",
      "source": [
        "#A)\n",
        "roots, weights = np.polynomial.legendre.leggauss(50)\n",
        "roots, weights"
      ],
      "metadata": {
        "colab": {
          "base_uri": "https://localhost:8080/"
        },
        "id": "bHKsWsHK-g9O",
        "outputId": "91180744-4749-4f67-e53c-b6530d3c7c8b"
      },
      "execution_count": null,
      "outputs": [
        {
          "output_type": "execute_result",
          "data": {
            "text/plain": [
              "(array([-0.9988664 , -0.99403197, -0.98535408, -0.97286439, -0.95661096,\n",
              "        -0.93665662, -0.91307856, -0.88596798, -0.85542977, -0.82158207,\n",
              "        -0.78455583, -0.7444943 , -0.70155247, -0.65589647, -0.60770293,\n",
              "        -0.5571583 , -0.50445814, -0.44980633, -0.39341431, -0.33550025,\n",
              "        -0.27628819, -0.21600724, -0.15489059, -0.0931747 , -0.03109834,\n",
              "         0.03109834,  0.0931747 ,  0.15489059,  0.21600724,  0.27628819,\n",
              "         0.33550025,  0.39341431,  0.44980633,  0.50445814,  0.5571583 ,\n",
              "         0.60770293,  0.65589647,  0.70155247,  0.7444943 ,  0.78455583,\n",
              "         0.82158207,  0.85542977,  0.88596798,  0.91307856,  0.93665662,\n",
              "         0.95661096,  0.97286439,  0.98535408,  0.99403197,  0.9988664 ]),\n",
              " array([0.00290862, 0.0067598 , 0.01059055, 0.01438082, 0.01811556,\n",
              "        0.02178024, 0.02536067, 0.02884299, 0.03221373, 0.03545984,\n",
              "        0.03856876, 0.04152846, 0.0443275 , 0.04695505, 0.04940094,\n",
              "        0.0516557 , 0.05371062, 0.05555774, 0.05718993, 0.05860085,\n",
              "        0.05978506, 0.06073797, 0.0614559 , 0.06193607, 0.06217662,\n",
              "        0.06217662, 0.06193607, 0.0614559 , 0.06073797, 0.05978506,\n",
              "        0.05860085, 0.05718993, 0.05555774, 0.05371062, 0.0516557 ,\n",
              "        0.04940094, 0.04695505, 0.0443275 , 0.04152846, 0.03856876,\n",
              "        0.03545984, 0.03221373, 0.02884299, 0.02536067, 0.02178024,\n",
              "        0.01811556, 0.01438082, 0.01059055, 0.0067598 , 0.00290862]))"
            ]
          },
          "metadata": {},
          "execution_count": 4
        }
      ]
    },
    {
      "cell_type": "code",
      "source": [
        "k= 1.942930396\n",
        "def Gravitacional (R,r, theta,k):\n",
        "  x=R[0]\n",
        "  y=R[1]\n",
        "  z=R[2]\n",
        "  f=(-k*r*z)/((r**2 + (z**2) - (2*r*x*np.cos(theta)) - (2*r*y*np.sin(theta)))**(3/2))\n",
        "  return f"
      ],
      "metadata": {
        "id": "nqqjov-Q-ww0"
      },
      "execution_count": null,
      "outputs": []
    },
    {
      "cell_type": "code",
      "source": [
        "def Doblecuadratura (a,b,c,d, raices, pesos,f,R,k):\n",
        "  Integral=0\n",
        "  for i in range(len(pesos)):\n",
        "    t1=0.5*((b-a)*raices[i] + a + b)\n",
        "    for j in range(len(pesos)):\n",
        "      t2=0.5*((d-c)*raices[j] + c + d)\n",
        "      Integral+=np.sum(pesos[i]*pesos[j]*f(R,t2,t1,k))\n",
        "  Integral*=(b-a)*(d-c)/4\n",
        "  return Integral\n",
        "\n",
        "Doblecuadratura(0,2*np.pi,0,1,roots, weights,Gravitacional,[0.,0.,0.2],k)"
      ],
      "metadata": {
        "colab": {
          "base_uri": "https://localhost:8080/"
        },
        "id": "Anmj7roEAKah",
        "outputId": "fc5af4f7-1687-4d4e-a7d2-be8687ad3884"
      },
      "execution_count": null,
      "outputs": [
        {
          "output_type": "execute_result",
          "data": {
            "text/plain": [
              "-9.813646786905926"
            ]
          },
          "metadata": {},
          "execution_count": 6
        }
      ]
    },
    {
      "cell_type": "code",
      "source": [
        "def Doblecuadratura2 (a,b,c,d, raices, pesos,f,R,k,phi):\n",
        "  Integral=0\n",
        "  for j in range(len(pesos)):\n",
        "    t2=0.5*((d-c)*raices[j] + c + d)\n",
        "    Integral+=np.sum(pesos[j]*f(R,t2,phi,k))\n",
        "  Integral*=(d-c)/2\n",
        "  return Integral"
      ],
      "metadata": {
        "id": "FYLLWdI9dqFN"
      },
      "execution_count": null,
      "outputs": []
    },
    {
      "cell_type": "code",
      "source": [
        "import matplotlib.pyplot as plt\n",
        "R=[0,0.125,0.25,0.38,0.5]\n",
        "phi = np.linspace(0,2*np.pi,5)\n",
        "g=[]\n",
        "color = ['orange', 'green', 'blue', \"red\", 'violet']\n",
        "for i in range(len(R)):\n",
        "  Rn=Doblecuadratura2(0,2*np.pi,0,R[i],roots, weights,Gravitacional,[0.,0.,0.2],k,phi)\n",
        "  g.append(Rn)\n",
        "  plt.axhline( y=Rn,ls='--', color=color[i], label='R='+str(R[i]))\n",
        "  plt.legend()\n",
        "plt.scatter(phi,g, color=\"white\")\n"
      ],
      "metadata": {
        "colab": {
          "base_uri": "https://localhost:8080/",
          "height": 447
        },
        "id": "k3XHk65kSoG4",
        "outputId": "d8522c94-f06a-454b-9b4c-add1a9ecf25f"
      },
      "execution_count": null,
      "outputs": [
        {
          "output_type": "execute_result",
          "data": {
            "text/plain": [
              "<matplotlib.collections.PathCollection at 0x7ae24b565e70>"
            ]
          },
          "metadata": {},
          "execution_count": 42
        },
        {
          "output_type": "display_data",
          "data": {
            "text/plain": [
              "<Figure size 640x480 with 1 Axes>"
            ],
            "image/png": "[encoded data removed]"
          },
          "metadata": {}
        }
      ]
    },
    {
      "cell_type": "code",
      "source": [
        "#¿Como interpreta que la gravedad no depende del ´ángulo sobre la tierra?\n",
        "# interpretamos que sin importar la posición del objeto en x,y la aceleración gravitatoria no se ve\n",
        "#afectado siempre y cuando el Radio del centro sea constante\n",
        "#¿Qué valores tiene la gravedad en el ecuador R = 0.5 y en el borde R = 1?\n",
        "#R1=-9.813646786905926\n",
        "#R0.5= -6.106720810603047\n",
        "#¿Qué podría decirle a un amig@ terraplanista con base a sus resultados teóricos?\n",
        "#que el modelo gravitacional de la tierra plana no haya sentido porque en ese caso entre más alejados estemos de un polo nuestra aceleración gravitatoria\n",
        "#o nuestro peso cambiaria, cosa que no sucede en la realidad\n"
      ],
      "metadata": {
        "id": "pusMUM4JNy_N"
      },
      "execution_count": null,
      "outputs": []
    }
  ]
}