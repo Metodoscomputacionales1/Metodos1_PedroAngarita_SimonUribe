{
  "nbformat": 4,
  "nbformat_minor": 0,
  "metadata": {
    "colab": {
      "provenance": [],
      "include_colab_link": true
    },
    "kernelspec": {
      "name": "python3",
      "display_name": "Python 3"
    },
    "language_info": {
      "name": "python"
    }
  },
  "cells": [
    {
      "cell_type": "markdown",
      "metadata": {
        "id": "view-in-github",
        "colab_type": "text"
      },
      "source": [
        "<a href=\"https://colab.research.google.com/github/Metodoscomputacionales1/Metodos1_PedroAngarita_SimonUribe/blob/main/Tarea4%20/Factorizacion_LU.ipynb\" target=\"_parent\"><img src=\"https://colab.research.google.com/assets/colab-badge.svg\" alt=\"Open In Colab\"/></a>"
      ]
    },
    {
      "cell_type": "code",
      "execution_count": 24,
      "metadata": {
        "id": "3WlRy6i375cm"
      },
      "outputs": [],
      "source": [
        "import numpy as np"
      ]
    },
    {
      "cell_type": "code",
      "source": [
        "A = np.array([[4.,-2.,1.],[20.,-7.,12.],[-8.,13.,17.]])\n",
        "A"
      ],
      "metadata": {
        "colab": {
          "base_uri": "https://localhost:8080/"
        },
        "id": "M4YV7Q158DmK",
        "outputId": "d414fd7c-3658-484a-fe6c-618e2e2423c7"
      },
      "execution_count": 25,
      "outputs": [
        {
          "output_type": "execute_result",
          "data": {
            "text/plain": [
              "array([[ 4., -2.,  1.],\n",
              "       [20., -7., 12.],\n",
              "       [-8., 13., 17.]])"
            ]
          },
          "metadata": {},
          "execution_count": 25
        }
      ]
    },
    {
      "cell_type": "code",
      "source": [
        "def LU(A_, ones = False):\n",
        "\n",
        "  A = A_.copy()\n",
        "  n = A.shape[0]\n",
        "  z=np.zeros([n,n])\n",
        "  for i in range(n):\n",
        "    z[i,i]=1\n",
        "\n",
        "  for i in range(n+1):\n",
        "\n",
        "\n",
        "    for j in range(i+1,n):\n",
        "      a = A[j,i]/A[i,i]\n",
        "\n",
        "      z[j, i] = a\n",
        "\n",
        "      A[j,:] -= a*A[i,:]\n",
        "\n",
        "  return z,A"
      ],
      "metadata": {
        "id": "aBFL7aQ48G1h"
      },
      "execution_count": 28,
      "outputs": []
    },
    {
      "cell_type": "code",
      "source": [
        "LU(A)"
      ],
      "metadata": {
        "id": "JW3a5_fC8UgO",
        "colab": {
          "base_uri": "https://localhost:8080/"
        },
        "outputId": "089f8bbd-6d9b-4ddd-cc5a-efa537f476d7"
      },
      "execution_count": 29,
      "outputs": [
        {
          "output_type": "execute_result",
          "data": {
            "text/plain": [
              "(array([[ 1.,  0.,  0.],\n",
              "        [ 5.,  1.,  0.],\n",
              "        [-2.,  3.,  1.]]),\n",
              " array([[ 4., -2.,  1.],\n",
              "        [ 0.,  3.,  7.],\n",
              "        [ 0.,  0., -2.]]))"
            ]
          },
          "metadata": {},
          "execution_count": 29
        }
      ]
    },
    {
      "cell_type": "code",
      "source": [
        "a,_=LU(A)\n",
        "_,B=LU(A)\n",
        "\n"
      ],
      "metadata": {
        "id": "xGYvobYqvILz"
      },
      "execution_count": 35,
      "outputs": []
    },
    {
      "cell_type": "code",
      "source": [
        "a@B"
      ],
      "metadata": {
        "colab": {
          "base_uri": "https://localhost:8080/"
        },
        "id": "qvH6R61wpQvJ",
        "outputId": "a63507f2-6357-4217-a9c2-62dfc4428d7a"
      },
      "execution_count": 36,
      "outputs": [
        {
          "output_type": "execute_result",
          "data": {
            "text/plain": [
              "array([[ 4., -2.,  1.],\n",
              "       [20., -7., 12.],\n",
              "       [-8., 13., 17.]])"
            ]
          },
          "metadata": {},
          "execution_count": 36
        }
      ]
    },
    {
      "cell_type": "code",
      "source": [],
      "metadata": {
        "id": "AK-JNXUtpmUe"
      },
      "execution_count": null,
      "outputs": []
    }
  ]
}