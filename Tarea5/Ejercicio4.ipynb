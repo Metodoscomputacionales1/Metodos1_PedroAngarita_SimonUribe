{
  "nbformat": 4,
  "nbformat_minor": 0,
  "metadata": {
    "colab": {
      "provenance": [],
      "authorship_tag": "ABX9TyOyQA3a+EBwWEm4QC8bAjvb",
      "include_colab_link": true
    },
    "kernelspec": {
      "name": "python3",
      "display_name": "Python 3"
    },
    "language_info": {
      "name": "python"
    }
  },
  "cells": [
    {
      "cell_type": "markdown",
      "metadata": {
        "id": "view-in-github",
        "colab_type": "text"
      },
      "source": [
        "<a href=\"https://colab.research.google.com/github/Metodoscomputacionales1/Metodos1_PedroAngarita_SimonUribe/blob/main/Tarea5/Ejercicio4.ipynb\" target=\"_parent\"><img src=\"https://colab.research.google.com/assets/colab-badge.svg\" alt=\"Open In Colab\"/></a>"
      ]
    },
    {
      "cell_type": "code",
      "execution_count": 123,
      "metadata": {
        "colab": {
          "base_uri": "https://localhost:8080/"
        },
        "id": "0D1m_jr2Mx5J",
        "outputId": "64b71b2d-348e-49d7-fc3c-ed387e36fb59"
      },
      "outputs": [
        {
          "output_type": "stream",
          "name": "stdout",
          "text": [
            "Mounted at /content/drive\n"
          ]
        }
      ],
      "source": [
        "import pandas as pd\n",
        "import os\n",
        "import numpy as np\n",
        "import matplotlib.pyplot as plt\n",
        "from google.colab import drive\n",
        "drive.mount('/content/drive', force_remount=True)"
      ]
    },
    {
      "cell_type": "code",
      "source": [
        "os.chdir(\"/content/drive/MyDrive/Colab Notebooks/Datos/\")\n",
        "!ls"
      ],
      "metadata": {
        "colab": {
          "base_uri": "https://localhost:8080/"
        },
        "id": "mc0lYY9dM3WZ",
        "outputId": "6c5fb949-8de3-4e29-bfaa-7983b4bf31d7"
      },
      "execution_count": 124,
      "outputs": [
        {
          "output_type": "stream",
          "name": "stdout",
          "text": [
            "Exponencial.dat  MediaMovilData.csv  MinimosCuadratico.txt  MinimosLineal.txt\n"
          ]
        }
      ]
    },
    {
      "cell_type": "code",
      "source": [
        "file = '/content/drive/MyDrive/Colab Notebooks/Datos/MinimosCuadratico.txt'\n",
        "file"
      ],
      "metadata": {
        "colab": {
          "base_uri": "https://localhost:8080/",
          "height": 35
        },
        "id": "zR_c94DlM8_8",
        "outputId": "9122d340-498a-49df-f954-ee26c241a68e"
      },
      "execution_count": 125,
      "outputs": [
        {
          "output_type": "execute_result",
          "data": {
            "text/plain": [
              "'/content/drive/MyDrive/Colab Notebooks/Datos/MinimosCuadratico.txt'"
            ],
            "application/vnd.google.colaboratory.intrinsic+json": {
              "type": "string"
            }
          },
          "metadata": {},
          "execution_count": 125
        }
      ]
    },
    {
      "cell_type": "code",
      "source": [
        "data = pd.read_csv(file)"
      ],
      "metadata": {
        "id": "2JyBcJXrNCpl"
      },
      "execution_count": 126,
      "outputs": []
    },
    {
      "cell_type": "code",
      "source": [
        "data = pd.read_csv(file,sep=' ')\n",
        "data.columns = ['x','y']"
      ],
      "metadata": {
        "id": "NoksdpqRNDJZ"
      },
      "execution_count": 127,
      "outputs": []
    },
    {
      "cell_type": "code",
      "source": [
        "x = np.array(data['x'])\n",
        "y = np.array(data['y'])"
      ],
      "metadata": {
        "id": "e_4Rsi9ANH9c"
      },
      "execution_count": 128,
      "outputs": []
    },
    {
      "cell_type": "code",
      "source": [
        "def GetFit(x,y,n):\n",
        "  l=x.shape[0]\n",
        "  b=y\n",
        "  A=np.ones((l,n+1))\n",
        "  for i in range(1,n+1):\n",
        "    A[:,i]=x**i\n",
        "    #Esto hace que cada columan sea el grado de x\n",
        "  AT=np.dot(A.T,A)\n",
        "  bT=np.dot(A.T,b)\n",
        "  xsol=np.linalg.solve(AT,bT)\n",
        "\n",
        "  return xsol\n",
        "\n",
        "#primera columna 1s, la segunda xs, la tercesa seria x**2 y asi sucesivamente\n",
        "sol1=GetFit(x,y,2)\n",
        "sol1=np.flip(sol1)\n",
        "sol1"
      ],
      "metadata": {
        "colab": {
          "base_uri": "https://localhost:8080/"
        },
        "id": "smcFYa4VNNen",
        "outputId": "45193a17-c608-4b58-c46d-3e05f03f03d1"
      },
      "execution_count": 129,
      "outputs": [
        {
          "output_type": "execute_result",
          "data": {
            "text/plain": [
              "array([3.04171871, 5.04229284, 3.91439388])"
            ]
          },
          "metadata": {},
          "execution_count": 129
        }
      ]
    },
    {
      "cell_type": "code",
      "source": [
        "import numpy as np\n",
        "from scipy.optimize import curve_fit\n",
        "\n",
        "def GetModel(x, *p):\n",
        "  y = 0.\n",
        "  for n in range(len(p)):\n",
        "    y += p[n] * x**n\n",
        "  return y\n",
        "\n",
        "def base(x,a,b,c):\n",
        "  return (a*x**2)+(b*x)+c\n",
        "\n",
        "res, cov = curve_fit(base, x, y)  #Para la funcion cuadratica:\n",
        "res, sol1"
      ],
      "metadata": {
        "colab": {
          "base_uri": "https://localhost:8080/"
        },
        "id": "gYm-tOfWRuEV",
        "outputId": "35205997-59f6-4aea-b3c5-a1a2e47afc28"
      },
      "execution_count": 130,
      "outputs": [
        {
          "output_type": "execute_result",
          "data": {
            "text/plain": [
              "(array([3.04171866, 5.04229335, 3.91439272]),\n",
              " array([3.04171871, 5.04229284, 3.91439388]))"
            ]
          },
          "metadata": {},
          "execution_count": 130
        }
      ]
    },
    {
      "cell_type": "code",
      "source": [
        "#Los resultados son muy cercanos teniendo una precision de 10^6, por lo que los minimos cuadrados para la cuadratica\n",
        "#son una muy buena aproximacion, si consideramos el curve fit como exacto"
      ],
      "metadata": {
        "id": "urFssq48X4Tz"
      },
      "execution_count": null,
      "outputs": []
    },
    {
      "cell_type": "code",
      "source": [
        "file = '/content/drive/MyDrive/Colab Notebooks/Datos/MinimosLineal.txt'\n",
        "file"
      ],
      "metadata": {
        "colab": {
          "base_uri": "https://localhost:8080/",
          "height": 35
        },
        "id": "WJzQ_1WKUJJ0",
        "outputId": "f5557804-841c-4cf9-fa87-ef89b0766f31"
      },
      "execution_count": 131,
      "outputs": [
        {
          "output_type": "execute_result",
          "data": {
            "text/plain": [
              "'/content/drive/MyDrive/Colab Notebooks/Datos/MinimosLineal.txt'"
            ],
            "application/vnd.google.colaboratory.intrinsic+json": {
              "type": "string"
            }
          },
          "metadata": {},
          "execution_count": 131
        }
      ]
    },
    {
      "cell_type": "code",
      "source": [
        "data = pd.read_csv(file,sep=' ')\n",
        "data.columns = ['x','y']"
      ],
      "metadata": {
        "id": "KzF1C68xUTjw"
      },
      "execution_count": 132,
      "outputs": []
    },
    {
      "cell_type": "code",
      "source": [
        "x = np.array(data['x'])\n",
        "y = np.array(data['y'])"
      ],
      "metadata": {
        "id": "4a-0dPq_UXMO"
      },
      "execution_count": 133,
      "outputs": []
    },
    {
      "cell_type": "code",
      "source": [
        "def base2(x,a,b):\n",
        "  return (a*x)+b\n",
        "\n",
        "sol2=GetFit(x,y,1)\n",
        "sol2=np.flip(sol2)\n",
        "\n",
        "res, cov = curve_fit(base2, x, y)  #Para la funcion lineal:\n",
        "res, sol2"
      ],
      "metadata": {
        "colab": {
          "base_uri": "https://localhost:8080/"
        },
        "id": "jI4N1bFGUaR8",
        "outputId": "5c365552-3ec7-44d5-e428-d74e1d29f038"
      },
      "execution_count": 134,
      "outputs": [
        {
          "output_type": "execute_result",
          "data": {
            "text/plain": [
              "(array([ 2.13074682, -5.20732248]), array([ 2.13074682, -5.20732249]))"
            ]
          },
          "metadata": {},
          "execution_count": 134
        }
      ]
    },
    {
      "cell_type": "code",
      "source": [
        "#Los resultados son muy cercanos teniendo una precision de 10^7, por lo que los minimos cuadrados para la lineal\n",
        "# son una aproximacion aun mejor que la cuadratica teniendo mayor presicion en los valores de a y b, si consideramos el curve fit como exacto"
      ],
      "metadata": {
        "id": "1yMQdkX9YQVb"
      },
      "execution_count": null,
      "outputs": []
    }
  ]
}