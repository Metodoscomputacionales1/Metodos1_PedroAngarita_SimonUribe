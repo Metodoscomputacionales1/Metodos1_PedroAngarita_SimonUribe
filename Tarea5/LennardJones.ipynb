{
  "nbformat": 4,
  "nbformat_minor": 0,
  "metadata": {
    "colab": {
      "provenance": [],
      "authorship_tag": "ABX9TyOPYk6jcJRxQLTsB0T7DETb",
      "include_colab_link": true
    },
    "kernelspec": {
      "name": "python3",
      "display_name": "Python 3"
    },
    "language_info": {
      "name": "python"
    }
  },
  "cells": [
    {
      "cell_type": "markdown",
      "metadata": {
        "id": "view-in-github",
        "colab_type": "text"
      },
      "source": [
        "<a href=\"https://colab.research.google.com/github/Metodoscomputacionales1/Metodos1_PedroAngarita_SimonUribe/blob/main/Tarea5/LennardJones.ipynb\" target=\"_parent\"><img src=\"https://colab.research.google.com/assets/colab-badge.svg\" alt=\"Open In Colab\"/></a>"
      ]
    },
    {
      "cell_type": "code",
      "execution_count": 156,
      "metadata": {
        "id": "6KpiZ_mQLM62"
      },
      "outputs": [],
      "source": [
        "\n",
        "import numpy as np\n",
        "import matplotlib.pyplot as plt\n",
        "from IPython.display import clear_output\n",
        "import time\n",
        "import copy"
      ]
    },
    {
      "cell_type": "code",
      "source": [
        "def LennardJones(r, epsilon=1, sigma=1):\n",
        "    \"\"\"\n",
        "    Potencial de Lennard-Jones para dos partículas a una distancia r.\n",
        "    \"\"\"\n",
        "    return 4 * epsilon * ((sigma / r)**12 - (sigma / r)**6)\n",
        "\n",
        "def TotalEnergy(positions, epsilon=1, sigma=1):\n",
        "    \"\"\"\n",
        "    Calcula la energía total de un sistema de partículas en posiciones dadas.\n",
        "    \"\"\"\n",
        "    N = len(positions)\n",
        "    energy = 0\n",
        "    for i in range(N):\n",
        "        for j in range(i + 1, N):\n",
        "            r = np.linalg.norm(positions[i] - positions[j])  # Distancia entre partículas\n",
        "            if r != 0:\n",
        "                energy += LennardJones(r, epsilon, sigma)\n",
        "    return energy"
      ],
      "metadata": {
        "id": "Ge37fAnNLf1r"
      },
      "execution_count": 157,
      "outputs": []
    },
    {
      "cell_type": "code",
      "source": [
        "#posicion particulas iniciales random en una cubo de longitud 30\n",
        "z=np.random.randint(0, 30, size=(50, 3))\n",
        "y=np.random.randint(0, 30, size=(50, 3))\n",
        "x=np.random.randint(0, 30, size=(50, 3))\n",
        "y+x\n"
      ],
      "metadata": {
        "colab": {
          "base_uri": "https://localhost:8080/"
        },
        "id": "wdKaVDo1NV-p",
        "outputId": "d49d2ff2-349b-4c5e-f5e8-6150f1db542b"
      },
      "execution_count": 158,
      "outputs": [
        {
          "output_type": "execute_result",
          "data": {
            "text/plain": [
              "array([[47, 45, 27],\n",
              "       [25, 46, 22],\n",
              "       [23, 21, 10],\n",
              "       [35, 15,  5],\n",
              "       [22, 27, 21],\n",
              "       [22, 43, 15],\n",
              "       [33, 11, 35],\n",
              "       [35, 40, 34],\n",
              "       [31, 30, 11],\n",
              "       [29, 45, 37],\n",
              "       [25, 20, 44],\n",
              "       [37, 48, 34],\n",
              "       [32, 35, 28],\n",
              "       [27, 41, 39],\n",
              "       [29, 42, 29],\n",
              "       [48, 15, 50],\n",
              "       [31, 26, 40],\n",
              "       [30, 25, 47],\n",
              "       [36, 23,  1],\n",
              "       [32, 24, 37],\n",
              "       [32, 23, 31],\n",
              "       [32, 32, 42],\n",
              "       [40, 20, 26],\n",
              "       [14, 23, 38],\n",
              "       [25, 30, 31],\n",
              "       [45, 19, 30],\n",
              "       [57, 20, 49],\n",
              "       [25, 27, 19],\n",
              "       [48, 39, 17],\n",
              "       [18, 50, 29],\n",
              "       [15, 19, 14],\n",
              "       [47, 26,  7],\n",
              "       [37, 23, 15],\n",
              "       [32, 22, 39],\n",
              "       [18, 47, 27],\n",
              "       [44, 13, 21],\n",
              "       [42, 39, 35],\n",
              "       [34, 50, 50],\n",
              "       [12, 17, 45],\n",
              "       [54, 16,  3],\n",
              "       [21,  5, 50],\n",
              "       [32, 13, 51],\n",
              "       [26, 31, 26],\n",
              "       [34, 33, 43],\n",
              "       [39, 31, 13],\n",
              "       [28, 32, 39],\n",
              "       [42, 30,  4],\n",
              "       [25, 11, 18],\n",
              "       [34, 35, 43],\n",
              "       [13, 47, 42]])"
            ]
          },
          "metadata": {},
          "execution_count": 158
        }
      ]
    },
    {
      "cell_type": "code",
      "source": [
        "array =((np.random.rand(50, 3)+1)*1.5)\n",
        "array\n",
        "total=TotalEnergy(array)\n",
        "total"
      ],
      "metadata": {
        "colab": {
          "base_uri": "https://localhost:8080/"
        },
        "id": "zTNolmpDPHSy",
        "outputId": "87e59736-064d-4686-c758-57323af5274e"
      },
      "execution_count": 159,
      "outputs": [
        {
          "output_type": "execute_result",
          "data": {
            "text/plain": [
              "410627038846594.6"
            ]
          },
          "metadata": {},
          "execution_count": 159
        }
      ]
    },
    {
      "cell_type": "code",
      "source": [
        "class Robot:\n",
        "\n",
        "\n",
        "  def __init__(self, Id=0):\n",
        "\n",
        "    self.Id = Id\n",
        "    self.f = TotalEnergy\n",
        "    self.posiciones=np.random.randint(0, 20, size=(50, 3))+ np.random.rand(50, 3)\n",
        "\n",
        "\n",
        "  def Getpos(self):\n",
        "    return self.posiciones\n",
        "\n",
        "\n",
        "\n",
        "  def Mutate(self):\n",
        "    self.posiciones+=((np.random.randint(-1, 1, size=(50, 3))+1))*2\n",
        "    self.SetFitness()\n",
        "\n",
        "\n",
        "  def SetFitness(self):\n",
        "    self.fitness = self.f(self.posiciones)\n",
        "\n",
        "  def GetFitness(self):\n",
        "    return self.fitness\n",
        "  @property\n",
        "  def Fitness(self):\n",
        "    return self.fitness\n",
        "\n",
        "  def __repr__(self):\n",
        "    return f\"Robot {self.Id}\""
      ],
      "metadata": {
        "id": "ZBhJ3ANYLgKW"
      },
      "execution_count": 173,
      "outputs": []
    },
    {
      "cell_type": "code",
      "source": [
        "(np.random.uniform(-1,1))"
      ],
      "metadata": {
        "colab": {
          "base_uri": "https://localhost:8080/"
        },
        "id": "RjAU6UFoSHNO",
        "outputId": "501dd3a0-86a2-43cf-aa58-1ea5de1dbe5b"
      },
      "execution_count": 174,
      "outputs": [
        {
          "output_type": "execute_result",
          "data": {
            "text/plain": [
              "0.9031017836446658"
            ]
          },
          "metadata": {},
          "execution_count": 174
        }
      ]
    },
    {
      "cell_type": "code",
      "source": [
        "def GetRobots(N):\n",
        "\n",
        "  Robots = []\n",
        "\n",
        "  for i in range(N):\n",
        "    r = Robot(i)\n",
        "    Robots.append(r)\n",
        "\n",
        "  return Robots"
      ],
      "metadata": {
        "id": "KQ1iujN6QyGT"
      },
      "execution_count": 175,
      "outputs": []
    },
    {
      "cell_type": "code",
      "source": [
        "a=GetRobots(10)\n",
        "a"
      ],
      "metadata": {
        "colab": {
          "base_uri": "https://localhost:8080/"
        },
        "id": "tg0St6xGQ7Td",
        "outputId": "85863aa3-5899-4fb0-9ea3-e283e235b32e"
      },
      "execution_count": 176,
      "outputs": [
        {
          "output_type": "execute_result",
          "data": {
            "text/plain": [
              "[Robot 0,\n",
              " Robot 1,\n",
              " Robot 2,\n",
              " Robot 3,\n",
              " Robot 4,\n",
              " Robot 5,\n",
              " Robot 6,\n",
              " Robot 7,\n",
              " Robot 8,\n",
              " Robot 9]"
            ]
          },
          "metadata": {},
          "execution_count": 176
        }
      ]
    },
    {
      "cell_type": "code",
      "source": [
        "a[1].SetFitness()\n",
        "a[1].GetFitness()"
      ],
      "metadata": {
        "colab": {
          "base_uri": "https://localhost:8080/"
        },
        "id": "r0DLyca2Q-_O",
        "outputId": "c4094340-44a2-44a4-da03-9659656acc3e"
      },
      "execution_count": 177,
      "outputs": [
        {
          "output_type": "execute_result",
          "data": {
            "text/plain": [
              "31174.238522145195"
            ]
          },
          "metadata": {},
          "execution_count": 177
        }
      ]
    },
    {
      "cell_type": "code",
      "source": [
        "def Genetic(Robots, epochs=200):\n",
        "\n",
        "  N = int(0.9*len(Robots))\n",
        "\n",
        "  for e in range(epochs):\n",
        "\n",
        "\n",
        "    # Mutar el genoma\n",
        "    for i, p in enumerate(Robots):\n",
        "\n",
        "      p.Mutate()\n",
        "      p.SetFitness()\n",
        "\n",
        "    # Queremos medir cual es más apto\n",
        "    score = [ (p.Fitness, p) for p in Robots ]\n",
        "    # Como ordenamos\n",
        "    score = sorted(score, key=lambda x: x[0], reverse=False) # De menor a mayor\n",
        "   # print(score)\n",
        "\n",
        "    Temp = [r[1] for i, r in enumerate(score) if i < N]\n",
        "\n",
        "     # Reintroducción aleatoria de algunos individuos\n",
        "    for i in range(int(0.1 * len(Robots))):  # Un 10% de los robots se reintroducen aleatoriamente\n",
        "        Robots[i] = Robot(i)\n",
        "\n",
        "    for i,r in enumerate(Robots):\n",
        "      j = i%N\n",
        "      Robots[i] = copy.deepcopy(Temp[j])\n",
        "  return Robots"
      ],
      "metadata": {
        "id": "-6trJU7rQ_iT"
      },
      "execution_count": 178,
      "outputs": []
    },
    {
      "cell_type": "code",
      "source": [
        "z=GetRobots(200)"
      ],
      "metadata": {
        "id": "aKz6gYCCfMW_"
      },
      "execution_count": 179,
      "outputs": []
    },
    {
      "cell_type": "code",
      "source": [
        "A=Genetic(z)"
      ],
      "metadata": {
        "id": "HVABa2DefPvz"
      },
      "execution_count": 180,
      "outputs": []
    },
    {
      "cell_type": "code",
      "source": [
        "A[0].Getpos()"
      ],
      "metadata": {
        "colab": {
          "base_uri": "https://localhost:8080/"
        },
        "id": "D5H1iiUIfS5_",
        "outputId": "2e9663e4-aa7b-4f10-a49b-77dbf9cdaa6b"
      },
      "execution_count": 181,
      "outputs": [
        {
          "output_type": "execute_result",
          "data": {
            "text/plain": [
              "array([[215.0271517 , 211.65898299, 211.68344157],\n",
              "       [231.70474795, 222.85545629, 210.59660136],\n",
              "       [221.06898231, 221.31452282, 222.67597089],\n",
              "       [218.18890045, 227.01885056, 182.53990348],\n",
              "       [223.41230947, 184.93737005, 175.02124048],\n",
              "       [214.02850707, 203.83394411, 213.48237758],\n",
              "       [209.82960391, 210.96433603, 210.94498728],\n",
              "       [206.23758095, 215.84523373, 210.37401527],\n",
              "       [215.87668433, 208.74006923, 227.62526031],\n",
              "       [210.16514557, 217.27914172, 205.49833082],\n",
              "       [214.71803317, 203.66644964, 188.09629781],\n",
              "       [217.82332234, 218.79856041, 208.62765593],\n",
              "       [200.1715665 , 197.92210846, 198.96449223],\n",
              "       [198.7871099 , 208.25572623, 219.12443474],\n",
              "       [224.39209619, 214.82020805, 180.63874044],\n",
              "       [210.89159813, 206.61836648, 208.86949857],\n",
              "       [222.18357189, 204.1661389 , 197.32214016],\n",
              "       [201.56414058, 205.33439641, 209.30903278],\n",
              "       [227.03140372, 206.27319138, 209.48643265],\n",
              "       [215.82474943, 208.1518443 , 228.72462481],\n",
              "       [213.89283162, 200.6038156 , 197.01467449],\n",
              "       [226.53156539, 201.59690444, 230.03982389],\n",
              "       [233.43711035, 217.45002263, 186.53973766],\n",
              "       [216.47609299, 204.82144981, 204.00359167],\n",
              "       [216.32904589, 194.70009475, 208.02107729],\n",
              "       [212.86460528, 214.78284231, 203.90394515],\n",
              "       [199.98409048, 202.42239376, 192.36912493],\n",
              "       [211.77045258, 211.45117493, 173.81277342],\n",
              "       [249.55723365, 197.84632187, 200.68695931],\n",
              "       [248.43044794, 215.88909283, 203.20216613],\n",
              "       [208.3436091 , 207.45342113, 185.61800416],\n",
              "       [199.38433925, 212.03847019, 216.81401804],\n",
              "       [212.51567103, 210.24987993, 219.3564039 ],\n",
              "       [174.10186629, 214.89976376, 212.67172851],\n",
              "       [208.64318351, 212.65133393, 232.50264855],\n",
              "       [226.17546677, 217.88015818, 216.03757231],\n",
              "       [191.55370532, 209.93286718, 242.37503401],\n",
              "       [202.80691756, 226.17023185, 230.2735917 ],\n",
              "       [213.80573486, 222.3800649 , 206.14927738],\n",
              "       [229.23515895, 208.94358412, 222.7136098 ],\n",
              "       [234.06393934, 199.2230569 , 201.03542868],\n",
              "       [228.40467999, 222.13017993, 210.28071826],\n",
              "       [221.8151058 , 199.44628523, 203.96895841],\n",
              "       [170.71198229, 212.43780069, 214.02347825],\n",
              "       [219.6499157 , 201.71235889, 209.04355586],\n",
              "       [227.26328134, 226.61337973, 207.37606512],\n",
              "       [209.97485926, 211.38584433, 245.02574851],\n",
              "       [221.03941024, 200.44515333, 211.92918911],\n",
              "       [244.50057334, 215.80565113, 214.84517606],\n",
              "       [215.52953838, 194.14710968, 207.30421376]])"
            ]
          },
          "metadata": {},
          "execution_count": 181
        }
      ]
    },
    {
      "cell_type": "code",
      "source": [
        "A[0].GetFitness()"
      ],
      "metadata": {
        "colab": {
          "base_uri": "https://localhost:8080/"
        },
        "id": "IDMYpNpJfxEp",
        "outputId": "838b3e4a-690c-431e-89db-21a4743c6b5a"
      },
      "execution_count": 182,
      "outputs": [
        {
          "output_type": "execute_result",
          "data": {
            "text/plain": [
              "-1.660852535594168"
            ]
          },
          "metadata": {},
          "execution_count": 182
        }
      ]
    },
    {
      "cell_type": "code",
      "source": [],
      "metadata": {
        "id": "KvO81YLFf6du"
      },
      "execution_count": 182,
      "outputs": []
    }
  ]
}