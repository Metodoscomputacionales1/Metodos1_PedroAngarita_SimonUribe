{
  "nbformat": 4,
  "nbformat_minor": 0,
  "metadata": {
    "colab": {
      "provenance": [],
      "authorship_tag": "ABX9TyNquZa4wHZIamURjxGFkVqC",
      "include_colab_link": true
    },
    "kernelspec": {
      "name": "python3",
      "display_name": "Python 3"
    },
    "language_info": {
      "name": "python"
    }
  },
  "cells": [
    {
      "cell_type": "markdown",
      "metadata": {
        "id": "view-in-github",
        "colab_type": "text"
      },
      "source": [
        "<a href=\"https://colab.research.google.com/github/Metodoscomputacionales1/Metodos1_PedroAngarita_SimonUribe/blob/main/Parcial3/Caminata_aleatoria_(Ejercicio_foton)_parcial.ipynb\" target=\"_parent\"><img src=\"https://colab.research.google.com/assets/colab-badge.svg\" alt=\"Open In Colab\"/></a>"
      ]
    },
    {
      "cell_type": "code",
      "execution_count": 49,
      "metadata": {
        "id": "ml2Jf8v0pCzr"
      },
      "outputs": [],
      "source": [
        "import numpy as np\n",
        "import matplotlib.pyplot as plt"
      ]
    },
    {
      "cell_type": "code",
      "source": [
        "x,y,z=[0.,0.,0.]"
      ],
      "metadata": {
        "id": "mmW-g6lazXSt"
      },
      "execution_count": 50,
      "outputs": []
    },
    {
      "cell_type": "code",
      "source": [
        "N=[]\n",
        "\n",
        "for i in range(1000):\n",
        "  n=0\n",
        "  while np.sqrt(x**2+y**2+z**2)<1:\n",
        "    thete=np.random.uniform(0,2*np.pi)\n",
        "    phi=np.random.uniform(0,np.pi)\n",
        "    x+=0.1*np.cos(thete)*np.sin(phi)\n",
        "    y+=0.1*np.sin(thete)*np.sin(phi)\n",
        "    y=y+0.1*np.cos(phi)\n",
        "    n+=1\n",
        "  N.append(n)\n",
        "  x,y,z=[0.,0.,0.]\n",
        "print(N)"
      ],
      "metadata": {
        "colab": {
          "base_uri": "https://localhost:8080/"
        },
        "id": "4hmf5N1kzeRl",
        "outputId": "4d31084e-5392-424b-fe75-97caad31bba9"
      },
      "execution_count": 51,
      "outputs": [
        {
          "output_type": "stream",
          "name": "stdout",
          "text": [
            "[45, 122, 27, 137, 70, 27, 197, 27, 32, 54, 35, 48, 173, 365, 33, 292, 62, 92, 141, 144, 49, 141, 42, 76, 36, 187, 421, 341, 35, 38, 65, 58, 88, 66, 65, 118, 43, 80, 34, 195, 56, 188, 64, 35, 35, 45, 161, 35, 66, 227, 23, 45, 64, 67, 144, 107, 223, 155, 145, 159, 72, 185, 63, 183, 154, 65, 117, 178, 36, 56, 136, 176, 154, 24, 110, 211, 46, 42, 36, 92, 494, 209, 263, 135, 62, 62, 106, 80, 123, 42, 103, 67, 131, 157, 46, 62, 179, 50, 201, 227, 69, 62, 86, 29, 35, 41, 57, 145, 45, 95, 113, 105, 42, 226, 87, 108, 328, 186, 118, 123, 59, 89, 86, 81, 147, 373, 85, 215, 57, 279, 130, 183, 164, 166, 34, 97, 170, 47, 61, 27, 312, 62, 82, 125, 163, 72, 54, 63, 132, 62, 164, 52, 106, 54, 257, 68, 37, 126, 32, 141, 24, 128, 154, 22, 214, 95, 48, 230, 106, 76, 124, 45, 80, 79, 96, 55, 19, 40, 57, 165, 302, 33, 135, 97, 151, 48, 24, 191, 47, 47, 37, 123, 171, 54, 61, 106, 104, 64, 200, 63, 170, 201, 85, 41, 106, 400, 38, 12, 26, 102, 24, 24, 26, 76, 104, 97, 11, 53, 147, 35, 153, 48, 138, 192, 167, 93, 28, 108, 40, 96, 27, 333, 139, 49, 114, 96, 89, 84, 100, 151, 66, 103, 71, 156, 128, 65, 79, 218, 107, 40, 73, 72, 108, 124, 65, 170, 191, 59, 122, 218, 56, 64, 135, 48, 241, 40, 51, 167, 69, 125, 51, 67, 193, 90, 175, 60, 69, 107, 126, 88, 47, 264, 142, 81, 285, 195, 27, 61, 50, 184, 50, 226, 320, 137, 70, 40, 143, 134, 39, 341, 116, 447, 127, 124, 261, 60, 68, 152, 174, 25, 118, 43, 93, 127, 96, 70, 195, 112, 184, 105, 30, 175, 66, 45, 84, 95, 34, 286, 38, 42, 54, 37, 291, 371, 34, 28, 25, 174, 349, 182, 161, 44, 64, 125, 35, 56, 70, 100, 86, 124, 81, 46, 49, 188, 87, 87, 52, 34, 162, 23, 70, 221, 96, 44, 85, 161, 38, 88, 156, 382, 104, 77, 48, 163, 111, 62, 63, 23, 100, 105, 51, 72, 95, 20, 56, 148, 179, 60, 23, 42, 57, 131, 55, 69, 71, 168, 144, 36, 53, 229, 39, 96, 35, 100, 99, 25, 59, 307, 245, 32, 98, 73, 121, 178, 65, 100, 61, 57, 76, 39, 89, 82, 253, 86, 90, 120, 113, 228, 78, 128, 127, 113, 329, 20, 128, 192, 140, 328, 116, 217, 145, 56, 50, 94, 133, 67, 130, 29, 244, 85, 47, 244, 146, 111, 36, 349, 131, 85, 41, 43, 72, 70, 131, 117, 170, 26, 28, 352, 76, 70, 36, 113, 197, 57, 41, 25, 218, 144, 56, 54, 62, 161, 55, 41, 129, 36, 84, 67, 83, 151, 245, 143, 31, 34, 179, 21, 50, 79, 54, 63, 122, 119, 130, 84, 155, 58, 162, 64, 197, 33, 143, 43, 69, 151, 108, 50, 268, 104, 206, 93, 33, 230, 128, 72, 24, 86, 200, 80, 54, 53, 43, 169, 97, 36, 58, 238, 40, 134, 254, 61, 317, 34, 38, 31, 76, 195, 183, 138, 43, 73, 89, 40, 340, 175, 59, 100, 167, 205, 487, 44, 190, 141, 38, 484, 32, 269, 174, 88, 39, 59, 49, 198, 111, 214, 62, 43, 61, 210, 113, 39, 87, 50, 244, 28, 161, 69, 220, 111, 128, 22, 59, 82, 124, 223, 84, 72, 54, 36, 250, 227, 75, 54, 85, 81, 66, 204, 98, 55, 120, 105, 35, 49, 145, 93, 69, 108, 97, 381, 48, 93, 70, 27, 150, 21, 71, 126, 121, 165, 43, 145, 40, 49, 48, 22, 143, 38, 156, 67, 67, 208, 13, 112, 50, 140, 145, 100, 198, 104, 30, 99, 68, 83, 53, 25, 338, 16, 69, 78, 69, 119, 46, 55, 65, 109, 257, 63, 140, 77, 43, 154, 72, 133, 84, 69, 122, 40, 264, 196, 83, 251, 543, 60, 79, 95, 78, 90, 602, 75, 72, 178, 125, 70, 184, 53, 44, 97, 24, 67, 83, 106, 235, 65, 233, 56, 108, 35, 119, 143, 156, 59, 163, 23, 287, 100, 118, 36, 200, 155, 60, 80, 169, 208, 90, 243, 91, 286, 74, 92, 129, 64, 211, 31, 69, 38, 37, 164, 155, 38, 90, 82, 52, 85, 98, 100, 56, 99, 181, 151, 67, 83, 63, 88, 139, 25, 326, 136, 82, 175, 27, 41, 35, 66, 42, 22, 162, 139, 83, 44, 106, 128, 85, 146, 57, 256, 44, 166, 402, 24, 116, 82, 98, 55, 170, 118, 57, 35, 44, 64, 61, 179, 170, 56, 167, 95, 40, 55, 35, 68, 31, 70, 61, 28, 61, 115, 137, 29, 168, 223, 76, 34, 46, 77, 125, 62, 140, 55, 55, 122, 108, 70, 65, 66, 121, 20, 40, 161, 31, 57, 60, 32, 151, 116, 52, 41, 143, 108, 82, 97, 189, 147, 26, 30, 138, 120, 66, 105, 17, 46, 52, 56, 15, 105, 219, 304, 123, 140, 58, 209, 53, 87, 87, 51, 206, 135, 35, 97, 39, 154, 48, 80, 131, 267, 236, 168, 141, 218, 142, 109, 30, 39, 44, 46, 137, 45, 19, 109, 89, 179, 65, 32, 44, 231, 46, 145, 64, 152, 88, 47, 135, 35, 145, 52, 140, 160, 119, 105, 111, 145, 218, 230, 129, 56, 35, 32, 87, 158, 100, 406, 216, 80, 49, 57, 102, 76, 52, 47, 59, 83, 42, 69, 111, 230, 39, 93, 88, 137, 242, 219, 153, 38, 91, 106, 38, 61, 56, 42, 66, 111, 211, 40, 64, 27, 297, 56, 48, 48, 88, 257, 77, 41, 366, 199, 169, 35, 58, 20, 150, 94, 67, 32, 39, 110, 69, 37, 402, 207, 274, 236, 100, 82, 128, 38, 169, 141, 168, 181, 319, 40, 127, 49, 79, 71, 248, 89, 159, 166, 54, 53, 122, 75]\n"
          ]
        }
      ]
    },
    {
      "cell_type": "code",
      "source": [
        "plt.hist(N, bins=np.arange(np.min(N),np.max(N),26), density=True,color=\"lightgreen\", ec=\"black\")\n",
        "plt.xlabel(\"Number of steps\")\n",
        "plt.ylabel(\"Probability\")\n",
        "plt.show()"
      ],
      "metadata": {
        "colab": {
          "base_uri": "https://localhost:8080/",
          "height": 449
        },
        "id": "o3p9H0DSyIyn",
        "outputId": "51c2fd02-8d1f-4bc4-cf4b-f36e29ccb873"
      },
      "execution_count": 52,
      "outputs": [
        {
          "output_type": "display_data",
          "data": {
            "text/plain": [
              "<Figure size 640x480 with 1 Axes>"
            ],
            "image/png": "[encoded data removed]"
          },
          "metadata": {}
        }
      ]
    },
    {
      "cell_type": "code",
      "source": [
        "tiempo=np.unique(N, return_counts=True)\n",
        "tiempo"
      ],
      "metadata": {
        "colab": {
          "base_uri": "https://localhost:8080/"
        },
        "id": "LNcwWGvb786W",
        "outputId": "681bff2e-cba1-4efe-b6de-cecc65527eb4"
      },
      "execution_count": 53,
      "outputs": [
        {
          "output_type": "execute_result",
          "data": {
            "text/plain": [
              "(array([ 11,  12,  13,  15,  16,  17,  19,  20,  21,  22,  23,  24,  25,\n",
              "         26,  27,  28,  29,  30,  31,  32,  33,  34,  35,  36,  37,  38,\n",
              "         39,  40,  41,  42,  43,  44,  45,  46,  47,  48,  49,  50,  51,\n",
              "         52,  53,  54,  55,  56,  57,  58,  59,  60,  61,  62,  63,  64,\n",
              "         65,  66,  67,  68,  69,  70,  71,  72,  73,  74,  75,  76,  77,\n",
              "         78,  79,  80,  81,  82,  83,  84,  85,  86,  87,  88,  89,  90,\n",
              "         91,  92,  93,  94,  95,  96,  97,  98,  99, 100, 102, 103, 104,\n",
              "        105, 106, 107, 108, 109, 110, 111, 112, 113, 114, 115, 116, 117,\n",
              "        118, 119, 120, 121, 122, 123, 124, 125, 126, 127, 128, 129, 130,\n",
              "        131, 132, 133, 134, 135, 136, 137, 138, 139, 140, 141, 142, 143,\n",
              "        144, 145, 146, 147, 148, 150, 151, 152, 153, 154, 155, 156, 157,\n",
              "        158, 159, 160, 161, 162, 163, 164, 165, 166, 167, 168, 169, 170,\n",
              "        171, 173, 174, 175, 176, 178, 179, 181, 182, 183, 184, 185, 186,\n",
              "        187, 188, 189, 190, 191, 192, 193, 195, 196, 197, 198, 199, 200,\n",
              "        201, 204, 205, 206, 207, 208, 209, 210, 211, 214, 215, 216, 217,\n",
              "        218, 219, 220, 221, 223, 226, 227, 228, 229, 230, 231, 233, 235,\n",
              "        236, 238, 241, 242, 243, 244, 245, 248, 250, 251, 253, 254, 256,\n",
              "        257, 261, 263, 264, 267, 268, 269, 274, 279, 285, 286, 287, 291,\n",
              "        292, 297, 302, 304, 307, 312, 317, 319, 320, 326, 328, 329, 333,\n",
              "        338, 340, 341, 349, 352, 365, 366, 371, 373, 381, 382, 400, 402,\n",
              "        406, 421, 447, 484, 487, 494, 543, 602]),\n",
              " array([ 1,  1,  1,  1,  1,  1,  2,  4,  2,  4,  5,  8,  6,  4,  9,  5,  3,\n",
              "         4,  5,  8,  4,  8, 18, 10,  5, 12,  9, 13,  8,  9,  9,  9,  7,  8,\n",
              "         7, 11,  8,  8,  4,  7,  7, 11,  9, 14, 10,  5,  8,  6, 10, 11,  7,\n",
              "        10, 10,  9, 10,  4, 13, 11,  4,  9,  3,  1,  3,  8,  4,  3,  5,  7,\n",
              "         4,  8,  7,  6,  8,  5,  7,  8,  6,  5,  2,  3,  6,  2,  6,  6,  8,\n",
              "         4,  3, 11,  2,  2,  5,  7,  8,  3,  8,  3,  2,  7,  2,  5,  1,  1,\n",
              "         4,  2,  5,  4,  3,  3,  6,  4,  5,  5,  3,  4,  8,  3,  3,  5,  1,\n",
              "         2,  2,  5,  2,  5,  3,  3,  6,  6,  2,  6,  4,  9,  2,  3,  1,  2,\n",
              "         6,  2,  2,  5,  4,  4,  1,  1,  2,  1,  6,  3,  3,  3,  2,  3,  4,\n",
              "         4,  4,  6,  1,  1,  3,  4,  1,  3,  5,  2,  1,  3,  3,  1,  1,  1,\n",
              "         2,  1,  1,  2,  2,  1,  4,  1,  3,  2,  1,  3,  2,  1,  1,  2,  1,\n",
              "         2,  2,  1,  3,  2,  1,  1,  1,  5,  2,  1,  1,  3,  2,  3,  1,  1,\n",
              "         4,  1,  1,  1,  2,  1,  1,  1,  1,  3,  2,  1,  1,  1,  1,  1,  1,\n",
              "         3,  1,  1,  2,  1,  1,  1,  1,  1,  1,  2,  1,  1,  1,  1,  1,  1,\n",
              "         1,  1,  1,  1,  1,  1,  2,  1,  1,  1,  1,  2,  2,  1,  1,  1,  1,\n",
              "         1,  1,  1,  1,  2,  1,  1,  1,  1,  1,  1,  1,  1]))"
            ]
          },
          "metadata": {},
          "execution_count": 53
        }
      ]
    },
    {
      "cell_type": "code",
      "source": [
        "np.mean(N)"
      ],
      "metadata": {
        "colab": {
          "base_uri": "https://localhost:8080/"
        },
        "id": "I9umOmmE9NMq",
        "outputId": "a5fc149c-e9f3-49ac-d357-d9c65e10e402"
      },
      "execution_count": 54,
      "outputs": [
        {
          "output_type": "execute_result",
          "data": {
            "text/plain": [
              "110.085"
            ]
          },
          "metadata": {},
          "execution_count": 54
        }
      ]
    },
    {
      "cell_type": "code",
      "source": [
        "tiempo[1].sum()"
      ],
      "metadata": {
        "colab": {
          "base_uri": "https://localhost:8080/"
        },
        "id": "2pP0gusr_BN1",
        "outputId": "8dd1f0c6-cf1b-4ddb-a61b-c345741b5edf"
      },
      "execution_count": 56,
      "outputs": [
        {
          "output_type": "execute_result",
          "data": {
            "text/plain": [
              "1000"
            ]
          },
          "metadata": {},
          "execution_count": 56
        }
      ]
    },
    {
      "cell_type": "code",
      "source": [
        "esperanza=0\n",
        "for i in range(len(tiempo[0])):\n",
        "  esperanza+=tiempo[0][i]*tiempo[1][i]/1000\n",
        "print(esperanza)"
      ],
      "metadata": {
        "colab": {
          "base_uri": "https://localhost:8080/"
        },
        "id": "1ZK86oSN9zc5",
        "outputId": "b6642c79-4f3e-4103-f90d-ab0c55f4a96c"
      },
      "execution_count": 57,
      "outputs": [
        {
          "output_type": "stream",
          "name": "stdout",
          "text": [
            "110.085\n"
          ]
        }
      ]
    },
    {
      "cell_type": "code",
      "source": [
        "#se prueba que el resultado es muy cercano a 100 el valor esperado si se hiciera el calculo (1/0.1)**2=100"
      ],
      "metadata": {
        "id": "8fBbhZ-Q_jNE"
      },
      "execution_count": 58,
      "outputs": []
    },
    {
      "cell_type": "code",
      "source": [
        "print(\"Tiempo en salir del sol: \")\n",
        "T2=(700000000**2)/(0.006*300000000)\n",
        "print(T2, \" segundos o\", T2*3.171e-8, \" años\")"
      ],
      "metadata": {
        "colab": {
          "base_uri": "https://localhost:8080/"
        },
        "id": "eNcBXkp6TU7_",
        "outputId": "7f721df4-8c38-451f-9e11-95c0554539e6"
      },
      "execution_count": 59,
      "outputs": [
        {
          "output_type": "stream",
          "name": "stdout",
          "text": [
            "Tiempo en salir del sol: \n",
            "272222222222.22223  segundos o 8632.166666666666  años\n"
          ]
        }
      ]
    },
    {
      "cell_type": "code",
      "source": [
        "X=np.linspace(0,700, 270)"
      ],
      "metadata": {
        "id": "_3xMZ8520v8q"
      },
      "execution_count": 55,
      "outputs": []
    },
    {
      "cell_type": "code",
      "source": [
        "from scipy.stats import exponweib\n",
        "a,c,d,e = exponweib.fit(N)\n",
        "print(a,c,d, e)\n",
        "plt.plot(X, exponweib.pdf(X,a,c,d,e), color=\"purple\")\n",
        "plt.hist(N, bins=np.arange(np.min(N),np.max(N),22), density=True,color=\"orange\", ec=\"black\")\n",
        "plt.xlabel(\"Number of steps\")\n",
        "plt.ylabel(\"Probability\")\n",
        "plt.show()"
      ],
      "metadata": {
        "colab": {
          "base_uri": "https://localhost:8080/",
          "height": 466
        },
        "id": "Ey23NGPJFmM8",
        "outputId": "9c6e4171-2923-478d-a487-764865dd4f07"
      },
      "execution_count": 60,
      "outputs": [
        {
          "output_type": "stream",
          "name": "stdout",
          "text": [
            "10.476757985867444 0.5387696118792048 5.405227847417558 12.27938301047562\n"
          ]
        },
        {
          "output_type": "display_data",
          "data": {
            "text/plain": [
              "<Figure size 640x480 with 1 Axes>"
            ],
            "image/png": "[encoded data removed]"
          },
          "metadata": {}
        }
      ]
    }
  ]
}