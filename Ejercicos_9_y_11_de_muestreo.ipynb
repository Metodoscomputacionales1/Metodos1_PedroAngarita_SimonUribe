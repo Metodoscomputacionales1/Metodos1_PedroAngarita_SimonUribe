{
  "nbformat": 4,
  "nbformat_minor": 0,
  "metadata": {
    "colab": {
      "provenance": [],
      "authorship_tag": "ABX9TyPJn53fQwAGBSEmc1h3s+jp",
      "include_colab_link": true
    },
    "kernelspec": {
      "name": "python3",
      "display_name": "Python 3"
    },
    "language_info": {
      "name": "python"
    }
  },
  "cells": [
    {
      "cell_type": "markdown",
      "metadata": {
        "id": "view-in-github",
        "colab_type": "text"
      },
      "source": [
        "<a href=\"https://colab.research.google.com/github/Metodoscomputacionales1/Metodos1_PedroAngarita_SimonUribe/blob/main/Ejercicos_9_y_11_de_muestreo.ipynb\" target=\"_parent\"><img src=\"https://colab.research.google.com/assets/colab-badge.svg\" alt=\"Open In Colab\"/></a>"
      ]
    },
    {
      "cell_type": "code",
      "execution_count": 2,
      "metadata": {
        "id": "9xXzSSxDgIU6"
      },
      "outputs": [],
      "source": [
        "import numpy as np"
      ]
    },
    {
      "cell_type": "code",
      "source": [
        "#9.\n",
        "Vi=30\n",
        "Vf=60\n",
        "V=np.array([Vi,Vf])\n",
        "t=np.array([1,1/2])\n",
        "t/=t.sum()\n",
        "V@t"
      ],
      "metadata": {
        "colab": {
          "base_uri": "https://localhost:8080/"
        },
        "id": "k9gd0mctgNIk",
        "outputId": "a4531c5b-3d65-42b2-cab4-0fdb1e837985"
      },
      "execution_count": 5,
      "outputs": [
        {
          "output_type": "execute_result",
          "data": {
            "text/plain": [
              "40.0"
            ]
          },
          "metadata": {},
          "execution_count": 5
        }
      ]
    },
    {
      "cell_type": "code",
      "source": [
        "#11.\n",
        "from scipy import stats\n",
        "a=np.array([1,2,-1])\n",
        "Gamma=stats.gamma(3,2)\n",
        "Norm=stats.norm(5,2)\n",
        "Uni=stats.uniform(0,10)\n",
        "N=1e5\n",
        "x1=Gamma.rvs(int(N))\n",
        "x2=Norm.rvs(int(N))\n",
        "x3=Uni.rvs(int(N))\n",
        "X=np.array([x1,x2,x3])\n",
        "Y=a@X\n",
        "E=Y.mean()\n",
        "Var=Y.var()\n",
        "E, Var"
      ],
      "metadata": {
        "colab": {
          "base_uri": "https://localhost:8080/"
        },
        "id": "rsqMcP65hwng",
        "outputId": "4f8bd001-d037-4e63-9e46-c3a6e64d0f07"
      },
      "execution_count": 12,
      "outputs": [
        {
          "output_type": "execute_result",
          "data": {
            "text/plain": [
              "(9.99441122714004, 27.22179129707314)"
            ]
          },
          "metadata": {},
          "execution_count": 12
        }
      ]
    },
    {
      "cell_type": "code",
      "source": [
        "a @ X.mean(axis=1)"
      ],
      "metadata": {
        "colab": {
          "base_uri": "https://localhost:8080/"
        },
        "id": "BvuxQ880aKBG",
        "outputId": "4c69d12d-17c1-4a31-bf06-53c6b9409c5d"
      },
      "execution_count": 21,
      "outputs": [
        {
          "output_type": "execute_result",
          "data": {
            "text/plain": [
              "9.994411227140041"
            ]
          },
          "metadata": {},
          "execution_count": 21
        }
      ]
    },
    {
      "cell_type": "code",
      "source": [
        "a@np.cov(X)@a"
      ],
      "metadata": {
        "colab": {
          "base_uri": "https://localhost:8080/"
        },
        "id": "AZ9MAbylaSEp",
        "outputId": "1669712f-ceac-4e80-84a6-6d1c6020f50e"
      },
      "execution_count": 24,
      "outputs": [
        {
          "output_type": "execute_result",
          "data": {
            "text/plain": [
              "27.22206351770832"
            ]
          },
          "metadata": {},
          "execution_count": 24
        }
      ]
    },
    {
      "cell_type": "code",
      "source": [
        "S=X.std(axis=1)"
      ],
      "metadata": {
        "id": "KMeeLVCFcMeq"
      },
      "execution_count": 31,
      "outputs": []
    },
    {
      "cell_type": "code",
      "source": [
        "#pearson\n",
        "C=np.cov(X)\n",
        "for i in range(len(C[0])):\n",
        "    for j in range(len(C[1])):\n",
        "        C[i,j]/=(S[i]*S[j])\n",
        "\n",
        "r=C\n",
        "r"
      ],
      "metadata": {
        "colab": {
          "base_uri": "https://localhost:8080/"
        },
        "id": "BECzxSCCaiBF",
        "outputId": "219cd29c-cbc6-456f-f51b-87436a139db6"
      },
      "execution_count": 35,
      "outputs": [
        {
          "output_type": "execute_result",
          "data": {
            "text/plain": [
              "array([[ 1.00001000e+00, -6.67794334e-04, -2.45330277e-04],\n",
              "       [-6.67794334e-04,  1.00001000e+00,  2.73340140e-03],\n",
              "       [-2.45330277e-04,  2.73340140e-03,  1.00001000e+00]])"
            ]
          },
          "metadata": {},
          "execution_count": 35
        }
      ]
    },
    {
      "cell_type": "code",
      "source": [],
      "metadata": {
        "id": "mlinpPjOczb7"
      },
      "execution_count": null,
      "outputs": []
    }
  ]
}