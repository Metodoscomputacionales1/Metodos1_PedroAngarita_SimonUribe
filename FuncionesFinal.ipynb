{
  "nbformat": 4,
  "nbformat_minor": 0,
  "metadata": {
    "colab": {
      "provenance": [],
      "authorship_tag": "ABX9TyNwr8iWqHNEL33uNsvEle4u",
      "include_colab_link": true
    },
    "kernelspec": {
      "name": "python3",
      "display_name": "Python 3"
    },
    "language_info": {
      "name": "python"
    }
  },
  "cells": [
    {
      "cell_type": "markdown",
      "metadata": {
        "id": "view-in-github",
        "colab_type": "text"
      },
      "source": [
        "<a href=\"https://colab.research.google.com/github/Metodoscomputacionales1/Metodos1_PedroAngarita_SimonUribe/blob/main/FuncionesFinal.ipynb\" target=\"_parent\"><img src=\"https://colab.research.google.com/assets/colab-badge.svg\" alt=\"Open In Colab\"/></a>"
      ]
    },
    {
      "cell_type": "code",
      "execution_count": null,
      "metadata": {
        "id": "cO5xJZ3JZ2-x"
      },
      "outputs": [],
      "source": [
        "import numpy as np\n",
        "import matplotlib.pyplot as plt\n",
        "import sympy as sym\n"
      ]
    },
    {
      "cell_type": "code",
      "source": [
        "def factorial(n):\n",
        "\n",
        "  if n==0 or n == 1:\n",
        "    return 1\n",
        "\n",
        "  else:\n",
        "\n",
        "    f = 1\n",
        "    it = 1 # Iterador\n",
        "    while it <= n:\n",
        "      f *= it\n",
        "      it += 1\n",
        "\n",
        "    return f"
      ],
      "metadata": {
        "id": "hsz2-1wHaaVk"
      },
      "execution_count": null,
      "outputs": []
    },
    {
      "cell_type": "code",
      "source": [
        "def fibonnaci(n):\n",
        "\n",
        "  numeros = np.zeros(n, dtype=int)\n",
        "  numeros[1] = 1\n",
        "\n",
        "  for i in range(2,n):\n",
        "    numeros[i] = numeros[i-1] + numeros[i-2]\n",
        "\n",
        "  #print(numeros)\n",
        "  return numeros"
      ],
      "metadata": {
        "id": "R8bZY9NzabK9"
      },
      "execution_count": null,
      "outputs": []
    },
    {
      "cell_type": "code",
      "source": [
        "def Aurea(numeros):\n",
        "\n",
        "  l = np.array([0])\n",
        "  print(l)\n",
        "  for i in range(2,numeros.shape[0]):\n",
        "    l = np.append(l, (numeros[i]/numeros[i-1]))\n",
        "\n",
        "  return l"
      ],
      "metadata": {
        "id": "0u8PZRolagnE"
      },
      "execution_count": null,
      "outputs": []
    },
    {
      "cell_type": "code",
      "source": [
        "def RightDerivative(f,x,h):\n",
        "\n",
        "  d = 0.\n",
        "\n",
        "  if h != 0:\n",
        "    d = (f(x+h) - f(x))/h\n",
        "\n",
        "  return d\n",
        "\n",
        "def LeftDerivative(f,x,h):\n",
        "\n",
        "  d = 0.\n",
        "\n",
        "  if h != 0:\n",
        "    d = (f(x) - f(x-h))/h\n",
        "\n",
        "  return d\n",
        "\n",
        "def CentralDerivative(f,x,h):\n",
        "\n",
        "  d = 0.\n",
        "\n",
        "  if h != 0:\n",
        "    d = (f(x+h) - f(x-h))/(2*h)\n",
        "\n",
        "  return d"
      ],
      "metadata": {
        "id": "vwXcMbenbZe5"
      },
      "execution_count": null,
      "outputs": []
    },
    {
      "cell_type": "code",
      "source": [
        "# para graficar error es la derivada (R,L, C), menos al exacta en np.abs"
      ],
      "metadata": {
        "id": "stVFXzYGblfQ"
      },
      "execution_count": null,
      "outputs": []
    },
    {
      "cell_type": "code",
      "source": [
        "def SegundaDerivada(f,x,h):\n",
        "  return (f(x+h) - 2*f(x) + f(x-h))/h**2"
      ],
      "metadata": {
        "id": "gjBRmZWRbxyw"
      },
      "execution_count": null,
      "outputs": []
    },
    {
      "cell_type": "code",
      "source": [
        "def GetDistance(x):\n",
        "  return np.sqrt( ( p[0] - x )**2 + (p[1] - Recta(x))**2 )\n",
        "\n",
        "#siendo p el punto y Recta la funcion"
      ],
      "metadata": {
        "id": "uQDzTglKb40Z"
      },
      "execution_count": null,
      "outputs": []
    },
    {
      "cell_type": "code",
      "source": [
        "#encontrar un minimo:\n",
        "#Mini = np.where( d == np.amin(d) )\n",
        "#donde d es la distancia a cada punto de la recta"
      ],
      "metadata": {
        "id": "Plq8Jy5FcNW8"
      },
      "execution_count": null,
      "outputs": []
    },
    {
      "cell_type": "code",
      "source": [
        "#Encontar donde la funcion es 0\n",
        "def GetNewtonMethod(f,xn,itmax=100,precision=1e-8):\n",
        "\n",
        "  error = 1\n",
        "  it = 0\n",
        "\n",
        "  while error > precision and it < itmax:\n",
        "    try:\n",
        "      xn1 = xn - CentralDerivative(f,xn, 0.01)/SegundaDerivada(f,xn, 0.01)\n",
        "      error = np.abs(CentralDerivative(f,xn,0.01)/SegundaDerivada(f,xn,0.01))\n",
        "    except ZeroDivisionError:\n",
        "      print('Division by zero error')\n",
        "    xn = xn1\n",
        "    it += 1\n",
        " # print(it,xn)\n",
        "  if it == itmax:\n",
        "    return False\n",
        "  else:\n",
        "    return xn\n",
        "\n",
        "def f (x):\n",
        "  return 3*x**5+5*x**4-x**3\n",
        "\n",
        "x=np.linspace(0,10,100)\n",
        "Minimo=GetNewtonMethod(f,1)\n",
        "print(Minimo)\n",
        "#Preguntar que es ese xn, GetNewtonMethod(f,xn) es el punto?"
      ],
      "metadata": {
        "colab": {
          "base_uri": "https://localhost:8080/"
        },
        "id": "Oihm6o2Pcr_T",
        "outputId": "cce2e2db-c29f-49a8-fb70-e4974db4444f"
      },
      "execution_count": null,
      "outputs": [
        {
          "output_type": "stream",
          "name": "stdout",
          "text": [
            "0.13559489272801178\n"
          ]
        }
      ]
    },
    {
      "cell_type": "code",
      "source": [
        "def GetNewtonMethod(f,df,xn,itmax=1000,precision=1e-16):\n",
        "\n",
        "  error = 1\n",
        "  it = 0\n",
        "\n",
        "  while error > precision and it < itmax:\n",
        "    try:\n",
        "      xn1 = xn - f(xn)/df(f,xn)\n",
        "      error = np.abs(f(xn)/df(f,xn))\n",
        "    except ZeroDivisionError:\n",
        "      print('Division by zero error')\n",
        "    xn = xn1\n",
        "    it += 1\n",
        "\n",
        "  if it == itmax:\n",
        "    return False\n",
        "  else:\n",
        "    return xn\n"
      ],
      "metadata": {
        "id": "ML4YU33ifJEJ"
      },
      "execution_count": null,
      "outputs": []
    },
    {
      "cell_type": "code",
      "source": [
        "# Buscando todas las raices\n",
        "def GetAllRoots(x, tolerancia = 16):\n",
        "\n",
        "  Roots = np.array([])\n",
        "\n",
        "  for i in x:\n",
        "\n",
        "    root = GetNewtonMethod(Function,Derivative,i)\n",
        "\n",
        "    if root != False:\n",
        "\n",
        "      croot = np.round( root, tolerancia)\n",
        "\n",
        "      if croot not in Roots:\n",
        "        Roots = np.append(Roots,croot)\n",
        "\n",
        "  Roots.sort()\n",
        "\n",
        "  return Roots\n",
        "\n",
        "def derivcentral(f,x,h):\n",
        "  return (f(x+h)-f(x-h))/(2*h)\n",
        "\n",
        "@np.vectorize\n",
        "def find_root_iters(f,x0,h=1e-8,max_iters=550,atol=1e-9,rtol=1e-9):\n",
        "  it=0\n",
        "  while it<max_iters and np.isclose(0.,f(x0),atol,rtol)==False:\n",
        "    x = x0 - f(x0)/derivcentral(f,x0, 0.01)\n",
        "    x0 = x\n",
        "    it += 1\n",
        "  return it,x0\n",
        "\n",
        "def find_root(f,x0,h=1e-8,max_iters=550,atol=1e-9,rtol=1e-9):\n",
        "  return find_root_iters(f,x0)[1]\n",
        "\n",
        "x0=np.linspace(-50,50,1000)\n",
        "\n",
        "def f(x):\n",
        "  return x**4-7*x**3-8\n",
        "\n",
        "np.unique(np.round(find_root(f,x0),4))"
      ],
      "metadata": {
        "id": "8wEyoDSRfZQz"
      },
      "execution_count": null,
      "outputs": []
    },
    {
      "cell_type": "code",
      "source": [
        "#Preguntar en lo de derivada superior como es que se sacaban los coeficientes de cada f(x-3h), f(x-2h).....f(x+2h)\n"
      ],
      "metadata": {
        "id": "xZwZN1McfqE_"
      },
      "execution_count": null,
      "outputs": []
    },
    {
      "cell_type": "code",
      "source": [
        "#Decenso del gradiente y plotting stuff\n",
        "def Plotter(e):\n",
        "\n",
        "  fig = plt.figure(figsize=(5,5))\n",
        "  ax = fig.add_subplot(111)\n",
        "  ax.set_title('{:.0f}'.format(e),fontsize=10)\n",
        "\n",
        "  return fig,ax\n",
        "\n",
        "def GradientDescent(f,epochs=100,lr=1,tolerancia=1e-4):\n",
        "\n",
        "  # AJustar la semilla\n",
        "  x = np.random.uniform(-10,10)\n",
        "\n",
        "  for e in range(epochs):\n",
        "\n",
        "    #Algorithm\n",
        "    x1  = x - lr*Derivada(f,x)\n",
        "\n",
        "    x = x1\n",
        "\n",
        "    # Plotting stuff\n",
        "    clear_output(wait=True)\n",
        "    _,ax = Plotter(e)\n",
        "\n",
        "    ax.plot(xvalues,yvalues)\n",
        "\n",
        "    ax.scatter(x,f(x),color='r')\n",
        "\n",
        "    plt.show()"
      ],
      "metadata": {
        "id": "ewEo7wWKgJmc"
      },
      "execution_count": null,
      "outputs": []
    },
    {
      "cell_type": "code",
      "source": [
        "#Interpolacion\n",
        "\n",
        "x = sym.Symbol('x',real=True)\n",
        "\n",
        "def Lagrange(x,X,i):\n",
        "\n",
        "  L = 1\n",
        "  for j in range(len(X)):\n",
        "    if i != j:\n",
        "      L *= (x-X[j])/(X[i]-X[j])\n",
        "  return L\n",
        "\n",
        "def Interpolate(x,X,Y):\n",
        "\n",
        "  Poly = 0\n",
        "  for i in range(len(X)):\n",
        "    Poly += Y[i]*Lagrange(x,X,i)\n",
        "  return Poly\n",
        "\n",
        "#Parece serr que los coeficientes de la derivada superior se sacan dreivando cada base de lagrange,\n",
        "#entonces para el primer F(x-3h) se una la derivada de la primera base de lagrange sustitudia (subs(x,0)) en cero"
      ],
      "metadata": {
        "id": "eOZcSTsOgS1J"
      },
      "execution_count": null,
      "outputs": []
    },
    {
      "cell_type": "code",
      "source": [
        "#Integracion\n",
        "class Integrator:\n",
        "\n",
        "  def __init__(self, x, f):\n",
        "\n",
        "    self.x = x\n",
        "    # Integration step\n",
        "    self.h = self.x[1] - self.x[0]\n",
        "    self.y = f(self.x)\n",
        "\n",
        "    self.Integral = 0.\n",
        "\n",
        "\n",
        "class Trapezoid (Integrator):\n",
        "\n",
        "  def __init__(self, x, f):\n",
        "    Integrator.__init__(self, x, f)\n",
        "\n",
        "\n",
        "  def Itegrals(self):\n",
        "    self.Integral=0.\n",
        "    #para que no se acumule cada vez\n",
        "    self.Integral += 0.5*(self.y[0]+self.y[-1])\n",
        "\n",
        "    self.Integral += np.sum(self.y[1:-1])\n",
        "\n",
        "\n",
        "\n",
        "    return self.Integral*self.h\n",
        "\n",
        "class Simpson (Integrator):\n",
        "\n",
        "  def __init__(self, x, f):\n",
        "    Integrator.__init__(self, x, f)\n",
        "\n",
        "\n",
        "  def Itegrals(self):\n",
        "    self.Integral=0\n",
        "\n",
        "    self.Integral += self.y[0]+self.y[-1]\n",
        "\n",
        "    for i in range(len(self.y[1:-1])):\n",
        "      if i%2==0:\n",
        "        self.Integral += 4*self.y[i+1]\n",
        "        # el mas 1 es para quedar en impares\n",
        "      else:\n",
        "        self.Integral += 2*self.y[i+1]\n",
        "    return self.Integral*self.h/3"
      ],
      "metadata": {
        "id": "BpN9xLhQhLUS"
      },
      "execution_count": null,
      "outputs": []
    },
    {
      "cell_type": "code",
      "source": [
        "#Cuadratura de Gauss\n",
        "def GetAllRoots(f,df,x, tolerancia=13):\n",
        "\n",
        "    Roots = np.array([])\n",
        "\n",
        "    for i in x:\n",
        "\n",
        "        root = GetNewtonMethod(f,df,i)\n",
        "\n",
        "        if root != False:\n",
        "\n",
        "            croot = np.round( root, tolerancia )\n",
        "\n",
        "            if croot not in Roots:\n",
        "                Roots = np.append( Roots, croot )\n",
        "\n",
        "    # Ordenamos las raices\n",
        "    Roots.sort()\n",
        "\n",
        "    return Roots\n",
        "\n",
        "def Legendre(n):\n",
        "\n",
        "  x = sym.Symbol('x',Real=True)\n",
        "  y = sym.Symbol('y',Real=True)\n",
        "\n",
        "  y = (x**2 - 1)**n\n",
        "\n",
        "  p = sym.diff(y,x,n)/(2**n * np.math.factorial(n))\n",
        "\n",
        "  return p\n",
        "\n",
        "def GetRootsWeights(n,xi,poly,dpoly):\n",
        "\n",
        "    x = sym.Symbol('x',Real=True)\n",
        "    pn = sym.lambdify([x],poly[n],'numpy')\n",
        "    dpn = sym.lambdify([x],dpoly[n],'numpy')\n",
        "    Roots = GetAllRoots(pn,dpn,xi)\n",
        "    Weights = 2/((1-Roots**2)*(dpn(Roots)**2))\n",
        "\n",
        "    return Roots, Weights"
      ],
      "metadata": {
        "id": "CF383Eskc3Q0"
      },
      "execution_count": null,
      "outputs": []
    },
    {
      "cell_type": "code",
      "source": [
        "#Sustitucion para convertir una integral de un numero s a otro r a -1, 1\n",
        "t=0.5*((b-a)*Roots + a + b)\n",
        "#Calculo de integral con dicha sustitucion:\n",
        "Integral=0.5*(b-a)*np.sum(Weights*f(t))"
      ],
      "metadata": {
        "id": "1y5IgktskRiN"
      },
      "execution_count": null,
      "outputs": []
    },
    {
      "cell_type": "code",
      "source": [
        "x=sym.Symbol('x',Real=True)\n",
        "L0=x*(x-1)/2\n",
        "sym.integrate(L0,(x,-3,3))\n",
        "# la funcion, y entre que valores (x, Vi, Vf)\n",
        "sym.oo #significa infinito"
      ],
      "metadata": {
        "id": "efK-cYaXlc7p"
      },
      "execution_count": null,
      "outputs": []
    },
    {
      "cell_type": "code",
      "source": [
        "# Procedimiento:\n",
        "Raices, Pesos=np.polynomial.hermite.hermgauss(10)\n",
        "Raices, Pesos\n",
        "#Sacar pesos y raices con el modulo\n",
        "r= lambda x: ((1+x**2)**(1/2))/((np.sin(x)+1)**2)\n",
        "#defines la funcion\n",
        "I=np.sum(Pesos*r(Raices))\n",
        "# y las sumas\n",
        "\n",
        "#Ahora depende de los limites\n",
        "# si es en un limite definido Legand (para -1, 1)\n",
        "#Si de 0 a infinito Lagerre (se quita un e^-x)\n",
        "# si de -oo a oo Hermite(se quita un e^-x**2)"
      ],
      "metadata": {
        "id": "LOxyRtcKlz1a"
      },
      "execution_count": null,
      "outputs": []
    },
    {
      "cell_type": "code",
      "source": [
        "#1D\n",
        "def GradientDescent(f,df,epochs=100,lr=1,tolerancia=1e-4):\n",
        "\n",
        "  # AJustar la semilla\n",
        "  x = np.random.uniform(-10,10)\n",
        "\n",
        "  for e in range(epochs):\n",
        "\n",
        "    #Algorithm\n",
        "    x1  = x - lr*df(f,x)\n",
        "\n",
        "    x = x1\n",
        "\n",
        "    # Plotting stuff\n",
        "    clear_output(wait=True)\n",
        "    _,ax = Plotter(e)\n",
        "\n",
        "    ax.plot(xvalues,yvalues)\n",
        "\n",
        "    ax.scatter(x,f(x),color='r')\n",
        "\n",
        "    plt.show()"
      ],
      "metadata": {
        "id": "7jmxwXSehnaB"
      },
      "execution_count": null,
      "outputs": []
    },
    {
      "cell_type": "code",
      "source": [
        "#2D\n",
        "def GradientDescent(f,epochs=100,lr=1,tolerancia=1e-4):\n",
        "\n",
        "  # AJustar la semilla\n",
        "  x = np.random.uniform(-10,10)\n",
        "  y= np.random.uniform(-10,10)\n",
        "\n",
        "  for e in range(epochs):\n",
        "\n",
        "    #Algorithm\n",
        "    x1  = x - lr*Dx(x,y)\n",
        "    y1  = y - lr*Dy(x,y)\n",
        "\n",
        "    x = x1\n",
        "    y= y1\n",
        "\n",
        "\n",
        "  return x,y"
      ],
      "metadata": {
        "id": "WrDEg3hYoOb9"
      },
      "execution_count": null,
      "outputs": []
    },
    {
      "cell_type": "code",
      "source": [
        "def Cuadaptativa (n,f, a , b, tol, fa, fb, fc):\n",
        "  c=(a+b)/2\n",
        "  h=(b-a)\n",
        "  fd=f((a+c)/2)\n",
        "  fe= f((c+b)/2)\n",
        "  S1=(h/6)*(fa+4*fc+fb)\n",
        "  S2=(h/12)*(fa+4*fd+2*fc+4*fe+fb)\n",
        "  #print(\"S1: \", S1)\n",
        "  #print(\"S2: \", S2)\n",
        "\n",
        "  if abs(S2-S1) <= tol or n<1:\n",
        "    Q=S2+(S2-S1)/15\n",
        "  else:\n",
        "    Q1=Cuadaptativa(n-1,f, a, c, tol, fa, fd,fc)\n",
        "    Q2=Cuadaptativa(n-1,f, c, b, tol, fc, fe,fb)\n",
        "    Q=Q1+Q2\n",
        "  return Q"
      ],
      "metadata": {
        "id": "UdJ2-M7ynFWc"
      },
      "execution_count": null,
      "outputs": []
    },
    {
      "cell_type": "code",
      "source": [
        "#Gradiente\n",
        "Dx= lambda x,y, h=1e-5: (f2(x+h, y)-f2(x-h,y))/(2*h)\n",
        "Dy= lambda x,y, h=1e-5: (f2(x, y+h)-f2(x,y-h))/(2*h)\n",
        "Gradiente=lambda x, y : np.array([Dx(x,y), Dy(x,y)])\n",
        "#Angulo del gradiente\n",
        "theta=np.arctan(D(x0,y0)[1]/D(x0,y0)[0])+np.pi\n",
        "theta=theta*180/np.pi\n",
        "#Calculo de derivada direccional\n",
        "u= lambda theta: np.array([np.cos(theta), np.sin(theta)])\n",
        "def derivdirect (x0,y0, theta):\n",
        "  return np.dot(D(x0,y0), u(theta))"
      ],
      "metadata": {
        "id": "MwS1aAj0nTjn"
      },
      "execution_count": null,
      "outputs": []
    },
    {
      "cell_type": "code",
      "source": [
        "def Minimizer (f, N=100, gamma=0.01):\n",
        "  r=np.zeros((N,2))\n",
        "  # en 2 despues de ene es la dimencion en este caso R^2\n",
        "\n",
        "  r[0]=np.random.uniform(-10,10)\n",
        "\n",
        "  grad=np.zeros_like(r)\n",
        "\n",
        "  grad[0]=Gradiente(r[0,0],r[0,1])\n",
        "\n",
        "  for i in range (1,N):\n",
        "    r[i]=r[i-1]-gamma*grad[i-1]\n",
        "    grad[i]=Gradiente(r[i,0],r[i,1])\n",
        "\n",
        "  return r"
      ],
      "metadata": {
        "id": "ryLohzqQoENB"
      },
      "execution_count": null,
      "outputs": []
    },
    {
      "cell_type": "code",
      "source": [
        "def GaussJordan(A_, b_):\n",
        "\n",
        "  A = A_.copy()\n",
        "  b = b_.copy()\n",
        "\n",
        "  n = A.shape[0]\n",
        "\n",
        "  for i in range(n):\n",
        "    for j in range(i+1,n):\n",
        "      a = A[j,i]/A[i,i]\n",
        "      A[j,:] -= a*A[i,:]\n",
        "      b[j] -= a*b[i]\n",
        "\n",
        "  x = np.zeros_like(b)\n",
        "\n",
        "  for i in reversed(range(n)):\n",
        "    x[i] = b[i]\n",
        "\n",
        "    for j in range(i+1,n):\n",
        "      x[i] -= A[i,j]*x[j]\n",
        "\n",
        "    x[i] /= A[i,i]\n",
        "\n",
        "\n",
        "  return x"
      ],
      "metadata": {
        "id": "KSy38yvF0utM"
      },
      "execution_count": null,
      "outputs": []
    },
    {
      "cell_type": "code",
      "source": [
        "class SolLin:\n",
        "\n",
        "  def __init__(self, mat, vect):\n",
        "    self.mat = mat\n",
        "    self.vect = vect\n",
        "    self.itmax = 1000\n",
        "    self.tol= 1e-16\n",
        "    self.x0= np.array([0.,0.,0.])\n",
        "\n",
        "class Jacobi (SolLin):\n",
        "\n",
        "  def __init__(self, mat, vect):\n",
        "    SolLin.__init__(self, mat, vect)\n",
        "\n",
        "  def Jacobi(self):\n",
        "\n",
        "    x = self.x0.copy()\n",
        "\n",
        "    for it in range(self.itmax):\n",
        "\n",
        "      x_new = np.copy(x)\n",
        "\n",
        "\n",
        "      for i in range(self.mat.shape[0]):\n",
        "\n",
        "        Suma = 0.\n",
        "        for j in range(self.mat.shape[1]):\n",
        "\n",
        "          if i != j:\n",
        "            Suma += (self.mat[i,j])*(x[j])\n",
        "\n",
        "\n",
        "            x_new[i] = (self.vect[i] - Suma)/(self.mat[i,i])\n",
        "\n",
        "\n",
        "\n",
        "      if np.linalg.norm( np.dot(self.mat,x_new)-(self.vect)) < self.tol:\n",
        "        break\n",
        "\n",
        "      x = np.copy(x_new)\n",
        "\n",
        "\n",
        "    return it\n",
        "\n",
        "A = np.array([[3,-1,-1],[-1,3,1],[2,1,4]])\n",
        "b=np.array([1.,3.,7.])\n",
        "\n",
        "Mat1=Jacobi(A,b)\n",
        "print(Mat1.Jacobi())"
      ],
      "metadata": {
        "id": "UYiv2SbB2Dbl"
      },
      "execution_count": null,
      "outputs": []
    },
    {
      "cell_type": "code",
      "source": [
        "class GaussSeidel (SolLin):\n",
        "\n",
        "  def __init__(self, mat, vect):\n",
        "    SolLin.__init__(self, mat, vect)\n",
        "\n",
        "  def  GaussSeidel(self):\n",
        "\n",
        "    x = self.x0.copy()\n",
        "\n",
        "    for it in range(self.itmax):\n",
        "\n",
        "      x_new = np.copy(x)\n",
        "\n",
        "      for i in range(self.mat.shape[0]):\n",
        "\n",
        "        Suma = 0.\n",
        "        for j in range(self.mat.shape[1]):\n",
        "          if i != j:\n",
        "            Suma += self.mat[i,j]*x_new[j]\n",
        "            x_new[i] = (self.vect[i] - Suma)/(self.mat[i,i])\n",
        "\n",
        "      if np.linalg.norm( np.dot(self.mat,x_new)-self.vect) < self.tol:\n",
        "        break\n",
        "\n",
        "      x = np.copy(x_new)\n",
        "\n",
        "    return it\n",
        "\n",
        "Mat1=GaussSeidel(A,b)\n",
        "print(Mat1.GaussSeidel())"
      ],
      "metadata": {
        "id": "LbiAoCfy2EZC"
      },
      "execution_count": null,
      "outputs": []
    }
  ]
}