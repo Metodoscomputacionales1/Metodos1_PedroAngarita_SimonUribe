{
  "nbformat": 4,
  "nbformat_minor": 0,
  "metadata": {
    "colab": {
      "provenance": [],
      "authorship_tag": "ABX9TyOmfG8biWfLaKnalb4pXFxw",
      "include_colab_link": true
    },
    "kernelspec": {
      "name": "python3",
      "display_name": "Python 3"
    },
    "language_info": {
      "name": "python"
    }
  },
  "cells": [
    {
      "cell_type": "markdown",
      "metadata": {
        "id": "view-in-github",
        "colab_type": "text"
      },
      "source": [
        "<a href=\"https://colab.research.google.com/github/Metodoscomputacionales1/Metodos1_PedroAngarita_SimonUribe/blob/main/Funciones2.ipynb\" target=\"_parent\"><img src=\"https://colab.research.google.com/assets/colab-badge.svg\" alt=\"Open In Colab\"/></a>"
      ]
    },
    {
      "cell_type": "code",
      "execution_count": 58,
      "metadata": {
        "id": "cO5xJZ3JZ2-x"
      },
      "outputs": [],
      "source": [
        "import numpy as np\n",
        "import matplotlib.pyplot as plt\n",
        "import sympy as sym\n"
      ]
    },
    {
      "cell_type": "code",
      "source": [
        "def factorial(n):\n",
        "\n",
        "  if n==0 or n == 1:\n",
        "    return 1\n",
        "\n",
        "  else:\n",
        "\n",
        "    f = 1\n",
        "    it = 1 # Iterador\n",
        "    while it <= n:\n",
        "      f *= it\n",
        "      it += 1\n",
        "\n",
        "    return f"
      ],
      "metadata": {
        "id": "hsz2-1wHaaVk"
      },
      "execution_count": 59,
      "outputs": []
    },
    {
      "cell_type": "code",
      "source": [
        "def fibonnaci(n):\n",
        "\n",
        "  numeros = np.zeros(n, dtype=int)\n",
        "  numeros[1] = 1\n",
        "\n",
        "  for i in range(2,n):\n",
        "    numeros[i] = numeros[i-1] + numeros[i-2]\n",
        "\n",
        "  #print(numeros)\n",
        "  return numeros"
      ],
      "metadata": {
        "id": "R8bZY9NzabK9"
      },
      "execution_count": 60,
      "outputs": []
    },
    {
      "cell_type": "code",
      "source": [
        "def Aurea(numeros):\n",
        "\n",
        "  l = np.array([0])\n",
        "  print(l)\n",
        "  for i in range(2,numeros.shape[0]):\n",
        "    l = np.append(l, (numeros[i]/numeros[i-1]))\n",
        "\n",
        "  return l"
      ],
      "metadata": {
        "id": "0u8PZRolagnE"
      },
      "execution_count": 61,
      "outputs": []
    },
    {
      "cell_type": "code",
      "source": [
        "def RightDerivative(f,x,h):\n",
        "\n",
        "  d = 0.\n",
        "\n",
        "  if h != 0:\n",
        "    d = (f(x+h) - f(x))/h\n",
        "\n",
        "  return d\n",
        "\n",
        "def LeftDerivative(f,x,h):\n",
        "\n",
        "  d = 0.\n",
        "\n",
        "  if h != 0:\n",
        "    d = (f(x) - f(x-h))/h\n",
        "\n",
        "  return d\n",
        "\n",
        "def CentralDerivative(f,x,h):\n",
        "\n",
        "  d = 0.\n",
        "\n",
        "  if h != 0:\n",
        "    d = (f(x+h) - f(x-h))/(2*h)\n",
        "\n",
        "  return d"
      ],
      "metadata": {
        "id": "vwXcMbenbZe5"
      },
      "execution_count": 62,
      "outputs": []
    },
    {
      "cell_type": "code",
      "source": [
        "# para graficar error es la derivada (R,L, C), menos al exacta en np.abs"
      ],
      "metadata": {
        "id": "stVFXzYGblfQ"
      },
      "execution_count": 63,
      "outputs": []
    },
    {
      "cell_type": "code",
      "source": [
        "def SegundaDerivada(f,x,h):\n",
        "  return (f(x+h) - 2*f(x) + f(x-h))/h**2"
      ],
      "metadata": {
        "id": "gjBRmZWRbxyw"
      },
      "execution_count": 64,
      "outputs": []
    },
    {
      "cell_type": "code",
      "source": [
        "def GetDistance(x):\n",
        "  return np.sqrt( ( p[0] - x )**2 + (p[1] - Recta(x))**2 )\n",
        "\n",
        "#siendo p el punto y Recta la funcion"
      ],
      "metadata": {
        "id": "uQDzTglKb40Z"
      },
      "execution_count": 65,
      "outputs": []
    },
    {
      "cell_type": "code",
      "source": [
        "#encontrar un minimo:\n",
        "#Mini = np.where( d == np.amin(d) )\n",
        "#donde d es la distancia a cada punto de la recta"
      ],
      "metadata": {
        "id": "Plq8Jy5FcNW8"
      },
      "execution_count": 66,
      "outputs": []
    },
    {
      "cell_type": "code",
      "source": [
        "#Encontar donde la funcion es 0\n",
        "def GetNewtonMethod(f,xn,itmax=100,precision=1e-8):\n",
        "\n",
        "  error = 1\n",
        "  it = 0\n",
        "\n",
        "  while error > precision and it < itmax:\n",
        "    try:\n",
        "      xn1 = xn - CentralDerivative(f,xn, 0.01)/SegundaDerivada(f,xn, 0.01)\n",
        "      error = np.abs(CentralDerivative(f,xn,0.01)/SegundaDerivada(f,xn,0.01))\n",
        "    except ZeroDivisionError:\n",
        "      print('Division by zero error')\n",
        "    xn = xn1\n",
        "    it += 1\n",
        " # print(it,xn)\n",
        "  if it == itmax:\n",
        "    return False\n",
        "  else:\n",
        "    return xn\n",
        "\n",
        "def f (x):\n",
        "  return 3*x**5+5*x**4-x**3\n",
        "\n",
        "x=np.linspace(0,10,100)\n",
        "Minimo=GetNewtonMethod(f,1)\n",
        "print(Minimo)\n",
        "#Preguntar que es ese xn, GetNewtonMethod(f,xn) es el punto?"
      ],
      "metadata": {
        "colab": {
          "base_uri": "https://localhost:8080/"
        },
        "id": "Oihm6o2Pcr_T",
        "outputId": "cce2e2db-c29f-49a8-fb70-e4974db4444f"
      },
      "execution_count": 67,
      "outputs": [
        {
          "output_type": "stream",
          "name": "stdout",
          "text": [
            "0.13559489272801178\n"
          ]
        }
      ]
    },
    {
      "cell_type": "code",
      "source": [
        "def GetNewtonMethod(f,df,xn,itmax=1000,precision=1e-16):\n",
        "\n",
        "  error = 1\n",
        "  it = 0\n",
        "\n",
        "  while error > precision and it < itmax:\n",
        "    try:\n",
        "      xn1 = xn - f(xn)/df(f,xn)\n",
        "      error = np.abs(f(xn)/df(f,xn))\n",
        "    except ZeroDivisionError:\n",
        "      print('Division by zero error')\n",
        "    xn = xn1\n",
        "    it += 1\n",
        "\n",
        "  if it == itmax:\n",
        "    return False\n",
        "  else:\n",
        "    return xn\n"
      ],
      "metadata": {
        "id": "ML4YU33ifJEJ"
      },
      "execution_count": 68,
      "outputs": []
    },
    {
      "cell_type": "code",
      "source": [
        "# Buscando todas las raices\n",
        "def GetAllRoots(x, tolerancia = 16):\n",
        "\n",
        "  Roots = np.array([])\n",
        "\n",
        "  for i in x:\n",
        "\n",
        "    root = GetNewtonMethod(Function,Derivative,i)\n",
        "\n",
        "    if root != False:\n",
        "\n",
        "      croot = np.round( root, tolerancia)\n",
        "\n",
        "      if croot not in Roots:\n",
        "        Roots = np.append(Roots,croot)\n",
        "\n",
        "  Roots.sort()\n",
        "\n",
        "  return Roots"
      ],
      "metadata": {
        "id": "8wEyoDSRfZQz"
      },
      "execution_count": 69,
      "outputs": []
    },
    {
      "cell_type": "code",
      "source": [
        "#Preguntar en lo de derivada superior como es que se sacaban los coeficientes de cada f(x-3h), f(x-2h).....f(x+2h)\n"
      ],
      "metadata": {
        "id": "xZwZN1McfqE_"
      },
      "execution_count": 70,
      "outputs": []
    },
    {
      "cell_type": "code",
      "source": [
        "def derivcentral(f,x,h):\n",
        "  return (f(x+h)-f(x-h))/(2*h)\n",
        "\n",
        "@np.vectorize\n",
        "def find_root_iters(f,x0,h=1e-8,max_iters=550,atol=1e-9,rtol=1e-9):\n",
        "  it=0\n",
        "  while it<max_iters and np.isclose(0.,f(x0),atol,rtol)==False:\n",
        "    x = x0 - f(x0)/derivcentral(f,x0, 0.01)\n",
        "    x0 = x\n",
        "    it += 1\n",
        "  return it,x0\n",
        "\n",
        "def find_root(f,x0,h=1e-8,max_iters=550,atol=1e-9,rtol=1e-9):\n",
        "  return find_root_iters(f,x0)[1]\n",
        "\n",
        "x0=np.linspace(-50,50,1000)\n",
        "\n",
        "def f(x):\n",
        "  return x**4-7*x**3-8\n",
        "\n",
        "np.unique(np.round(find_root(f,x0),4))\n"
      ],
      "metadata": {
        "colab": {
          "base_uri": "https://localhost:8080/"
        },
        "id": "hvHuQTSYSL2B",
        "outputId": "509d1117-aba9-4186-a491-310845af4e70"
      },
      "execution_count": 71,
      "outputs": [
        {
          "output_type": "execute_result",
          "data": {
            "text/plain": [
              "array([-1.    ,  7.0231])"
            ]
          },
          "metadata": {},
          "execution_count": 71
        }
      ]
    },
    {
      "cell_type": "code",
      "source": [
        "def derivcentral(f,x,h):\n",
        "  return (f(x+h)-f(x-h))/(2*h)\n",
        "\n",
        "@np.vectorize\n",
        "def find_root_iters(f,x0,h=1e-8,max_iters=550,atol=1e-9,rtol=1e-9):\n",
        "  it=0\n",
        "  while it<max_iters and np.isclose(0.,f(x0),atol,rtol)==False:\n",
        "    x = x0 - f(x0)/derivcentral(f,x0, 0.01)\n",
        "    x0 = x\n",
        "    it += 1\n",
        "  return it,x0\n",
        "\n",
        "def find_root(f,x0,h=1e-8,max_iters=550,atol=1e-9,rtol=1e-9):\n",
        "  return find_root_iters(f,x0)[1]\n",
        "\n",
        "x0=np.linspace(-50,50,1000)\n",
        "\n",
        "def f(x):\n",
        "  return x**4-7*x**3-8\n",
        "\n",
        "np.unique(np.round(find_root(f,x0),4))"
      ],
      "metadata": {
        "id": "43eCSUsXWSef"
      },
      "execution_count": null,
      "outputs": []
    },
    {
      "cell_type": "code",
      "source": [
        "#Decenso del gradiente y plotting stuff\n",
        "def Plotter(e):\n",
        "\n",
        "  fig = plt.figure(figsize=(5,5))\n",
        "  ax = fig.add_subplot(111)\n",
        "  ax.set_title('{:.0f}'.format(e),fontsize=10)\n",
        "\n",
        "  return fig,ax\n",
        "\n",
        "def GradientDescent(f,epochs=100,lr=1,tolerancia=1e-4):\n",
        "\n",
        "  # AJustar la semilla\n",
        "  x = np.random.uniform(-10,10)\n",
        "\n",
        "  for e in range(epochs):\n",
        "\n",
        "    #Algorithm\n",
        "    x1  = x - lr*Derivada(f,x)\n",
        "\n",
        "    x = x1\n",
        "\n",
        "    # Plotting stuff\n",
        "    clear_output(wait=True)\n",
        "    _,ax = Plotter(e)\n",
        "\n",
        "    ax.plot(xvalues,yvalues)\n",
        "\n",
        "    ax.scatter(x,f(x),color='r')\n",
        "\n",
        "    plt.show()"
      ],
      "metadata": {
        "id": "ewEo7wWKgJmc"
      },
      "execution_count": 72,
      "outputs": []
    },
    {
      "cell_type": "code",
      "source": [
        "#Interpolacion\n",
        "\n",
        "x = sym.Symbol('x',real=True)\n",
        "\n",
        "def Lagrange(x,X,i):\n",
        "\n",
        "  L = 1\n",
        "  for j in range(len(X)):\n",
        "    if i != j:\n",
        "      L *= (x-X[j])/(X[i]-X[j])\n",
        "  return L\n",
        "\n",
        "def Interpolate(x,X,Y):\n",
        "\n",
        "  Poly = 0\n",
        "  for i in range(len(X)):\n",
        "    Poly += Y[i]*Lagrange(x,X,i)\n",
        "  return Poly\n",
        "\n",
        "#Parece serr que los coeficientes de la derivada superior se sacan dreivando cada base de lagrange,\n",
        "#entonces para el primer F(x-3h) se una la derivada de la primera base de lagrange sustitudia (subs(x,0)) en cero"
      ],
      "metadata": {
        "id": "eOZcSTsOgS1J"
      },
      "execution_count": 73,
      "outputs": []
    },
    {
      "cell_type": "code",
      "source": [
        "#Integracion\n",
        "class Integrator:\n",
        "\n",
        "  def __init__(self, x, f):\n",
        "\n",
        "    self.x = x\n",
        "    # Integration step\n",
        "    self.h = self.x[1] - self.x[0]\n",
        "    self.y = f(self.x)\n",
        "\n",
        "    self.Integral = 0.\n",
        "\n",
        "\n",
        "class Trapezoid (Integrator):\n",
        "\n",
        "  def __init__(self, x, f):\n",
        "    Integrator.__init__(self, x, f)\n",
        "\n",
        "\n",
        "  def Itegrals(self):\n",
        "    self.Integral=0.\n",
        "    #para que no se acumule cada vez\n",
        "    self.Integral += 0.5*(self.y[0]+self.y[-1])\n",
        "\n",
        "    self.Integral += np.sum(self.y[1:-1])\n",
        "\n",
        "\n",
        "\n",
        "    return self.Integral*self.h\n",
        "\n",
        "class Simpson (Integrator):\n",
        "\n",
        "  def __init__(self, x, f):\n",
        "    Integrator.__init__(self, x, f)\n",
        "\n",
        "\n",
        "  def Itegrals(self):\n",
        "    self.Integral=0\n",
        "\n",
        "    self.Integral += self.y[0]+self.y[-1]\n",
        "\n",
        "    for i in range(len(self.y[1:-1])):\n",
        "      if i%2==0:\n",
        "        self.Integral += 4*self.y[i+1]\n",
        "        # el mas 1 es para quedar en impares\n",
        "      else:\n",
        "        self.Integral += 2*self.y[i+1]\n",
        "    return self.Integral*self.h/3"
      ],
      "metadata": {
        "id": "BpN9xLhQhLUS"
      },
      "execution_count": 74,
      "outputs": []
    },
    {
      "cell_type": "code",
      "source": [
        "#Cuadratura de Gauss\n",
        "def GetAllRoots(f,df,x, tolerancia=13):\n",
        "\n",
        "    Roots = np.array([])\n",
        "\n",
        "    for i in x:\n",
        "\n",
        "        root = GetNewtonMethod(f,df,i)\n",
        "\n",
        "        if root != False:\n",
        "\n",
        "            croot = np.round( root, tolerancia )\n",
        "\n",
        "            if croot not in Roots:\n",
        "                Roots = np.append( Roots, croot )\n",
        "\n",
        "    # Ordenamos las raices\n",
        "    Roots.sort()\n",
        "\n",
        "    return Roots\n",
        "\n",
        "def Legendre(n):\n",
        "\n",
        "  x = sym.Symbol('x',Real=True)\n",
        "  y = sym.Symbol('y',Real=True)\n",
        "\n",
        "  y = (x**2 - 1)**n\n",
        "\n",
        "  p = sym.diff(y,x,n)/(2**n * np.math.factorial(n))\n",
        "\n",
        "  return p\n",
        "\n",
        "def GetRootsWeights(n,xi,poly,dpoly):\n",
        "\n",
        "    x = sym.Symbol('x',Real=True)\n",
        "    pn = sym.lambdify([x],poly[n],'numpy')\n",
        "    dpn = sym.lambdify([x],dpoly[n],'numpy')\n",
        "    Roots = GetAllRoots(pn,dpn,xi)\n",
        "    Weights = 2/((1-Roots**2)*(dpn(Roots)**2))\n",
        "\n",
        "    return Roots, Weights"
      ],
      "metadata": {
        "id": "CF383Eskc3Q0"
      },
      "execution_count": 75,
      "outputs": []
    }
  ]
}