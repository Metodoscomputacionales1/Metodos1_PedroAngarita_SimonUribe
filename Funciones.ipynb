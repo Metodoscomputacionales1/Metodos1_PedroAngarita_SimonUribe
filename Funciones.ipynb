{
  "nbformat": 4,
  "nbformat_minor": 0,
  "metadata": {
    "colab": {
      "provenance": [],
      "authorship_tag": "ABX9TyMcPxDfV/A1VwHQNOOrQ/JC",
      "include_colab_link": true
    },
    "kernelspec": {
      "name": "python3",
      "display_name": "Python 3"
    },
    "language_info": {
      "name": "python"
    }
  },
  "cells": [
    {
      "cell_type": "markdown",
      "metadata": {
        "id": "view-in-github",
        "colab_type": "text"
      },
      "source": [
        "<a href=\"https://colab.research.google.com/github/Metodoscomputacionales1/Metodos1_PedroAngarita_SimonUribe/blob/main/Funciones.ipynb\" target=\"_parent\"><img src=\"https://colab.research.google.com/assets/colab-badge.svg\" alt=\"Open In Colab\"/></a>"
      ]
    },
    {
      "cell_type": "code",
      "execution_count": 1,
      "metadata": {
        "id": "cO5xJZ3JZ2-x"
      },
      "outputs": [],
      "source": [
        "import numpy as np\n",
        "import matplotlib.pyplot as plt\n",
        "import sympy as sym\n",
        ""
      ]
    },
    {
      "cell_type": "code",
      "source": [
        "def factorial(n):\n",
        "\n",
        "  if n==0 or n == 1:\n",
        "    return 1\n",
        "\n",
        "  else:\n",
        "\n",
        "    f = 1\n",
        "    it = 1 # Iterador\n",
        "    while it <= n:\n",
        "      f *= it\n",
        "      it += 1\n",
        "\n",
        "    return f"
      ],
      "metadata": {
        "id": "hsz2-1wHaaVk"
      },
      "execution_count": 2,
      "outputs": []
    },
    {
      "cell_type": "code",
      "source": [
        "def fibonnaci(n):\n",
        "\n",
        "  numeros = np.zeros(n, dtype=int)\n",
        "  numeros[1] = 1\n",
        "\n",
        "  for i in range(2,n):\n",
        "    numeros[i] = numeros[i-1] + numeros[i-2]\n",
        "\n",
        "  #print(numeros)\n",
        "  return numeros"
      ],
      "metadata": {
        "id": "R8bZY9NzabK9"
      },
      "execution_count": 3,
      "outputs": []
    },
    {
      "cell_type": "code",
      "source": [
        "def Aurea(numeros):\n",
        "\n",
        "  l = np.array([0])\n",
        "  print(l)\n",
        "  for i in range(2,numeros.shape[0]):\n",
        "    l = np.append(l, (numeros[i]/numeros[i-1]))\n",
        "\n",
        "  return l"
      ],
      "metadata": {
        "id": "0u8PZRolagnE"
      },
      "execution_count": 4,
      "outputs": []
    },
    {
      "cell_type": "code",
      "source": [
        "def RightDerivative(f,x,h):\n",
        "\n",
        "  d = 0.\n",
        "\n",
        "  if h != 0:\n",
        "    d = (f(x+h) - f(x))/h\n",
        "\n",
        "  return d\n",
        "\n",
        "def LeftDerivative(f,x,h):\n",
        "\n",
        "  d = 0.\n",
        "\n",
        "  if h != 0:\n",
        "    d = (f(x) - f(x-h))/h\n",
        "\n",
        "  return d\n",
        "\n",
        "def CentralDerivative(f,x,h):\n",
        "\n",
        "  d = 0.\n",
        "\n",
        "  if h != 0:\n",
        "    d = (f(x+h) - f(x-h))/(2*h)\n",
        "\n",
        "  return d"
      ],
      "metadata": {
        "id": "vwXcMbenbZe5"
      },
      "execution_count": 5,
      "outputs": []
    },
    {
      "cell_type": "code",
      "source": [
        "# para graficar error es la derivada (R,L, C), menos al exacta en np.abs"
      ],
      "metadata": {
        "id": "stVFXzYGblfQ"
      },
      "execution_count": 6,
      "outputs": []
    },
    {
      "cell_type": "code",
      "source": [
        "def SegundaDerivada(f,x,h):\n",
        "  return (f(x+h) - 2*f(x) + f(x-h))/h**2"
      ],
      "metadata": {
        "id": "gjBRmZWRbxyw"
      },
      "execution_count": 7,
      "outputs": []
    },
    {
      "cell_type": "code",
      "source": [
        "def GetDistance(x):\n",
        "  return np.sqrt( ( p[0] - x )**2 + (p[1] - Recta(x))**2 )\n",
        "\n",
        "#siendo p el punto y Recta la funcion"
      ],
      "metadata": {
        "id": "uQDzTglKb40Z"
      },
      "execution_count": 8,
      "outputs": []
    },
    {
      "cell_type": "code",
      "source": [
        "#encontrar un minimo:\n",
        "Mini = np.where( d == np.amin(d) )\n",
        "#donde d es la distancia a cada punto de la recta"
      ],
      "metadata": {
        "id": "Plq8Jy5FcNW8"
      },
      "execution_count": null,
      "outputs": []
    },
    {
      "cell_type": "code",
      "source": [
        "#Encontar donde la funcion es 0\n",
        "def GetNewtonMethod(f,xn,itmax=100,precision=1e-8):\n",
        "\n",
        "  error = 1\n",
        "  it = 0\n",
        "\n",
        "  while error > precision and it < itmax:\n",
        "    try:\n",
        "      xn1 = xn - CentralDerivative(f,xn, 0.01)/SegundaDerivada(f,xn, 0.01)\n",
        "      error = np.abs(CentralDerivative(f,xn,0.01)/SegundaDerivada(f,xn,0.01))\n",
        "    except ZeroDivisionError:\n",
        "      print('Division by zero error')\n",
        "    xn = xn1\n",
        "    it += 1\n",
        " # print(it,xn)\n",
        "  if it == itmax:\n",
        "    return False\n",
        "  else:\n",
        "    return xn\n",
        "\n",
        "def f (x):\n",
        "  return 3*x**5+5*x**4-x**3\n",
        "\n",
        "x=np.linspace(0,10,100)\n",
        "Minimo=GetNewtonMethod(f,1)\n",
        "print(Minimo)\n",
        "#Preguntar que es ese xn, GetNewtonMethod(f,xn) es el punto?"
      ],
      "metadata": {
        "colab": {
          "base_uri": "https://localhost:8080/"
        },
        "id": "Oihm6o2Pcr_T",
        "outputId": "c111eff4-933a-4830-8079-fd3947290a11"
      },
      "execution_count": 21,
      "outputs": [
        {
          "output_type": "stream",
          "name": "stdout",
          "text": [
            "0.1355948927267351\n"
          ]
        }
      ]
    },
    {
      "cell_type": "code",
      "source": [
        "def GetNewtonMethod(f,df,xn,itmax=1000,precision=1e-16):\n",
        "\n",
        "  error = 1\n",
        "  it = 0\n",
        "\n",
        "  while error > precision and it < itmax:\n",
        "    try:\n",
        "      xn1 = xn - f(xn)/df(f,xn)\n",
        "      error = np.abs(f(xn)/df(f,xn))\n",
        "    except ZeroDivisionError:\n",
        "      print('Division by zero error')\n",
        "    xn = xn1\n",
        "    it += 1\n",
        "\n",
        "  if it == itmax:\n",
        "    return False\n",
        "  else:\n",
        "    return xn\n",
        ""
      ],
      "metadata": {
        "id": "ML4YU33ifJEJ"
      },
      "execution_count": 22,
      "outputs": []
    },
    {
      "cell_type": "code",
      "source": [
        "# Buscando todas las raices\n",
        "def GetAllRoots(x, tolerancia = 16):\n",
        "\n",
        "  Roots = np.array([])\n",
        "\n",
        "  for i in x:\n",
        "\n",
        "    root = GetNewtonMethod(Function,Derivative,i)\n",
        "\n",
        "    if root != False:\n",
        "\n",
        "      croot = np.round( root, tolerancia)\n",
        "\n",
        "      if croot not in Roots:\n",
        "        Roots = np.append(Roots,croot)\n",
        "\n",
        "  Roots.sort()\n",
        "\n",
        "  return Roots"
      ],
      "metadata": {
        "id": "8wEyoDSRfZQz"
      },
      "execution_count": 23,
      "outputs": []
    },
    {
      "cell_type": "code",
      "source": [
        "#Preguntar en lo de derivada superior como es que se sacaban los coeficientes de cada f(x-3h), f(x-2h).....f(x+2h)\n"
      ],
      "metadata": {
        "id": "xZwZN1McfqE_"
      },
      "execution_count": null,
      "outputs": []
    },
    {
      "cell_type": "code",
      "source": [
        "#Decenso del gradiente y plotting stuff\n",
        "def Plotter(e):\n",
        "\n",
        "  fig = plt.figure(figsize=(5,5))\n",
        "  ax = fig.add_subplot(111)\n",
        "  ax.set_title('{:.0f}'.format(e),fontsize=10)\n",
        "\n",
        "  return fig,ax\n",
        "\n",
        "def GradientDescent(f,epochs=100,lr=1,tolerancia=1e-4):\n",
        "\n",
        "  # AJustar la semilla\n",
        "  x = np.random.uniform(-10,10)\n",
        "\n",
        "  for e in range(epochs):\n",
        "\n",
        "    #Algorithm\n",
        "    x1  = x - lr*Derivada(f,x)\n",
        "\n",
        "    x = x1\n",
        "\n",
        "    # Plotting stuff\n",
        "    clear_output(wait=True)\n",
        "    _,ax = Plotter(e)\n",
        "\n",
        "    ax.plot(xvalues,yvalues)\n",
        "\n",
        "    ax.scatter(x,f(x),color='r')\n",
        "\n",
        "    plt.show()"
      ],
      "metadata": {
        "id": "ewEo7wWKgJmc"
      },
      "execution_count": 24,
      "outputs": []
    },
    {
      "cell_type": "code",
      "source": [
        "#Interpolacion\n",
        "\n",
        "x = sym.Symbol('x',real=True)\n",
        "\n",
        "def Lagrange(x,X,i):\n",
        "\n",
        "  L = 1\n",
        "  for j in range(len(X)):\n",
        "    if i != j:\n",
        "      L *= (x-X[j])/(X[i]-X[j])\n",
        "  return L\n",
        "\n",
        "def Interpolate(x,X,Y):\n",
        "\n",
        "  Poly = 0\n",
        "  for i in range(len(X)):\n",
        "    Poly += Y[i]*Lagrange(x,X,i)\n",
        "  return Poly\n",
        "\n",
        "#Parece serr que los coeficientes de la derivada superior se sacan dreivando cada base de lagrange,\n",
        "#entonces para el primer F(x-3h) se una la derivada de la primera base de lagrange sustitudia (subs(x,0)) en cero"
      ],
      "metadata": {
        "id": "eOZcSTsOgS1J"
      },
      "execution_count": null,
      "outputs": []
    },
    {
      "cell_type": "code",
      "source": [
        "#Integracion\n"
      ],
      "metadata": {
        "id": "BpN9xLhQhLUS"
      },
      "execution_count": null,
      "outputs": []
    }
  ]
}